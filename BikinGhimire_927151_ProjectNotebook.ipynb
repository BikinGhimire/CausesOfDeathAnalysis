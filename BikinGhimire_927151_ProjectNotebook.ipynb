{
 "cells": [
  {
   "cell_type": "markdown",
   "metadata": {},
   "source": [
    "## <p style = \"text-align: center; font-weight: bold;\">Analyzing Leading Causes of Death in Canada</p>"
   ]
  },
  {
   "cell_type": "markdown",
   "metadata": {},
   "source": [
    "-----------------------------------------------------------------------------------------\n",
    "#### <p style = \"text-align: center; font-weight: bold;\">Importing Data</p>\n",
    "-----------------------------------------------------------------------------------------"
   ]
  },
  {
   "cell_type": "markdown",
   "metadata": {},
   "source": [
    "#### HDFS"
   ]
  },
  {
   "cell_type": "code",
   "execution_count": 1,
   "metadata": {},
   "outputs": [
    {
     "name": "stdout",
     "output_type": "stream",
     "text": [
      "WARNING: Attempting to start all Apache Hadoop daemons as bikinghimire in 10 seconds.\n",
      "WARNING: This is not a recommended production deployment configuration.\n",
      "WARNING: Use CTRL-C to abort.\n",
      "Starting namenodes on [0.0.0.0]\n",
      "Starting datanodes\n",
      "Starting secondary namenodes [Bikins-MacBook-Pro.local]\n",
      "2024-04-13 11:07:26,645 WARN util.NativeCodeLoader: Unable to load native-hadoop library for your platform... using builtin-java classes where applicable\n",
      "Starting resourcemanager\n",
      "Starting nodemanagers\n",
      "2024-04-13 11:07:34,759 WARN util.NativeCodeLoader: Unable to load native-hadoop library for your platform... using builtin-java classes where applicable\n",
      "Safe mode is OFF\n"
     ]
    }
   ],
   "source": [
    "!start-all.sh\n",
    "!hdfs dfsadmin -safemode leave"
   ]
  },
  {
   "cell_type": "code",
   "execution_count": 2,
   "metadata": {},
   "outputs": [],
   "source": [
    "# Connect to the Hadoop cluster\n",
    "from hdfs import InsecureClient\n",
    "\n",
    "# Connect to HDFS\n",
    "client_hdfs = InsecureClient('http://localhost:9870', user='bikinghimire')"
   ]
  },
  {
   "cell_type": "code",
   "execution_count": 3,
   "metadata": {},
   "outputs": [],
   "source": [
    "# Create the project directory\n",
    "client_hdfs.makedirs('/DTSPROJECT')\n",
    "\n",
    "# Upload the dataset\n",
    "client_hdfs.upload('/DTSPROJECT', 'Datasets/OriginalData.csv')"
   ]
  },
  {
   "cell_type": "code",
   "execution_count": 6,
   "metadata": {},
   "outputs": [
    {
     "name": "stdout",
     "output_type": "stream",
     "text": [
      "2024-04-13 11:08:12,776 WARN util.NativeCodeLoader: Unable to load native-hadoop library for your platform... using builtin-java classes where applicable\n",
      "2024-04-13 11:08:12,792 WARN util.NativeCodeLoader: Unable to load native-hadoop library for your platform... using builtin-java classes where applicable\n"
     ]
    }
   ],
   "source": [
    "# Removing the header from the dataser\n",
    "!hdfs dfs -cat hdfs://localhost:19000/DTSPROJECT/OriginalData.csv | tail -n +2 | hdfs dfs -put - hdfs://localhost:19000/DTSPROJECT/OriginalData_noheader.csv"
   ]
  },
  {
   "cell_type": "code",
   "execution_count": 7,
   "metadata": {},
   "outputs": [
    {
     "data": {
      "text/plain": [
       "['OriginalData.csv', 'OriginalData_MetaData.csv', 'OriginalData_noheader.csv']"
      ]
     },
     "execution_count": 7,
     "metadata": {},
     "output_type": "execute_result"
    }
   ],
   "source": [
    "# List files in the project directory\n",
    "client_hdfs.list('/DTSPROJECT')"
   ]
  },
  {
   "cell_type": "markdown",
   "metadata": {},
   "source": [
    "#### Spark and Loading Data to Hive Table"
   ]
  },
  {
   "cell_type": "code",
   "execution_count": 8,
   "metadata": {},
   "outputs": [
    {
     "name": "stderr",
     "output_type": "stream",
     "text": [
      "Setting default log level to \"WARN\".\n",
      "To adjust logging level use sc.setLogLevel(newLevel). For SparkR, use setLogLevel(newLevel).\n",
      "24/04/13 11:08:36 WARN NativeCodeLoader: Unable to load native-hadoop library for your platform... using builtin-java classes where applicable\n"
     ]
    }
   ],
   "source": [
    "# Establish a connection to Hive\n",
    "from pyspark.sql import SparkSession\n",
    "\n",
    "# Initialize Spark session\n",
    "spark = SparkSession.builder.appName(\"HiveAnalysis\").enableHiveSupport().getOrCreate()"
   ]
  },
  {
   "cell_type": "code",
   "execution_count": 9,
   "metadata": {},
   "outputs": [
    {
     "name": "stderr",
     "output_type": "stream",
     "text": [
      "24/04/13 11:08:46 WARN HiveConf: HiveConf of name hive.stats.jdbc.timeout does not exist\n",
      "24/04/13 11:08:46 WARN HiveConf: HiveConf of name hive.stats.retries.wait does not exist\n",
      "24/04/13 11:08:50 WARN ObjectStore: Version information not found in metastore. hive.metastore.schema.verification is not enabled so recording the schema version 2.3.0\n",
      "24/04/13 11:08:50 WARN ObjectStore: setMetaStoreSchemaVersion called but recording version is disabled: version = 2.3.0, comment = Set by MetaStore bikinghimire@10.0.0.53\n",
      "24/04/13 11:08:50 WARN ObjectStore: Failed to get database global_temp, returning NoSuchObjectException\n"
     ]
    },
    {
     "data": {
      "text/plain": [
       "DataFrame[]"
      ]
     },
     "execution_count": 9,
     "metadata": {},
     "output_type": "execute_result"
    }
   ],
   "source": [
    "# Create a Hive database\n",
    "spark.sql(\"CREATE DATABASE IF NOT EXISTS db_DTS\")\n",
    "\n",
    "# Use the Hive database\n",
    "spark.sql(\"USE db_DTS\")"
   ]
  },
  {
   "cell_type": "code",
   "execution_count": 10,
   "metadata": {},
   "outputs": [
    {
     "name": "stderr",
     "output_type": "stream",
     "text": [
      "24/04/13 11:09:02 WARN HiveExternalCatalog: The table schema given by Hive metastore(struct<ref_date:string,geo:string,dguid:string,age_at_the_time_of_death:string,sex:string,leading_cause_of_death:string,characteristics:string,uom:string,uom_id:string,scalar_factor:string,scalar_id:string,vector:string,coordinate:string,value:string,status:string,symbol:string,terminated:string,decimals:string>) is different from the schema when this table was created by Spark SQL(struct<REF_DATE:int,GEO:string,DGUID:string,Age_at_the_time_of_death:string,Sex:string,Leading_cause_of_death:string,Characteristics:string,UOM:string,UOM_ID:int,SCALAR_FACTOR:string,SCALAR_ID:string,VECTOR:string,COORDINATE:string,VALUE:string,STATUS:string,SYMBOL:string,TERMINATED:string,DECIMALS:string>). We have to fall back to the table schema from Hive metastore which is not case preserving.\n",
      "24/04/13 11:09:02 WARN HiveExternalCatalog: The table schema given by Hive metastore(struct<ref_date:string,geo:string,dguid:string,age_at_the_time_of_death:string,sex:string,leading_cause_of_death:string,characteristics:string,uom:string,uom_id:string,scalar_factor:string,scalar_id:string,vector:string,coordinate:string,value:string,status:string,symbol:string,terminated:string,decimals:string>) is different from the schema when this table was created by Spark SQL(struct<REF_DATE:int,GEO:string,DGUID:string,Age_at_the_time_of_death:string,Sex:string,Leading_cause_of_death:string,Characteristics:string,UOM:string,UOM_ID:int,SCALAR_FACTOR:string,SCALAR_ID:string,VECTOR:string,COORDINATE:string,VALUE:string,STATUS:string,SYMBOL:string,TERMINATED:string,DECIMALS:string>). We have to fall back to the table schema from Hive metastore which is not case preserving.\n",
      "24/04/13 11:09:03 WARN SessionState: METASTORE_FILTER_HOOK will be ignored, since hive.security.authorization.manager is set to instance of HiveAuthorizerFactory.\n",
      "24/04/13 11:09:04 WARN HiveConf: HiveConf of name hive.internal.ss.authz.settings.applied.marker does not exist\n",
      "24/04/13 11:09:04 WARN HiveConf: HiveConf of name hive.stats.jdbc.timeout does not exist\n",
      "24/04/13 11:09:04 WARN HiveConf: HiveConf of name hive.stats.retries.wait does not exist\n",
      "24/04/13 11:09:04 WARN HiveMetaStore: Location: file:/Users/bikinghimire/Projects/LeadingCausesOfDeath/spark-warehouse/db_dts.db/original_data specified for non-external table:original_data\n",
      "24/04/13 11:09:04 WARN HiveExternalCatalog: The table schema given by Hive metastore(struct<ref_date:string,geo:string,dguid:string,age_at_the_time_of_death:string,sex:string,leading_cause_of_death:string,characteristics:string,uom:string,uom_id:string,scalar_factor:string,scalar_id:string,vector:string,coordinate:string,value:string,status:string,symbol:string,terminated:string,decimals:string>) is different from the schema when this table was created by Spark SQL(struct<REF_DATE:int,GEO:string,DGUID:string,Age_at_the_time_of_death:string,Sex:string,Leading_cause_of_death:string,Characteristics:string,UOM:string,UOM_ID:int,SCALAR_FACTOR:string,SCALAR_ID:string,VECTOR:string,COORDINATE:string,VALUE:string,STATUS:string,SYMBOL:string,TERMINATED:string,DECIMALS:string>). We have to fall back to the table schema from Hive metastore which is not case preserving.\n",
      "24/04/13 11:09:04 WARN HiveExternalCatalog: The table schema given by Hive metastore(struct<ref_date:string,geo:string,dguid:string,age_at_the_time_of_death:string,sex:string,leading_cause_of_death:string,characteristics:string,uom:string,uom_id:string,scalar_factor:string,scalar_id:string,vector:string,coordinate:string,value:string,status:string,symbol:string,terminated:string,decimals:string>) is different from the schema when this table was created by Spark SQL(struct<REF_DATE:int,GEO:string,DGUID:string,Age_at_the_time_of_death:string,Sex:string,Leading_cause_of_death:string,Characteristics:string,UOM:string,UOM_ID:int,SCALAR_FACTOR:string,SCALAR_ID:string,VECTOR:string,COORDINATE:string,VALUE:string,STATUS:string,SYMBOL:string,TERMINATED:string,DECIMALS:string>). We have to fall back to the table schema from Hive metastore which is not case preserving.\n",
      "24/04/13 11:09:06 WARN HiveExternalCatalog: The table schema given by Hive metastore(struct<ref_date:string,geo:string,dguid:string,age_at_the_time_of_death:string,sex:string,leading_cause_of_death:string,characteristics:string,uom:string,uom_id:string,scalar_factor:string,scalar_id:string,vector:string,coordinate:string,value:string,status:string,symbol:string,terminated:string,decimals:string>) is different from the schema when this table was created by Spark SQL(struct<REF_DATE:int,GEO:string,DGUID:string,Age_at_the_time_of_death:string,Sex:string,Leading_cause_of_death:string,Characteristics:string,UOM:string,UOM_ID:int,SCALAR_FACTOR:string,SCALAR_ID:string,VECTOR:string,COORDINATE:string,VALUE:string,STATUS:string,SYMBOL:string,TERMINATED:string,DECIMALS:string>). We have to fall back to the table schema from Hive metastore which is not case preserving.\n"
     ]
    },
    {
     "data": {
      "text/plain": [
       "DataFrame[]"
      ]
     },
     "execution_count": 10,
     "metadata": {},
     "output_type": "execute_result"
    }
   ],
   "source": [
    "# Creating the HIVE table to store data\n",
    "\n",
    "spark.sql(\"DROP TABLE IF EXISTS original_data\")\n",
    "\n",
    "q_create_tbl = \"\"\"\n",
    "CREATE TABLE IF NOT EXISTS original_data (\n",
    "    REF_DATE INT,\n",
    "    GEO STRING,\n",
    "    DGUID STRING,\n",
    "    Age_at_the_time_of_death STRING,\n",
    "    Sex STRING,\n",
    "    Leading_cause_of_death STRING,\n",
    "    Characteristics STRING,\n",
    "    UOM STRING,\n",
    "    UOM_ID INT,\n",
    "    SCALAR_FACTOR STRING,\n",
    "    SCALAR_ID STRING,\n",
    "    VECTOR STRING,\n",
    "    COORDINATE STRING,\n",
    "    VALUE STRING,\n",
    "    STATUS STRING,\n",
    "    SYMBOL STRING,\n",
    "    TERMINATED STRING,\n",
    "    DECIMALS STRING\n",
    ")\n",
    "ROW FORMAT SERDE 'org.apache.hadoop.hive.serde2.OpenCSVSerde'\n",
    "WITH SERDEPROPERTIES (\n",
    "    'separatorChar' = ',',\n",
    "    'quoteChar' = '\\\"',\n",
    "    'escapeChar' = '\\\\\\\\'\n",
    ")\n",
    "STORED AS TEXTFILE;\n",
    "\"\"\"\n",
    "\n",
    "# Run the query to create the table\n",
    "spark.sql(q_create_tbl)\n",
    "\n",
    "# Load the data into the table from HDFS and skip the first row of data\n",
    "spark.sql(\"LOAD DATA INPATH 'hdfs://localhost:19000/DTSPROJECT/OriginalData_noheader.csv' INTO TABLE original_data;\")"
   ]
  },
  {
   "cell_type": "code",
   "execution_count": 11,
   "metadata": {},
   "outputs": [
    {
     "name": "stdout",
     "output_type": "stream",
     "text": [
      "Table structure\n"
     ]
    },
    {
     "name": "stderr",
     "output_type": "stream",
     "text": [
      "24/04/13 11:09:48 WARN HiveExternalCatalog: The table schema given by Hive metastore(struct<ref_date:string,geo:string,dguid:string,age_at_the_time_of_death:string,sex:string,leading_cause_of_death:string,characteristics:string,uom:string,uom_id:string,scalar_factor:string,scalar_id:string,vector:string,coordinate:string,value:string,status:string,symbol:string,terminated:string,decimals:string>) is different from the schema when this table was created by Spark SQL(struct<REF_DATE:int,GEO:string,DGUID:string,Age_at_the_time_of_death:string,Sex:string,Leading_cause_of_death:string,Characteristics:string,UOM:string,UOM_ID:int,SCALAR_FACTOR:string,SCALAR_ID:string,VECTOR:string,COORDINATE:string,VALUE:string,STATUS:string,SYMBOL:string,TERMINATED:string,DECIMALS:string>). We have to fall back to the table schema from Hive metastore which is not case preserving.\n",
      "24/04/13 11:09:48 WARN HiveExternalCatalog: The table schema given by Hive metastore(struct<ref_date:string,geo:string,dguid:string,age_at_the_time_of_death:string,sex:string,leading_cause_of_death:string,characteristics:string,uom:string,uom_id:string,scalar_factor:string,scalar_id:string,vector:string,coordinate:string,value:string,status:string,symbol:string,terminated:string,decimals:string>) is different from the schema when this table was created by Spark SQL(struct<REF_DATE:int,GEO:string,DGUID:string,Age_at_the_time_of_death:string,Sex:string,Leading_cause_of_death:string,Characteristics:string,UOM:string,UOM_ID:int,SCALAR_FACTOR:string,SCALAR_ID:string,VECTOR:string,COORDINATE:string,VALUE:string,STATUS:string,SYMBOL:string,TERMINATED:string,DECIMALS:string>). We have to fall back to the table schema from Hive metastore which is not case preserving.\n"
     ]
    },
    {
     "name": "stdout",
     "output_type": "stream",
     "text": [
      "+--------------------+---------+-----------------+\n",
      "|            col_name|data_type|          comment|\n",
      "+--------------------+---------+-----------------+\n",
      "|            ref_date|   string|from deserializer|\n",
      "|                 geo|   string|from deserializer|\n",
      "|               dguid|   string|from deserializer|\n",
      "|age_at_the_time_o...|   string|from deserializer|\n",
      "|                 sex|   string|from deserializer|\n",
      "|leading_cause_of_...|   string|from deserializer|\n",
      "|     characteristics|   string|from deserializer|\n",
      "|                 uom|   string|from deserializer|\n",
      "|              uom_id|   string|from deserializer|\n",
      "|       scalar_factor|   string|from deserializer|\n",
      "|           scalar_id|   string|from deserializer|\n",
      "|              vector|   string|from deserializer|\n",
      "|          coordinate|   string|from deserializer|\n",
      "|               value|   string|from deserializer|\n",
      "|              status|   string|from deserializer|\n",
      "|              symbol|   string|from deserializer|\n",
      "|          terminated|   string|from deserializer|\n",
      "|            decimals|   string|from deserializer|\n",
      "+--------------------+---------+-----------------+\n",
      "\n",
      "\n",
      "\n",
      "Number of rows\n"
     ]
    },
    {
     "name": "stderr",
     "output_type": "stream",
     "text": [
      "24/04/13 11:09:50 WARN HiveExternalCatalog: The table schema given by Hive metastore(struct<ref_date:string,geo:string,dguid:string,age_at_the_time_of_death:string,sex:string,leading_cause_of_death:string,characteristics:string,uom:string,uom_id:string,scalar_factor:string,scalar_id:string,vector:string,coordinate:string,value:string,status:string,symbol:string,terminated:string,decimals:string>) is different from the schema when this table was created by Spark SQL(struct<REF_DATE:int,GEO:string,DGUID:string,Age_at_the_time_of_death:string,Sex:string,Leading_cause_of_death:string,Characteristics:string,UOM:string,UOM_ID:int,SCALAR_FACTOR:string,SCALAR_ID:string,VECTOR:string,COORDINATE:string,VALUE:string,STATUS:string,SYMBOL:string,TERMINATED:string,DECIMALS:string>). We have to fall back to the table schema from Hive metastore which is not case preserving.\n",
      "                                                                                \r"
     ]
    },
    {
     "name": "stdout",
     "output_type": "stream",
     "text": [
      "+--------+\n",
      "|count(1)|\n",
      "+--------+\n",
      "|  407334|\n",
      "+--------+\n",
      "\n",
      "\n",
      "\n",
      "Top 10 rows\n"
     ]
    },
    {
     "name": "stderr",
     "output_type": "stream",
     "text": [
      "24/04/13 11:09:55 WARN HiveExternalCatalog: The table schema given by Hive metastore(struct<ref_date:string,geo:string,dguid:string,age_at_the_time_of_death:string,sex:string,leading_cause_of_death:string,characteristics:string,uom:string,uom_id:string,scalar_factor:string,scalar_id:string,vector:string,coordinate:string,value:string,status:string,symbol:string,terminated:string,decimals:string>) is different from the schema when this table was created by Spark SQL(struct<REF_DATE:int,GEO:string,DGUID:string,Age_at_the_time_of_death:string,Sex:string,Leading_cause_of_death:string,Characteristics:string,UOM:string,UOM_ID:int,SCALAR_FACTOR:string,SCALAR_ID:string,VECTOR:string,COORDINATE:string,VALUE:string,STATUS:string,SYMBOL:string,TERMINATED:string,DECIMALS:string>). We have to fall back to the table schema from Hive metastore which is not case preserving.\n"
     ]
    },
    {
     "name": "stdout",
     "output_type": "stream",
     "text": [
      "+--------+--------------------+--------------+------------------------+----------+----------------------+--------------------+----------+------+-------------+---------+---------+-----------+------+------+------+----------+--------+\n",
      "|ref_date|                 geo|         dguid|age_at_the_time_of_death|       sex|leading_cause_of_death|     characteristics|       uom|uom_id|scalar_factor|scalar_id|   vector| coordinate| value|status|symbol|terminated|decimals|\n",
      "+--------+--------------------+--------------+------------------------+----------+----------------------+--------------------+----------+------+-------------+---------+---------+-----------+------+------+------+----------+--------+\n",
      "|    2000|Canada, place of ...|2016A000011124|    Age at time of de...|Both sexes|  Total, all causes...|    Number of deaths|    Number|   223|        units|        0|v41618016|1.1.1.100.2|218062|      |      |          |       0|\n",
      "|    2000|Canada, place of ...|2016A000011124|    Age at time of de...|Both sexes|  Total, all causes...|Percentage of deaths|Percentage|   242|        units|        0|v41618017|1.1.1.100.3| 100.0|      |      |          |       1|\n",
      "|    2000|Canada, place of ...|2016A000011124|    Age at time of de...|Both sexes|  Total, all causes...|Age-specific mort...|    Number|   223|        units|        0|v41618018|1.1.1.100.4| 708.7|      |      |          |       1|\n",
      "|    2000|Canada, place of ...|2016A000011124|    Age at time of de...|Both sexes|  Salmonella infect...|Rank of leading c...|    Number|   223|        units|        0|v41341041|  1.1.1.1.1|    41|      |      |          |       0|\n",
      "|    2000|Canada, place of ...|2016A000011124|    Age at time of de...|Both sexes|  Salmonella infect...|    Number of deaths|    Number|   223|        units|        0|v41341042|  1.1.1.1.2|     3|      |      |          |       0|\n",
      "|    2000|Canada, place of ...|2016A000011124|    Age at time of de...|Both sexes|  Salmonella infect...|Percentage of deaths|Percentage|   242|        units|        0|v41347401|  1.1.1.1.3|   0.0|      |      |          |       1|\n",
      "|    2000|Canada, place of ...|2016A000011124|    Age at time of de...|Both sexes|  Salmonella infect...|Age-specific mort...|    Number|   223|        units|        0|v41347402|  1.1.1.1.4|   0.0|      |      |          |       1|\n",
      "|    2000|Canada, place of ...|2016A000011124|    Age at time of de...|Both sexes|  Shigellosis and a...|Rank of leading c...|    Number|   223|        units|        0|v41341043|  1.1.1.2.1|    47|      |      |          |       0|\n",
      "|    2000|Canada, place of ...|2016A000011124|    Age at time of de...|Both sexes|  Shigellosis and a...|    Number of deaths|    Number|   223|        units|        0|v41341044|  1.1.1.2.2|     0|      |      |          |       0|\n",
      "|    2000|Canada, place of ...|2016A000011124|    Age at time of de...|Both sexes|  Shigellosis and a...|Percentage of deaths|Percentage|   242|        units|        0|v41347403|  1.1.1.2.3|   0.0|      |      |          |       1|\n",
      "|    2000|Canada, place of ...|2016A000011124|    Age at time of de...|Both sexes|  Shigellosis and a...|Age-specific mort...|    Number|   223|        units|        0|v41347404|  1.1.1.2.4|   0.0|      |      |          |       1|\n",
      "|    2000|Canada, place of ...|2016A000011124|    Age at time of de...|Both sexes|  Tuberculosis [A16...|Rank of leading c...|    Number|   223|        units|        0|v41341045|  1.1.1.3.1|    31|      |      |          |       0|\n",
      "|    2000|Canada, place of ...|2016A000011124|    Age at time of de...|Both sexes|  Tuberculosis [A16...|    Number of deaths|    Number|   223|        units|        0|v41341046|  1.1.1.3.2|    81|      |      |          |       0|\n",
      "|    2000|Canada, place of ...|2016A000011124|    Age at time of de...|Both sexes|  Tuberculosis [A16...|Percentage of deaths|Percentage|   242|        units|        0|v41347405|  1.1.1.3.3|   0.0|      |      |          |       1|\n",
      "|    2000|Canada, place of ...|2016A000011124|    Age at time of de...|Both sexes|  Tuberculosis [A16...|Age-specific mort...|    Number|   223|        units|        0|v41347406|  1.1.1.3.4|   0.3|      |      |          |       1|\n",
      "|    2000|Canada, place of ...|2016A000011124|    Age at time of de...|Both sexes|  Whooping cough [A37]|Rank of leading c...|    Number|   223|        units|        0|v41341047|  1.1.1.4.1|    42|      |      |          |       0|\n",
      "|    2000|Canada, place of ...|2016A000011124|    Age at time of de...|Both sexes|  Whooping cough [A37]|    Number of deaths|    Number|   223|        units|        0|v41341048|  1.1.1.4.2|     2|      |      |          |       0|\n",
      "|    2000|Canada, place of ...|2016A000011124|    Age at time of de...|Both sexes|  Whooping cough [A37]|Percentage of deaths|Percentage|   242|        units|        0|v41347407|  1.1.1.4.3|   0.0|      |      |          |       1|\n",
      "|    2000|Canada, place of ...|2016A000011124|    Age at time of de...|Both sexes|  Whooping cough [A37]|Age-specific mort...|    Number|   223|        units|        0|v41347408|  1.1.1.4.4|   0.0|      |      |          |       1|\n",
      "|    2000|Canada, place of ...|2016A000011124|    Age at time of de...|Both sexes|  Scarlet fever and...|Rank of leading c...|    Number|   223|        units|        0|v41341049|  1.1.1.5.1|    44|      |      |          |       0|\n",
      "+--------+--------------------+--------------+------------------------+----------+----------------------+--------------------+----------+------+-------------+---------+---------+-----------+------+------+------+----------+--------+\n",
      "only showing top 20 rows\n",
      "\n",
      "\n",
      "\n"
     ]
    }
   ],
   "source": [
    "# Displaying the structure of the table\n",
    "print(\"Table structure\")\n",
    "spark.sql(\"DESCRIBE original_data\").show()\n",
    "print(\"\\n\")\n",
    "\n",
    "# Displaying the count of rows in the table\n",
    "print(\"Number of rows\")\n",
    "spark.sql(\"SELECT COUNT(*) FROM original_data\").show()\n",
    "print(\"\\n\")\n",
    "\n",
    "# Displaying the top 10 rows of the table\n",
    "print(\"Top 10 rows\")\n",
    "spark.sql(\"SELECT * FROM original_data\").show()\n",
    "print(\"\\n\")"
   ]
  },
  {
   "cell_type": "markdown",
   "metadata": {},
   "source": [
    "-----------------------------------------------------------------------------------------\n",
    "#### <p style = \"text-align: center; font-weight: bold;\">Data Cleaning</p>\n",
    "-----------------------------------------------------------------------------------------"
   ]
  },
  {
   "cell_type": "code",
   "execution_count": 12,
   "metadata": {},
   "outputs": [
    {
     "name": "stderr",
     "output_type": "stream",
     "text": [
      "24/04/13 11:10:23 WARN HiveExternalCatalog: The table schema given by Hive metastore(struct<ref_date:string,geo:string,dguid:string,age_at_the_time_of_death:string,sex:string,leading_cause_of_death:string,characteristics:string,uom:string,uom_id:string,scalar_factor:string,scalar_id:string,vector:string,coordinate:string,value:string,status:string,symbol:string,terminated:string,decimals:string>) is different from the schema when this table was created by Spark SQL(struct<REF_DATE:int,GEO:string,DGUID:string,Age_at_the_time_of_death:string,Sex:string,Leading_cause_of_death:string,Characteristics:string,UOM:string,UOM_ID:int,SCALAR_FACTOR:string,SCALAR_ID:string,VECTOR:string,COORDINATE:string,VALUE:string,STATUS:string,SYMBOL:string,TERMINATED:string,DECIMALS:string>). We have to fall back to the table schema from Hive metastore which is not case preserving.\n",
      "24/04/13 11:10:23 WARN ResolveSessionCatalog: A Hive serde table will be created as there is no table provider specified. You can set spark.sql.legacy.createHiveTableByDefault to false so that native data source table will be created instead.\n",
      "24/04/13 11:10:24 WARN HiveMetaStore: Location: file:/Users/bikinghimire/Projects/LeadingCausesOfDeath/spark-warehouse/db_dts.db/selected_columns specified for non-external table:selected_columns\n",
      "                                                                                \r"
     ]
    },
    {
     "data": {
      "text/plain": [
       "DataFrame[]"
      ]
     },
     "execution_count": 12,
     "metadata": {},
     "output_type": "execute_result"
    }
   ],
   "source": [
    "# Selecting only required columns and creating a new table\n",
    "spark.sql(\"DROP TABLE IF EXISTS selected_columns\")\n",
    "spark.sql(\"CREATE TABLE IF NOT EXISTS selected_columns AS SELECT REF_DATE, Age_at_the_time_of_death AS Age_Range, Sex, Leading_cause_of_death, Characteristics, Value FROM original_data\")"
   ]
  },
  {
   "cell_type": "code",
   "execution_count": 13,
   "metadata": {},
   "outputs": [
    {
     "name": "stdout",
     "output_type": "stream",
     "text": [
      "+--------+--------------------+----------+----------------------+--------------------+------+\n",
      "|REF_DATE|           Age_Range|       Sex|Leading_cause_of_death|     Characteristics| Value|\n",
      "+--------+--------------------+----------+----------------------+--------------------+------+\n",
      "|    2000|Age at time of de...|Both sexes|  Total, all causes...|    Number of deaths|218062|\n",
      "|    2000|Age at time of de...|Both sexes|  Total, all causes...|Percentage of deaths| 100.0|\n",
      "|    2000|Age at time of de...|Both sexes|  Total, all causes...|Age-specific mort...| 708.7|\n",
      "|    2000|Age at time of de...|Both sexes|  Salmonella infect...|Rank of leading c...|    41|\n",
      "|    2000|Age at time of de...|Both sexes|  Salmonella infect...|    Number of deaths|     3|\n",
      "|    2000|Age at time of de...|Both sexes|  Salmonella infect...|Percentage of deaths|   0.0|\n",
      "|    2000|Age at time of de...|Both sexes|  Salmonella infect...|Age-specific mort...|   0.0|\n",
      "|    2000|Age at time of de...|Both sexes|  Shigellosis and a...|Rank of leading c...|    47|\n",
      "|    2000|Age at time of de...|Both sexes|  Shigellosis and a...|    Number of deaths|     0|\n",
      "|    2000|Age at time of de...|Both sexes|  Shigellosis and a...|Percentage of deaths|   0.0|\n",
      "|    2000|Age at time of de...|Both sexes|  Shigellosis and a...|Age-specific mort...|   0.0|\n",
      "|    2000|Age at time of de...|Both sexes|  Tuberculosis [A16...|Rank of leading c...|    31|\n",
      "|    2000|Age at time of de...|Both sexes|  Tuberculosis [A16...|    Number of deaths|    81|\n",
      "|    2000|Age at time of de...|Both sexes|  Tuberculosis [A16...|Percentage of deaths|   0.0|\n",
      "|    2000|Age at time of de...|Both sexes|  Tuberculosis [A16...|Age-specific mort...|   0.3|\n",
      "|    2000|Age at time of de...|Both sexes|  Whooping cough [A37]|Rank of leading c...|    42|\n",
      "|    2000|Age at time of de...|Both sexes|  Whooping cough [A37]|    Number of deaths|     2|\n",
      "|    2000|Age at time of de...|Both sexes|  Whooping cough [A37]|Percentage of deaths|   0.0|\n",
      "|    2000|Age at time of de...|Both sexes|  Whooping cough [A37]|Age-specific mort...|   0.0|\n",
      "|    2000|Age at time of de...|Both sexes|  Scarlet fever and...|Rank of leading c...|    44|\n",
      "+--------+--------------------+----------+----------------------+--------------------+------+\n",
      "only showing top 20 rows\n",
      "\n",
      "+--------+\n",
      "|count(1)|\n",
      "+--------+\n",
      "|  407334|\n",
      "+--------+\n",
      "\n"
     ]
    }
   ],
   "source": [
    "spark.sql(\"SELECT * FROM selected_columns\").show()\n",
    "\n",
    "# Count number of rows\n",
    "spark.sql(\"SELECT COUNT(*) FROM selected_columns\").show()"
   ]
  },
  {
   "cell_type": "code",
   "execution_count": 14,
   "metadata": {},
   "outputs": [
    {
     "name": "stdout",
     "output_type": "stream",
     "text": [
      "+--------+\n",
      "|REF_DATE|\n",
      "+--------+\n",
      "|    2000|\n",
      "|    2001|\n",
      "|    2002|\n",
      "|    2003|\n",
      "|    2004|\n",
      "|    2005|\n",
      "|    2006|\n",
      "|    2007|\n",
      "|    2008|\n",
      "|    2009|\n",
      "|    2010|\n",
      "|    2011|\n",
      "|    2012|\n",
      "|    2013|\n",
      "|    2014|\n",
      "|    2015|\n",
      "|    2016|\n",
      "|    2017|\n",
      "|    2018|\n",
      "|    2019|\n",
      "|    2020|\n",
      "|    2021|\n",
      "|    2022|\n",
      "+--------+\n",
      "\n"
     ]
    }
   ],
   "source": [
    "# Checking if REF_DATE requires cleaning\n",
    "spark.sql(\"SELECT DISTINCT REF_DATE FROM selected_columns ORDER BY REF_DATE\").show(50)"
   ]
  },
  {
   "cell_type": "code",
   "execution_count": 15,
   "metadata": {},
   "outputs": [
    {
     "name": "stdout",
     "output_type": "stream",
     "text": [
      "+---------------------------------------+\n",
      "|Age_Range                              |\n",
      "+---------------------------------------+\n",
      "|Age at time of death, 1 to 14 years    |\n",
      "|Age at time of death, 1 to 4 years     |\n",
      "|Age at time of death, 10 to 14 years   |\n",
      "|Age at time of death, 15 to 19 years   |\n",
      "|Age at time of death, 15 to 24         |\n",
      "|Age at time of death, 20 to 24 years   |\n",
      "|Age at time of death, 25 to 29 years   |\n",
      "|Age at time of death, 25 to 34 years   |\n",
      "|Age at time of death, 30 to 34 years   |\n",
      "|Age at time of death, 35 to 39 years   |\n",
      "|Age at time of death, 35 to 44 years   |\n",
      "|Age at time of death, 40 to 44 years   |\n",
      "|Age at time of death, 45 to 49 years   |\n",
      "|Age at time of death, 45 to 54 years   |\n",
      "|Age at time of death, 5 to 9 years     |\n",
      "|Age at time of death, 50 to 54 years   |\n",
      "|Age at time of death, 55 to 59 years   |\n",
      "|Age at time of death, 55 to 64 years   |\n",
      "|Age at time of death, 60 to 64 years   |\n",
      "|Age at time of death, 65 to 69 years   |\n",
      "|Age at time of death, 65 to 74 years   |\n",
      "|Age at time of death, 70 to 74 years   |\n",
      "|Age at time of death, 75 to 79 years   |\n",
      "|Age at time of death, 75 to 84 years   |\n",
      "|Age at time of death, 80 to 84 years   |\n",
      "|Age at time of death, 85 and over      |\n",
      "|Age at time of death, 85 to 89 years   |\n",
      "|Age at time of death, 90 years and over|\n",
      "|Age at time of death, all ages         |\n",
      "+---------------------------------------+\n",
      "\n"
     ]
    }
   ],
   "source": [
    "# Checking if Age_Range requires cleaning\n",
    "spark.sql(\"SELECT DISTINCT Age_Range FROM selected_columns ORDER BY Age_Range\").show(50, truncate=False)"
   ]
  },
  {
   "cell_type": "code",
   "execution_count": 16,
   "metadata": {},
   "outputs": [
    {
     "name": "stderr",
     "output_type": "stream",
     "text": [
      "24/04/13 11:10:42 WARN ResolveSessionCatalog: A Hive serde table will be created as there is no table provider specified. You can set spark.sql.legacy.createHiveTableByDefault to false so that native data source table will be created instead.\n",
      "24/04/13 11:10:42 WARN HiveMetaStore: Location: file:/Users/bikinghimire/Projects/LeadingCausesOfDeath/spark-warehouse/db_dts.db/age_clean specified for non-external table:age_clean\n"
     ]
    },
    {
     "name": "stdout",
     "output_type": "stream",
     "text": [
      "+--------------------+\n",
      "|           Age_Range|\n",
      "+--------------------+\n",
      "|Age at time of de...|\n",
      "|Age at time of de...|\n",
      "|Age at time of de...|\n",
      "|Age at time of de...|\n",
      "|Age at time of de...|\n",
      "|Age at time of de...|\n",
      "|Age at time of de...|\n",
      "|Age at time of de...|\n",
      "|Age at time of de...|\n",
      "|Age at time of de...|\n",
      "|Age at time of de...|\n",
      "|Age at time of de...|\n",
      "|Age at time of de...|\n",
      "|Age at time of de...|\n",
      "|Age at time of de...|\n",
      "|Age at time of de...|\n",
      "|Age at time of de...|\n",
      "|Age at time of de...|\n",
      "+--------------------+\n",
      "\n"
     ]
    }
   ],
   "source": [
    "# Select all rows from selected_columns where age_range is not in the specified ranges\n",
    "age_clear_query = (\"\"\"\n",
    "CREATE TABLE IF NOT EXISTS age_clean AS\n",
    "  SELECT *\n",
    "  FROM selected_columns\n",
    "  WHERE Age_Range NOT IN (\n",
    "    'Age at time of death, 1 to 14 years',\n",
    "    'Age at time of death, 15 to 24',\n",
    "    'Age at time of death, 25 to 34 years',\n",
    "    'Age at time of death, 35 to 44 years',\n",
    "    'Age at time of death, 45 to 54 years',\n",
    "    'Age at time of death, 55 to 64 years',\n",
    "    'Age at time of death, 65 to 74 years',\n",
    "    'Age at time of death, 75 to 84 years',\n",
    "    'Age at time of death, 85 to 89 years',\n",
    "    'Age at time of death, 90 years and over',\n",
    "    'Age at time of death, all ages'\n",
    "  )\n",
    "\"\"\")\n",
    "spark.sql(\"DROP TABLE IF EXISTS age_clean\")\n",
    "spark.sql(age_clear_query)\n",
    "\n",
    "spark.sql(\"SELECT DISTINCT(Age_Range) FROM age_clean\").show()\n"
   ]
  },
  {
   "cell_type": "code",
   "execution_count": 17,
   "metadata": {},
   "outputs": [
    {
     "name": "stderr",
     "output_type": "stream",
     "text": [
      "24/04/13 11:10:54 WARN ResolveSessionCatalog: A Hive serde table will be created as there is no table provider specified. You can set spark.sql.legacy.createHiveTableByDefault to false so that native data source table will be created instead.\n",
      "24/04/13 11:10:54 WARN HiveMetaStore: Location: file:/Users/bikinghimire/Projects/LeadingCausesOfDeath/spark-warehouse/db_dts.db/age_clean_data specified for non-external table:age_clean_data\n"
     ]
    },
    {
     "name": "stdout",
     "output_type": "stream",
     "text": [
      "+-----------+\n",
      "|  Age_Range|\n",
      "+-----------+\n",
      "|   35 to 39|\n",
      "|   80 to 84|\n",
      "|   30 to 34|\n",
      "|   60 to 64|\n",
      "|   45 to 49|\n",
      "|   25 to 29|\n",
      "|   15 to 19|\n",
      "|   10 to 14|\n",
      "|   40 to 44|\n",
      "|   70 to 74|\n",
      "|   55 to 59|\n",
      "|   75 to 79|\n",
      "|85 and over|\n",
      "|   20 to 24|\n",
      "|   50 to 54|\n",
      "|   65 to 69|\n",
      "|     5 to 9|\n",
      "|     1 to 4|\n",
      "+-----------+\n",
      "\n"
     ]
    }
   ],
   "source": [
    "# Applying regex to remove \"Age at the time of death, \" and \" years\" from the Age_Range column\n",
    "spark.sql(\"DROP TABLE IF EXISTS age_clean_data\")\n",
    "age_data_query = \"\"\"\n",
    "CREATE TABLE IF NOT EXISTS age_clean_data AS\n",
    "SELECT REF_DATE, \n",
    "       regexp_replace(regexp_replace(Age_Range, 'Age at time of death, ', ''), ' years', '') AS\n",
    "         Age_Range,\n",
    "         Sex, Leading_cause_of_death, Characteristics, Value\n",
    "FROM age_clean;\n",
    "\"\"\"\n",
    "spark.sql(age_data_query)\n",
    "\n",
    "#View the cleaned age data\n",
    "spark.sql(\"SELECT DISTINCT(Age_Range) FROM age_clean_data\").show()"
   ]
  },
  {
   "cell_type": "code",
   "execution_count": 18,
   "metadata": {},
   "outputs": [
    {
     "name": "stdout",
     "output_type": "stream",
     "text": [
      "+----------+\n",
      "|       Sex|\n",
      "+----------+\n",
      "|Both sexes|\n",
      "|   Females|\n",
      "|     Males|\n",
      "+----------+\n",
      "\n"
     ]
    },
    {
     "name": "stderr",
     "output_type": "stream",
     "text": [
      "24/04/13 11:11:00 WARN ResolveSessionCatalog: A Hive serde table will be created as there is no table provider specified. You can set spark.sql.legacy.createHiveTableByDefault to false so that native data source table will be created instead.\n",
      "24/04/13 11:11:00 WARN HiveMetaStore: Location: file:/Users/bikinghimire/Projects/LeadingCausesOfDeath/spark-warehouse/db_dts.db/sex_clean_data specified for non-external table:sex_clean_data\n"
     ]
    },
    {
     "name": "stdout",
     "output_type": "stream",
     "text": [
      "+--------+---------+-----+----------------------+--------------------+-----+\n",
      "|REF_DATE|Age_Range|  Sex|Leading_cause_of_death|     Characteristics|Value|\n",
      "+--------+---------+-----+----------------------+--------------------+-----+\n",
      "|    2000|   1 to 4|Males|  Total, all causes...|    Number of deaths|  170|\n",
      "|    2000|   1 to 4|Males|  Total, all causes...|Percentage of deaths|100.0|\n",
      "|    2000|   1 to 4|Males|  Total, all causes...|Age-specific mort...| 22.9|\n",
      "|    2000|   1 to 4|Males|  Salmonella infect...|Rank of leading c...|   18|\n",
      "|    2000|   1 to 4|Males|  Salmonella infect...|    Number of deaths|    0|\n",
      "|    2000|   1 to 4|Males|  Salmonella infect...|Percentage of deaths|  0.0|\n",
      "|    2000|   1 to 4|Males|  Salmonella infect...|Age-specific mort...|  0.0|\n",
      "|    2000|   1 to 4|Males|  Shigellosis and a...|Rank of leading c...|   18|\n",
      "|    2000|   1 to 4|Males|  Shigellosis and a...|    Number of deaths|    0|\n",
      "|    2000|   1 to 4|Males|  Shigellosis and a...|Percentage of deaths|  0.0|\n",
      "|    2000|   1 to 4|Males|  Shigellosis and a...|Age-specific mort...|  0.0|\n",
      "|    2000|   1 to 4|Males|  Tuberculosis [A16...|Rank of leading c...|   18|\n",
      "|    2000|   1 to 4|Males|  Tuberculosis [A16...|    Number of deaths|    0|\n",
      "|    2000|   1 to 4|Males|  Tuberculosis [A16...|Percentage of deaths|  0.0|\n",
      "|    2000|   1 to 4|Males|  Tuberculosis [A16...|Age-specific mort...|  0.0|\n",
      "|    2000|   1 to 4|Males|  Whooping cough [A37]|Rank of leading c...|   18|\n",
      "|    2000|   1 to 4|Males|  Whooping cough [A37]|    Number of deaths|    0|\n",
      "|    2000|   1 to 4|Males|  Whooping cough [A37]|Percentage of deaths|  0.0|\n",
      "|    2000|   1 to 4|Males|  Whooping cough [A37]|Age-specific mort...|  0.0|\n",
      "|    2000|   1 to 4|Males|  Scarlet fever and...|Rank of leading c...|   18|\n",
      "+--------+---------+-----+----------------------+--------------------+-----+\n",
      "only showing top 20 rows\n",
      "\n"
     ]
    }
   ],
   "source": [
    "# Checking if Sex requires cleaning\n",
    "spark.sql(\"SELECT DISTINCT Sex FROM age_clean_data ORDER BY Sex\").show()\n",
    "\n",
    "# Select only the required Sex and store it in a new table\n",
    "spark.sql(\"DROP TABLE IF EXISTS sex_clean_data\")\n",
    "spark.sql(\"CREATE TABLE IF NOT EXISTS sex_clean_data AS SELECT * FROM age_clean_data WHERE Sex != 'Both sexes'\")\n",
    "spark.sql(\"SELECT * FROM sex_clean_data\").show()"
   ]
  },
  {
   "cell_type": "code",
   "execution_count": 19,
   "metadata": {},
   "outputs": [
    {
     "name": "stdout",
     "output_type": "stream",
     "text": [
      "+--------------------+\n",
      "|     Characteristics|\n",
      "+--------------------+\n",
      "|Rank of leading c...|\n",
      "|Percentage of deaths|\n",
      "|    Number of deaths|\n",
      "|Age-specific mort...|\n",
      "+--------------------+\n",
      "\n"
     ]
    },
    {
     "name": "stderr",
     "output_type": "stream",
     "text": [
      "24/04/13 11:11:08 WARN ResolveSessionCatalog: A Hive serde table will be created as there is no table provider specified. You can set spark.sql.legacy.createHiveTableByDefault to false so that native data source table will be created instead.\n",
      "24/04/13 11:11:08 WARN HiveMetaStore: Location: file:/Users/bikinghimire/Projects/LeadingCausesOfDeath/spark-warehouse/db_dts.db/death_clean_data specified for non-external table:death_clean_data\n"
     ]
    },
    {
     "name": "stdout",
     "output_type": "stream",
     "text": [
      "+--------+---------+-----+----------------------+----------------+-----+\n",
      "|REF_DATE|Age_Range|  Sex|Leading_cause_of_death| Characteristics|Value|\n",
      "+--------+---------+-----+----------------------+----------------+-----+\n",
      "|    2000|   1 to 4|Males|  Total, all causes...|Number of deaths|  170|\n",
      "|    2000|   1 to 4|Males|  Salmonella infect...|Number of deaths|    0|\n",
      "|    2000|   1 to 4|Males|  Shigellosis and a...|Number of deaths|    0|\n",
      "|    2000|   1 to 4|Males|  Tuberculosis [A16...|Number of deaths|    0|\n",
      "|    2000|   1 to 4|Males|  Whooping cough [A37]|Number of deaths|    0|\n",
      "|    2000|   1 to 4|Males|  Scarlet fever and...|Number of deaths|    0|\n",
      "|    2000|   1 to 4|Males|  Meningococcal inf...|Number of deaths|    1|\n",
      "|    2000|   1 to 4|Males|      Sepsis [A40-A41]|Number of deaths|    3|\n",
      "|    2000|   1 to 4|Males|    Syphilis [A50-A53]|Number of deaths|    0|\n",
      "|    2000|   1 to 4|Males|  Acute poliomyelit...|Number of deaths|    0|\n",
      "|    2000|   1 to 4|Males|  Arthropod-borne v...|Number of deaths|    0|\n",
      "|    2000|   1 to 4|Males|         Measles [B05]|Number of deaths|    0|\n",
      "|    2000|   1 to 4|Males|  Viral hepatitis [...|Number of deaths|    0|\n",
      "|    2000|   1 to 4|Males|  Human immunodefic...|Number of deaths|    0|\n",
      "|    2000|   1 to 4|Males|     Malaria [B50-B54]|Number of deaths|    0|\n",
      "|    2000|   1 to 4|Males|  Malignant neoplas...|Number of deaths|   17|\n",
      "|    2000|   1 to 4|Males|  In situ neoplasms...|Number of deaths|    1|\n",
      "|    2000|   1 to 4|Males|    Anaemias [D50-D64]|Number of deaths|    2|\n",
      "|    2000|   1 to 4|Males|  Diabetes mellitus...|Number of deaths|    0|\n",
      "|    2000|   1 to 4|Males|  Nutritional defic...|Number of deaths|    0|\n",
      "+--------+---------+-----+----------------------+----------------+-----+\n",
      "only showing top 20 rows\n",
      "\n"
     ]
    }
   ],
   "source": [
    "# Checking if Characteristics requires cleaning\n",
    "spark.sql(\"SELECT DISTINCT Characteristics FROM sex_clean_data\").show()\n",
    "\n",
    "# Select only the required characteristic and store it in a new table\n",
    "spark.sql(\"DROP TABLE IF EXISTS death_clean_data\")\n",
    "spark.sql(\"CREATE TABLE IF NOT EXISTS death_clean_data AS SELECT * FROM sex_clean_data WHERE Characteristics = 'Number of deaths'\")\n",
    "spark.sql(\"SELECT * FROM death_clean_data\").show()"
   ]
  },
  {
   "cell_type": "code",
   "execution_count": 20,
   "metadata": {},
   "outputs": [
    {
     "name": "stderr",
     "output_type": "stream",
     "text": [
      "24/04/13 11:11:11 WARN ResolveSessionCatalog: A Hive serde table will be created as there is no table provider specified. You can set spark.sql.legacy.createHiveTableByDefault to false so that native data source table will be created instead.\n",
      "24/04/13 11:11:12 WARN HiveMetaStore: Location: file:/Users/bikinghimire/Projects/LeadingCausesOfDeath/spark-warehouse/db_dts.db/final_clean_data specified for non-external table:final_clean_data\n"
     ]
    },
    {
     "name": "stdout",
     "output_type": "stream",
     "text": [
      "+----+---------+-------+----------------------+-----------+\n",
      "|Year|Age_Range|    Sex|Leading_Cause_Of_Death|Death_Count|\n",
      "+----+---------+-------+----------------------+-----------+\n",
      "|2015| 35 to 39|Females|  Operations of war...|          0|\n",
      "|2015| 35 to 39|Females|  Complications of ...|          1|\n",
      "|2015| 35 to 39|Females|  Other causes of d...|        130|\n",
      "|2015| 40 to 44|  Males|  Salmonella infect...|          0|\n",
      "|2015| 40 to 44|  Males|  Shigellosis and a...|          0|\n",
      "|2015| 40 to 44|  Males|  Tuberculosis [A16...|          1|\n",
      "|2015| 40 to 44|  Males|  Whooping cough [A37]|          0|\n",
      "|2015| 40 to 44|  Males|  Scarlet fever and...|          0|\n",
      "|2015| 40 to 44|  Males|  Meningococcal inf...|          0|\n",
      "|2015| 40 to 44|  Males|      Sepsis [A40-A41]|          7|\n",
      "|2015| 40 to 44|  Males|    Syphilis [A50-A53]|          0|\n",
      "|2015| 40 to 44|  Males|  Acute poliomyelit...|          0|\n",
      "|2015| 40 to 44|  Males|  Arthropod-borne v...|          0|\n",
      "|2015| 40 to 44|  Males|         Measles [B05]|          0|\n",
      "|2015| 40 to 44|  Males|  Viral hepatitis [...|          7|\n",
      "|2015| 40 to 44|  Males|  Human immunodefic...|         16|\n",
      "|2015| 40 to 44|  Males|     Malaria [B50-B54]|          0|\n",
      "|2015| 40 to 44|  Males|  Malignant neoplas...|        291|\n",
      "|2015| 40 to 44|  Males|  In situ neoplasms...|          7|\n",
      "|2015| 40 to 44|  Males|    Anaemias [D50-D64]|          1|\n",
      "+----+---------+-------+----------------------+-----------+\n",
      "only showing top 20 rows\n",
      "\n"
     ]
    }
   ],
   "source": [
    "# Remove total causes of death from the data\n",
    "spark.sql(\"DROP TABLE IF EXISTS final_clean_data\")\n",
    "spark.sql(\"CREATE TABLE IF NOT EXISTS final_clean_data AS SELECT REF_DATE AS Year, Age_Range, Sex, Leading_cause_of_death AS Leading_Cause_Of_Death, Value AS Death_Count FROM death_clean_data WHERE Leading_cause_of_death != 'Total, all causes of death [A00-Y89]'\")\n",
    "spark.sql(\"SELECT * FROM final_clean_data\").show()"
   ]
  },
  {
   "cell_type": "markdown",
   "metadata": {},
   "source": [
    "-----------------------------------------------------------------------------------------\n",
    "#### <p style = \"text-align: center; font-weight: bold;\">Data Analysis</p>\n",
    "-----------------------------------------------------------------------------------------"
   ]
  },
  {
   "cell_type": "code",
   "execution_count": 30,
   "metadata": {},
   "outputs": [],
   "source": [
    "# Import the required libraries\n",
    "from pyspark.sql import Window\n",
    "from pyspark.sql.types import IntegerType\n",
    "from pyspark.sql.functions import col, desc, mean, max, min, sum, count, split, rank, lag, struct"
   ]
  },
  {
   "cell_type": "code",
   "execution_count": 22,
   "metadata": {},
   "outputs": [
    {
     "name": "stdout",
     "output_type": "stream",
     "text": [
      "root\n",
      " |-- Year: string (nullable = true)\n",
      " |-- Age_Range: string (nullable = true)\n",
      " |-- Sex: string (nullable = true)\n",
      " |-- Leading_Cause_Of_Death: string (nullable = true)\n",
      " |-- Death_Count: string (nullable = true)\n",
      "\n"
     ]
    }
   ],
   "source": [
    "# Load the final_clean_data table from Hive into a Spark DataFrame\n",
    "df = spark.sql(\"SELECT * FROM final_clean_data\")\n",
    "\n",
    "# Display the schema of the DataFrame\n",
    "df.printSchema()"
   ]
  },
  {
   "cell_type": "code",
   "execution_count": 23,
   "metadata": {},
   "outputs": [
    {
     "name": "stdout",
     "output_type": "stream",
     "text": [
      "root\n",
      " |-- Year: integer (nullable = true)\n",
      " |-- Age_Range: string (nullable = true)\n",
      " |-- Sex: string (nullable = true)\n",
      " |-- Leading_Cause_Of_Death: string (nullable = true)\n",
      " |-- Death_Count: integer (nullable = true)\n",
      "\n"
     ]
    }
   ],
   "source": [
    "# Change the data types of the columns\n",
    "df = df.withColumn(\"Year\", df[\"Year\"].cast(IntegerType()))\n",
    "df = df.withColumn(\"Death_Count\", df[\"Death_Count\"].cast(IntegerType()))\n",
    "\n",
    "# Display the schema of the DataFrame\n",
    "df.printSchema()"
   ]
  },
  {
   "cell_type": "code",
   "execution_count": 24,
   "metadata": {},
   "outputs": [],
   "source": [
    "# Properly sorting the data\n",
    "df = df.orderBy('Year', 'Age_Range', 'Sex', 'Leading_Cause_Of_Death', 'Death_Count')"
   ]
  },
  {
   "cell_type": "code",
   "execution_count": 25,
   "metadata": {},
   "outputs": [],
   "source": [
    "# Aggregations\n",
    "# Total count of deaths\n",
    "total_deaths = df.select(sum('Death_Count').alias('Total Deaths')).collect()[0]['Total Deaths']\n",
    "\n",
    "# Total deaths by year\n",
    "deaths_by_year = df.groupBy('Year').agg(sum('Death_Count').alias('Total Deaths')).orderBy('Year')\n",
    "\n",
    "# Total deaths by cause of death\n",
    "deaths_by_cause = df.groupBy('Leading_Cause_Of_Death').agg(sum('Death_Count').alias('Total Deaths')).orderBy(desc('Total Deaths'))\n",
    "\n",
    "# Total deaths by age range\n",
    "deaths_by_age = df.groupBy('Age_range').agg(sum('Death_Count').alias('Total Deaths')).orderBy('Age_Range').sort('Total Deaths', ascending=False)\n",
    "\n",
    "# Total deaths by sex\n",
    "deaths_by_sex = df.groupBy('Sex').agg(sum('Death_Count').alias('Total Deaths'))"
   ]
  },
  {
   "cell_type": "code",
   "execution_count": 26,
   "metadata": {},
   "outputs": [],
   "source": [
    "# Insights\n",
    "\n",
    "# Most common cause of death\n",
    "most_common_cause = deaths_by_cause.first()\n",
    "\n",
    "# Age range with highest number of deaths\n",
    "age_max_deaths = deaths_by_age.first()\n",
    "\n",
    "# Year with highest number of deaths\n",
    "year_max_deaths = deaths_by_year.sort('Total Deaths', ascending=False).first()"
   ]
  },
  {
   "cell_type": "code",
   "execution_count": 27,
   "metadata": {},
   "outputs": [
    {
     "name": "stdout",
     "output_type": "stream",
     "text": [
      "Total deaths: 5819828\n",
      "Total deaths by year:\n",
      "+----+------------+\n",
      "|Year|Total Deaths|\n",
      "+----+------------+\n",
      "|2000|      216318|\n",
      "|2001|      217796|\n",
      "|2002|      221838|\n",
      "|2003|      224400|\n",
      "|2004|      224805|\n",
      "|2005|      228266|\n",
      "|2006|      226295|\n",
      "|2007|      233331|\n",
      "|2008|      236701|\n",
      "|2009|      236544|\n",
      "|2010|      238173|\n",
      "|2011|      241662|\n",
      "|2012|      244778|\n",
      "|2013|      250454|\n",
      "|2014|      257027|\n",
      "|2015|      262596|\n",
      "|2016|      265472|\n",
      "|2017|      276573|\n",
      "|2018|      283912|\n",
      "|2019|      283644|\n",
      "+----+------------+\n",
      "only showing top 20 rows\n",
      "\n",
      "Total deaths by cause of death:\n",
      "+---------------------------------------------------------------------------------------------+------------+\n",
      "|Leading_Cause_Of_Death                                                                       |Total Deaths|\n",
      "+---------------------------------------------------------------------------------------------+------------+\n",
      "|Malignant neoplasms [C00-C97]                                                                |1684623     |\n",
      "|Diseases of heart [I00-I09, I11, I13, I20-I51]                                               |1196021     |\n",
      "|Other causes of death                                                                        |987330      |\n",
      "|Cerebrovascular diseases [I60-I69]                                                           |323019      |\n",
      "|Accidents (unintentional injuries) [V01-X59, Y85-Y86]                                        |274586      |\n",
      "|Chronic lower respiratory diseases [J40-J47]                                                 |258427      |\n",
      "|Diabetes mellitus [E10-E14]                                                                  |167237      |\n",
      "|Alzheimer's disease [G30]                                                                    |138193      |\n",
      "|Influenza and pneumonia [J09-J18]                                                            |135299      |\n",
      "|Intentional self-harm (suicide) [X60-X84, Y87.0]                                             |90384       |\n",
      "|Nephritis, nephrotic syndrome and nephrosis [N00-N07, N17-N19, N25-N27]                      |81063       |\n",
      "|Chronic liver disease and cirrhosis [K70, K73-K74]                                           |69430       |\n",
      "|Parkinson's disease [G20-G21]                                                                |53669       |\n",
      "|COVID-19 [U07.1, U07.2, U10.9]                                                               |50065       |\n",
      "|Sepsis [A40-A41]                                                                             |46317       |\n",
      "|Aortic aneurysm and dissection [I71]                                                         |37862       |\n",
      "|In situ neoplasms, benign neoplasms and neoplasms of uncertain or unknown behaviour [D00-D48]|35187       |\n",
      "|Essential hypertension and hypertensive renal disease [I10, I12, I15]                        |34511       |\n",
      "|Pneumonitis due to solids and liquids [J69]                                                  |34010       |\n",
      "|Atherosclerosis [I70]                                                                        |19190       |\n",
      "+---------------------------------------------------------------------------------------------+------------+\n",
      "only showing top 20 rows\n",
      "\n",
      "Total deaths by age range:\n",
      "+-----------+------------+\n",
      "|  Age_range|Total Deaths|\n",
      "+-----------+------------+\n",
      "|85 and over|     1973167|\n",
      "|   80 to 84|      882352|\n",
      "|   75 to 79|      729590|\n",
      "|   70 to 74|      581414|\n",
      "|   65 to 69|      454124|\n",
      "|   60 to 64|      356086|\n",
      "|   55 to 59|      266173|\n",
      "|   50 to 54|      184062|\n",
      "|   45 to 49|      119806|\n",
      "|   40 to 44|       77657|\n",
      "|   35 to 39|       53789|\n",
      "|   30 to 34|       40782|\n",
      "|   25 to 29|       34440|\n",
      "|   20 to 24|       30466|\n",
      "|   15 to 19|       19553|\n",
      "|     1 to 4|        6423|\n",
      "|   10 to 14|        5706|\n",
      "|     5 to 9|        4238|\n",
      "+-----------+------------+\n",
      "\n",
      "Total deaths by sex:\n",
      "+-------+------------+\n",
      "|    Sex|Total Deaths|\n",
      "+-------+------------+\n",
      "|  Males|     2960260|\n",
      "|Females|     2859568|\n",
      "+-------+------------+\n",
      "\n",
      "Most common cause of death: Row(Leading_Cause_Of_Death='Malignant neoplasms [C00-C97]', Total Deaths=1684623)\n",
      "Age range with highest number of deaths: Row(Age_range='85 and over', Total Deaths=1973167)\n",
      "Year with the highest number of deaths: Row(Year=2022, Total Deaths=332430)\n"
     ]
    }
   ],
   "source": [
    "# Print the results\n",
    "print(\"Total deaths:\", total_deaths)\n",
    "print(\"Total deaths by year:\")\n",
    "deaths_by_year.show()\n",
    "print(\"Total deaths by cause of death:\")\n",
    "deaths_by_cause.show(truncate=False)\n",
    "print(\"Total deaths by age range:\")\n",
    "deaths_by_age.show()\n",
    "print(\"Total deaths by sex:\")\n",
    "deaths_by_sex.show()\n",
    "print(\"Most common cause of death:\", most_common_cause)\n",
    "print(\"Age range with highest number of deaths:\", age_max_deaths)\n",
    "print(\"Year with the highest number of deaths:\", year_max_deaths)"
   ]
  },
  {
   "cell_type": "code",
   "execution_count": 33,
   "metadata": {},
   "outputs": [
    {
     "name": "stdout",
     "output_type": "stream",
     "text": [
      "+-----------+------------------------------------------------------------+\n",
      "|Age_Range  |Max_Cause                                                   |\n",
      "+-----------+------------------------------------------------------------+\n",
      "|1 to 4     |{74, Other causes of death}                                 |\n",
      "|10 to 14   |{87, Accidents (unintentional injuries) [V01-X59, Y85-Y86]} |\n",
      "|15 to 19   |{350, Accidents (unintentional injuries) [V01-X59, Y85-Y86]}|\n",
      "|20 to 24   |{449, Accidents (unintentional injuries) [V01-X59, Y85-Y86]}|\n",
      "|25 to 29   |{711, Accidents (unintentional injuries) [V01-X59, Y85-Y86]}|\n",
      "|30 to 34   |{867, Accidents (unintentional injuries) [V01-X59, Y85-Y86]}|\n",
      "|35 to 39   |{908, Accidents (unintentional injuries) [V01-X59, Y85-Y86]}|\n",
      "|40 to 44   |{861, Other causes of death}                                |\n",
      "|45 to 49   |{1170, Malignant neoplasms [C00-C97]}                       |\n",
      "|5 to 9     |{60, Accidents (unintentional injuries) [V01-X59, Y85-Y86]} |\n",
      "|50 to 54   |{1889, Malignant neoplasms [C00-C97]}                       |\n",
      "|55 to 59   |{2840, Malignant neoplasms [C00-C97]}                       |\n",
      "|60 to 64   |{4264, Malignant neoplasms [C00-C97]}                       |\n",
      "|65 to 69   |{5758, Malignant neoplasms [C00-C97]}                       |\n",
      "|70 to 74   |{7080, Malignant neoplasms [C00-C97]}                       |\n",
      "|75 to 79   |{7422, Malignant neoplasms [C00-C97]}                       |\n",
      "|80 to 84   |{6417, Malignant neoplasms [C00-C97]}                       |\n",
      "|85 and over|{22114, Other causes of death}                              |\n",
      "+-----------+------------------------------------------------------------+\n",
      "\n"
     ]
    }
   ],
   "source": [
    "# Group the data by Age_Range and Leading_Cause_Of_Death, and calculate the max Death_Count for each group\n",
    "max_cause_by_age = df.groupBy('Age_Range', 'Leading_Cause_Of_Death').agg(max('Death_Count').alias('Max_Death_Count'))\n",
    "\n",
    "# For each age group, find the leading cause of death with the max Death_Count\n",
    "max_cause_by_age = max_cause_by_age.groupBy('Age_Range').agg(max(struct('Max_Death_Count', 'Leading_Cause_Of_Death')).alias('Max_Cause'))\n",
    "\n",
    "# Show the result\n",
    "max_cause_by_age.show(truncate=False)"
   ]
  },
  {
   "cell_type": "code",
   "execution_count": 28,
   "metadata": {},
   "outputs": [
    {
     "name": "stdout",
     "output_type": "stream",
     "text": [
      "+-----------+------------+-------+\n",
      "|  Age_range|Total Deaths|Min Age|\n",
      "+-----------+------------+-------+\n",
      "|85 and over|     1973167|     85|\n",
      "|   80 to 84|      882352|     80|\n",
      "|   75 to 79|      729590|     75|\n",
      "|   70 to 74|      581414|     70|\n",
      "|   65 to 69|      454124|     65|\n",
      "|   60 to 64|      356086|     60|\n",
      "|   55 to 59|      266173|     55|\n",
      "|   50 to 54|      184062|     50|\n",
      "|   45 to 49|      119806|     45|\n",
      "|   40 to 44|       77657|     40|\n",
      "|   35 to 39|       53789|     35|\n",
      "|   30 to 34|       40782|     30|\n",
      "|   25 to 29|       34440|     25|\n",
      "|   20 to 24|       30466|     20|\n",
      "|   15 to 19|       19553|     15|\n",
      "|     1 to 4|        6423|      1|\n",
      "|   10 to 14|        5706|     10|\n",
      "|     5 to 9|        4238|      5|\n",
      "+-----------+------------+-------+\n",
      "\n"
     ]
    }
   ],
   "source": [
    "# Extracting the minimum age from the Age_Range column\n",
    "deaths_by_age = deaths_by_age.withColumn(\"Min Age\", split(deaths_by_age[\"Age_Range\"], \" \").getItem(0))\n",
    "\n",
    "# convert Min Age to integer\n",
    "deaths_by_age = deaths_by_age.withColumn(\"Min Age\", deaths_by_age[\"Min Age\"].cast(IntegerType()))\n",
    "\n",
    "deaths_by_age.show()"
   ]
  },
  {
   "cell_type": "code",
   "execution_count": 72,
   "metadata": {},
   "outputs": [
    {
     "name": "stdout",
     "output_type": "stream",
     "text": [
      "Correlation between Age and Total Deaths: 0.7821295448270795\n"
     ]
    }
   ],
   "source": [
    "correlation = deaths_by_age.corr(\"Min Age\", \"Total Deaths\")\n",
    "print(\"Correlation between Age and Total Deaths:\", correlation)"
   ]
  },
  {
   "cell_type": "code",
   "execution_count": 73,
   "metadata": {},
   "outputs": [
    {
     "name": "stdout",
     "output_type": "stream",
     "text": [
      "Correlation between Year and Total Deaths: 0.9429323736545834\n"
     ]
    }
   ],
   "source": [
    "correlation = deaths_by_year.corr(\"Year\", \"Total Deaths\")\n",
    "print(\"Correlation between Year and Total Deaths:\", correlation)"
   ]
  },
  {
   "cell_type": "markdown",
   "metadata": {},
   "source": [
    "-----------------------------------------------------------------------------------------\n",
    "#### <p style = \"text-align: center; font-weight: bold;\">Visualization</p>\n",
    "-----------------------------------------------------------------------------------------"
   ]
  },
  {
   "cell_type": "code",
   "execution_count": 74,
   "metadata": {},
   "outputs": [],
   "source": [
    "# Importing the required libraries\n",
    "import plotly.express as px"
   ]
  },
  {
   "cell_type": "code",
   "execution_count": 137,
   "metadata": {},
   "outputs": [
    {
     "data": {
      "application/vnd.plotly.v1+json": {
       "config": {
        "plotlyServerURL": "https://plot.ly"
       },
       "data": [
        {
         "domain": {
          "x": [
           0,
           1
          ],
          "y": [
           0,
           1
          ]
         },
         "hovertemplate": "Sex=%{label}<br>Total Deaths=%{value}<extra></extra>",
         "labels": [
          "Males",
          "Females"
         ],
         "legendgroup": "",
         "name": "",
         "showlegend": true,
         "type": "pie",
         "values": [
          2960260,
          2859568
         ]
        }
       ],
       "layout": {
        "height": 500,
        "legend": {
         "tracegroupgap": 0
        },
        "piecolorway": [
         "rgb(8,48,107)",
         "rgb(8,81,156)",
         "rgb(33,113,181)",
         "rgb(66,146,198)",
         "rgb(107,174,214)",
         "rgb(158,202,225)",
         "rgb(198,219,239)",
         "rgb(222,235,247)",
         "rgb(247,251,255)"
        ],
        "template": {
         "data": {
          "bar": [
           {
            "error_x": {
             "color": "#2a3f5f"
            },
            "error_y": {
             "color": "#2a3f5f"
            },
            "marker": {
             "line": {
              "color": "#E5ECF6",
              "width": 0.5
             },
             "pattern": {
              "fillmode": "overlay",
              "size": 10,
              "solidity": 0.2
             }
            },
            "type": "bar"
           }
          ],
          "barpolar": [
           {
            "marker": {
             "line": {
              "color": "#E5ECF6",
              "width": 0.5
             },
             "pattern": {
              "fillmode": "overlay",
              "size": 10,
              "solidity": 0.2
             }
            },
            "type": "barpolar"
           }
          ],
          "carpet": [
           {
            "aaxis": {
             "endlinecolor": "#2a3f5f",
             "gridcolor": "white",
             "linecolor": "white",
             "minorgridcolor": "white",
             "startlinecolor": "#2a3f5f"
            },
            "baxis": {
             "endlinecolor": "#2a3f5f",
             "gridcolor": "white",
             "linecolor": "white",
             "minorgridcolor": "white",
             "startlinecolor": "#2a3f5f"
            },
            "type": "carpet"
           }
          ],
          "choropleth": [
           {
            "colorbar": {
             "outlinewidth": 0,
             "ticks": ""
            },
            "type": "choropleth"
           }
          ],
          "contour": [
           {
            "colorbar": {
             "outlinewidth": 0,
             "ticks": ""
            },
            "colorscale": [
             [
              0,
              "#0d0887"
             ],
             [
              0.1111111111111111,
              "#46039f"
             ],
             [
              0.2222222222222222,
              "#7201a8"
             ],
             [
              0.3333333333333333,
              "#9c179e"
             ],
             [
              0.4444444444444444,
              "#bd3786"
             ],
             [
              0.5555555555555556,
              "#d8576b"
             ],
             [
              0.6666666666666666,
              "#ed7953"
             ],
             [
              0.7777777777777778,
              "#fb9f3a"
             ],
             [
              0.8888888888888888,
              "#fdca26"
             ],
             [
              1,
              "#f0f921"
             ]
            ],
            "type": "contour"
           }
          ],
          "contourcarpet": [
           {
            "colorbar": {
             "outlinewidth": 0,
             "ticks": ""
            },
            "type": "contourcarpet"
           }
          ],
          "heatmap": [
           {
            "colorbar": {
             "outlinewidth": 0,
             "ticks": ""
            },
            "colorscale": [
             [
              0,
              "#0d0887"
             ],
             [
              0.1111111111111111,
              "#46039f"
             ],
             [
              0.2222222222222222,
              "#7201a8"
             ],
             [
              0.3333333333333333,
              "#9c179e"
             ],
             [
              0.4444444444444444,
              "#bd3786"
             ],
             [
              0.5555555555555556,
              "#d8576b"
             ],
             [
              0.6666666666666666,
              "#ed7953"
             ],
             [
              0.7777777777777778,
              "#fb9f3a"
             ],
             [
              0.8888888888888888,
              "#fdca26"
             ],
             [
              1,
              "#f0f921"
             ]
            ],
            "type": "heatmap"
           }
          ],
          "heatmapgl": [
           {
            "colorbar": {
             "outlinewidth": 0,
             "ticks": ""
            },
            "colorscale": [
             [
              0,
              "#0d0887"
             ],
             [
              0.1111111111111111,
              "#46039f"
             ],
             [
              0.2222222222222222,
              "#7201a8"
             ],
             [
              0.3333333333333333,
              "#9c179e"
             ],
             [
              0.4444444444444444,
              "#bd3786"
             ],
             [
              0.5555555555555556,
              "#d8576b"
             ],
             [
              0.6666666666666666,
              "#ed7953"
             ],
             [
              0.7777777777777778,
              "#fb9f3a"
             ],
             [
              0.8888888888888888,
              "#fdca26"
             ],
             [
              1,
              "#f0f921"
             ]
            ],
            "type": "heatmapgl"
           }
          ],
          "histogram": [
           {
            "marker": {
             "pattern": {
              "fillmode": "overlay",
              "size": 10,
              "solidity": 0.2
             }
            },
            "type": "histogram"
           }
          ],
          "histogram2d": [
           {
            "colorbar": {
             "outlinewidth": 0,
             "ticks": ""
            },
            "colorscale": [
             [
              0,
              "#0d0887"
             ],
             [
              0.1111111111111111,
              "#46039f"
             ],
             [
              0.2222222222222222,
              "#7201a8"
             ],
             [
              0.3333333333333333,
              "#9c179e"
             ],
             [
              0.4444444444444444,
              "#bd3786"
             ],
             [
              0.5555555555555556,
              "#d8576b"
             ],
             [
              0.6666666666666666,
              "#ed7953"
             ],
             [
              0.7777777777777778,
              "#fb9f3a"
             ],
             [
              0.8888888888888888,
              "#fdca26"
             ],
             [
              1,
              "#f0f921"
             ]
            ],
            "type": "histogram2d"
           }
          ],
          "histogram2dcontour": [
           {
            "colorbar": {
             "outlinewidth": 0,
             "ticks": ""
            },
            "colorscale": [
             [
              0,
              "#0d0887"
             ],
             [
              0.1111111111111111,
              "#46039f"
             ],
             [
              0.2222222222222222,
              "#7201a8"
             ],
             [
              0.3333333333333333,
              "#9c179e"
             ],
             [
              0.4444444444444444,
              "#bd3786"
             ],
             [
              0.5555555555555556,
              "#d8576b"
             ],
             [
              0.6666666666666666,
              "#ed7953"
             ],
             [
              0.7777777777777778,
              "#fb9f3a"
             ],
             [
              0.8888888888888888,
              "#fdca26"
             ],
             [
              1,
              "#f0f921"
             ]
            ],
            "type": "histogram2dcontour"
           }
          ],
          "mesh3d": [
           {
            "colorbar": {
             "outlinewidth": 0,
             "ticks": ""
            },
            "type": "mesh3d"
           }
          ],
          "parcoords": [
           {
            "line": {
             "colorbar": {
              "outlinewidth": 0,
              "ticks": ""
             }
            },
            "type": "parcoords"
           }
          ],
          "pie": [
           {
            "automargin": true,
            "type": "pie"
           }
          ],
          "scatter": [
           {
            "fillpattern": {
             "fillmode": "overlay",
             "size": 10,
             "solidity": 0.2
            },
            "type": "scatter"
           }
          ],
          "scatter3d": [
           {
            "line": {
             "colorbar": {
              "outlinewidth": 0,
              "ticks": ""
             }
            },
            "marker": {
             "colorbar": {
              "outlinewidth": 0,
              "ticks": ""
             }
            },
            "type": "scatter3d"
           }
          ],
          "scattercarpet": [
           {
            "marker": {
             "colorbar": {
              "outlinewidth": 0,
              "ticks": ""
             }
            },
            "type": "scattercarpet"
           }
          ],
          "scattergeo": [
           {
            "marker": {
             "colorbar": {
              "outlinewidth": 0,
              "ticks": ""
             }
            },
            "type": "scattergeo"
           }
          ],
          "scattergl": [
           {
            "marker": {
             "colorbar": {
              "outlinewidth": 0,
              "ticks": ""
             }
            },
            "type": "scattergl"
           }
          ],
          "scattermapbox": [
           {
            "marker": {
             "colorbar": {
              "outlinewidth": 0,
              "ticks": ""
             }
            },
            "type": "scattermapbox"
           }
          ],
          "scatterpolar": [
           {
            "marker": {
             "colorbar": {
              "outlinewidth": 0,
              "ticks": ""
             }
            },
            "type": "scatterpolar"
           }
          ],
          "scatterpolargl": [
           {
            "marker": {
             "colorbar": {
              "outlinewidth": 0,
              "ticks": ""
             }
            },
            "type": "scatterpolargl"
           }
          ],
          "scatterternary": [
           {
            "marker": {
             "colorbar": {
              "outlinewidth": 0,
              "ticks": ""
             }
            },
            "type": "scatterternary"
           }
          ],
          "surface": [
           {
            "colorbar": {
             "outlinewidth": 0,
             "ticks": ""
            },
            "colorscale": [
             [
              0,
              "#0d0887"
             ],
             [
              0.1111111111111111,
              "#46039f"
             ],
             [
              0.2222222222222222,
              "#7201a8"
             ],
             [
              0.3333333333333333,
              "#9c179e"
             ],
             [
              0.4444444444444444,
              "#bd3786"
             ],
             [
              0.5555555555555556,
              "#d8576b"
             ],
             [
              0.6666666666666666,
              "#ed7953"
             ],
             [
              0.7777777777777778,
              "#fb9f3a"
             ],
             [
              0.8888888888888888,
              "#fdca26"
             ],
             [
              1,
              "#f0f921"
             ]
            ],
            "type": "surface"
           }
          ],
          "table": [
           {
            "cells": {
             "fill": {
              "color": "#EBF0F8"
             },
             "line": {
              "color": "white"
             }
            },
            "header": {
             "fill": {
              "color": "#C8D4E3"
             },
             "line": {
              "color": "white"
             }
            },
            "type": "table"
           }
          ]
         },
         "layout": {
          "annotationdefaults": {
           "arrowcolor": "#2a3f5f",
           "arrowhead": 0,
           "arrowwidth": 1
          },
          "autotypenumbers": "strict",
          "coloraxis": {
           "colorbar": {
            "outlinewidth": 0,
            "ticks": ""
           }
          },
          "colorscale": {
           "diverging": [
            [
             0,
             "#8e0152"
            ],
            [
             0.1,
             "#c51b7d"
            ],
            [
             0.2,
             "#de77ae"
            ],
            [
             0.3,
             "#f1b6da"
            ],
            [
             0.4,
             "#fde0ef"
            ],
            [
             0.5,
             "#f7f7f7"
            ],
            [
             0.6,
             "#e6f5d0"
            ],
            [
             0.7,
             "#b8e186"
            ],
            [
             0.8,
             "#7fbc41"
            ],
            [
             0.9,
             "#4d9221"
            ],
            [
             1,
             "#276419"
            ]
           ],
           "sequential": [
            [
             0,
             "#0d0887"
            ],
            [
             0.1111111111111111,
             "#46039f"
            ],
            [
             0.2222222222222222,
             "#7201a8"
            ],
            [
             0.3333333333333333,
             "#9c179e"
            ],
            [
             0.4444444444444444,
             "#bd3786"
            ],
            [
             0.5555555555555556,
             "#d8576b"
            ],
            [
             0.6666666666666666,
             "#ed7953"
            ],
            [
             0.7777777777777778,
             "#fb9f3a"
            ],
            [
             0.8888888888888888,
             "#fdca26"
            ],
            [
             1,
             "#f0f921"
            ]
           ],
           "sequentialminus": [
            [
             0,
             "#0d0887"
            ],
            [
             0.1111111111111111,
             "#46039f"
            ],
            [
             0.2222222222222222,
             "#7201a8"
            ],
            [
             0.3333333333333333,
             "#9c179e"
            ],
            [
             0.4444444444444444,
             "#bd3786"
            ],
            [
             0.5555555555555556,
             "#d8576b"
            ],
            [
             0.6666666666666666,
             "#ed7953"
            ],
            [
             0.7777777777777778,
             "#fb9f3a"
            ],
            [
             0.8888888888888888,
             "#fdca26"
            ],
            [
             1,
             "#f0f921"
            ]
           ]
          },
          "colorway": [
           "#636efa",
           "#EF553B",
           "#00cc96",
           "#ab63fa",
           "#FFA15A",
           "#19d3f3",
           "#FF6692",
           "#B6E880",
           "#FF97FF",
           "#FECB52"
          ],
          "font": {
           "color": "#2a3f5f"
          },
          "geo": {
           "bgcolor": "white",
           "lakecolor": "white",
           "landcolor": "#E5ECF6",
           "showlakes": true,
           "showland": true,
           "subunitcolor": "white"
          },
          "hoverlabel": {
           "align": "left"
          },
          "hovermode": "closest",
          "mapbox": {
           "style": "light"
          },
          "paper_bgcolor": "white",
          "plot_bgcolor": "#E5ECF6",
          "polar": {
           "angularaxis": {
            "gridcolor": "white",
            "linecolor": "white",
            "ticks": ""
           },
           "bgcolor": "#E5ECF6",
           "radialaxis": {
            "gridcolor": "white",
            "linecolor": "white",
            "ticks": ""
           }
          },
          "scene": {
           "xaxis": {
            "backgroundcolor": "#E5ECF6",
            "gridcolor": "white",
            "gridwidth": 2,
            "linecolor": "white",
            "showbackground": true,
            "ticks": "",
            "zerolinecolor": "white"
           },
           "yaxis": {
            "backgroundcolor": "#E5ECF6",
            "gridcolor": "white",
            "gridwidth": 2,
            "linecolor": "white",
            "showbackground": true,
            "ticks": "",
            "zerolinecolor": "white"
           },
           "zaxis": {
            "backgroundcolor": "#E5ECF6",
            "gridcolor": "white",
            "gridwidth": 2,
            "linecolor": "white",
            "showbackground": true,
            "ticks": "",
            "zerolinecolor": "white"
           }
          },
          "shapedefaults": {
           "line": {
            "color": "#2a3f5f"
           }
          },
          "ternary": {
           "aaxis": {
            "gridcolor": "white",
            "linecolor": "white",
            "ticks": ""
           },
           "baxis": {
            "gridcolor": "white",
            "linecolor": "white",
            "ticks": ""
           },
           "bgcolor": "#E5ECF6",
           "caxis": {
            "gridcolor": "white",
            "linecolor": "white",
            "ticks": ""
           }
          },
          "title": {
           "x": 0.05
          },
          "xaxis": {
           "automargin": true,
           "gridcolor": "white",
           "linecolor": "white",
           "ticks": "",
           "title": {
            "standoff": 15
           },
           "zerolinecolor": "white",
           "zerolinewidth": 2
          },
          "yaxis": {
           "automargin": true,
           "gridcolor": "white",
           "linecolor": "white",
           "ticks": "",
           "title": {
            "standoff": 15
           },
           "zerolinecolor": "white",
           "zerolinewidth": 2
          }
         }
        },
        "title": {
         "text": "Total Deaths by Sex"
        },
        "width": 500
       }
      }
     },
     "metadata": {},
     "output_type": "display_data"
    }
   ],
   "source": [
    "# Calculate total deaths by sex\n",
    "deaths_by_sex = df.groupBy('Sex').agg(sum('Death_Count').alias('Total Deaths'))\n",
    "\n",
    "# Create a pie chart\n",
    "fig = px.pie(deaths_by_sex, values='Total Deaths', names='Sex', title='Total Deaths by Sex', color_discrete_sequence=px.colors.sequential.Blues_r, width=500, height=500)\n",
    "\n",
    "# Show the chart\n",
    "fig.show()"
   ]
  },
  {
   "cell_type": "code",
   "execution_count": 139,
   "metadata": {},
   "outputs": [
    {
     "data": {
      "application/vnd.plotly.v1+json": {
       "config": {
        "plotlyServerURL": "https://plot.ly"
       },
       "data": [
        {
         "alignmentgroup": "True",
         "hovertemplate": "Leading_Cause_Of_Death=%{x}<br>Total_Deaths=%{y}<extra></extra>",
         "legendgroup": "",
         "marker": {
          "color": "#636efa",
          "pattern": {
           "shape": ""
          }
         },
         "name": "",
         "offsetgroup": "",
         "orientation": "v",
         "showlegend": false,
         "textposition": "auto",
         "type": "bar",
         "x": [
          "Malignant neoplasms [C00-C97]",
          "Diseases of heart [I00-I09, I11, I13, I20-I51]",
          "Other causes of death",
          "Cerebrovascular diseases [I60-I69]",
          "Accidents (unintentional injuries) [V01-X59, Y85-Y86]",
          "Chronic lower respiratory diseases [J40-J47]",
          "Diabetes mellitus [E10-E14]",
          "Alzheimer's disease [G30]",
          "Influenza and pneumonia [J09-J18]",
          "Intentional self-harm (suicide) [X60-X84, Y87.0]"
         ],
         "xaxis": "x",
         "y": [
          1684623,
          1196021,
          987330,
          323019,
          274586,
          258427,
          167237,
          138193,
          135299,
          90384
         ],
         "yaxis": "y"
        }
       ],
       "layout": {
        "barmode": "relative",
        "legend": {
         "tracegroupgap": 0
        },
        "template": {
         "data": {
          "bar": [
           {
            "error_x": {
             "color": "#2a3f5f"
            },
            "error_y": {
             "color": "#2a3f5f"
            },
            "marker": {
             "line": {
              "color": "#E5ECF6",
              "width": 0.5
             },
             "pattern": {
              "fillmode": "overlay",
              "size": 10,
              "solidity": 0.2
             }
            },
            "type": "bar"
           }
          ],
          "barpolar": [
           {
            "marker": {
             "line": {
              "color": "#E5ECF6",
              "width": 0.5
             },
             "pattern": {
              "fillmode": "overlay",
              "size": 10,
              "solidity": 0.2
             }
            },
            "type": "barpolar"
           }
          ],
          "carpet": [
           {
            "aaxis": {
             "endlinecolor": "#2a3f5f",
             "gridcolor": "white",
             "linecolor": "white",
             "minorgridcolor": "white",
             "startlinecolor": "#2a3f5f"
            },
            "baxis": {
             "endlinecolor": "#2a3f5f",
             "gridcolor": "white",
             "linecolor": "white",
             "minorgridcolor": "white",
             "startlinecolor": "#2a3f5f"
            },
            "type": "carpet"
           }
          ],
          "choropleth": [
           {
            "colorbar": {
             "outlinewidth": 0,
             "ticks": ""
            },
            "type": "choropleth"
           }
          ],
          "contour": [
           {
            "colorbar": {
             "outlinewidth": 0,
             "ticks": ""
            },
            "colorscale": [
             [
              0,
              "#0d0887"
             ],
             [
              0.1111111111111111,
              "#46039f"
             ],
             [
              0.2222222222222222,
              "#7201a8"
             ],
             [
              0.3333333333333333,
              "#9c179e"
             ],
             [
              0.4444444444444444,
              "#bd3786"
             ],
             [
              0.5555555555555556,
              "#d8576b"
             ],
             [
              0.6666666666666666,
              "#ed7953"
             ],
             [
              0.7777777777777778,
              "#fb9f3a"
             ],
             [
              0.8888888888888888,
              "#fdca26"
             ],
             [
              1,
              "#f0f921"
             ]
            ],
            "type": "contour"
           }
          ],
          "contourcarpet": [
           {
            "colorbar": {
             "outlinewidth": 0,
             "ticks": ""
            },
            "type": "contourcarpet"
           }
          ],
          "heatmap": [
           {
            "colorbar": {
             "outlinewidth": 0,
             "ticks": ""
            },
            "colorscale": [
             [
              0,
              "#0d0887"
             ],
             [
              0.1111111111111111,
              "#46039f"
             ],
             [
              0.2222222222222222,
              "#7201a8"
             ],
             [
              0.3333333333333333,
              "#9c179e"
             ],
             [
              0.4444444444444444,
              "#bd3786"
             ],
             [
              0.5555555555555556,
              "#d8576b"
             ],
             [
              0.6666666666666666,
              "#ed7953"
             ],
             [
              0.7777777777777778,
              "#fb9f3a"
             ],
             [
              0.8888888888888888,
              "#fdca26"
             ],
             [
              1,
              "#f0f921"
             ]
            ],
            "type": "heatmap"
           }
          ],
          "heatmapgl": [
           {
            "colorbar": {
             "outlinewidth": 0,
             "ticks": ""
            },
            "colorscale": [
             [
              0,
              "#0d0887"
             ],
             [
              0.1111111111111111,
              "#46039f"
             ],
             [
              0.2222222222222222,
              "#7201a8"
             ],
             [
              0.3333333333333333,
              "#9c179e"
             ],
             [
              0.4444444444444444,
              "#bd3786"
             ],
             [
              0.5555555555555556,
              "#d8576b"
             ],
             [
              0.6666666666666666,
              "#ed7953"
             ],
             [
              0.7777777777777778,
              "#fb9f3a"
             ],
             [
              0.8888888888888888,
              "#fdca26"
             ],
             [
              1,
              "#f0f921"
             ]
            ],
            "type": "heatmapgl"
           }
          ],
          "histogram": [
           {
            "marker": {
             "pattern": {
              "fillmode": "overlay",
              "size": 10,
              "solidity": 0.2
             }
            },
            "type": "histogram"
           }
          ],
          "histogram2d": [
           {
            "colorbar": {
             "outlinewidth": 0,
             "ticks": ""
            },
            "colorscale": [
             [
              0,
              "#0d0887"
             ],
             [
              0.1111111111111111,
              "#46039f"
             ],
             [
              0.2222222222222222,
              "#7201a8"
             ],
             [
              0.3333333333333333,
              "#9c179e"
             ],
             [
              0.4444444444444444,
              "#bd3786"
             ],
             [
              0.5555555555555556,
              "#d8576b"
             ],
             [
              0.6666666666666666,
              "#ed7953"
             ],
             [
              0.7777777777777778,
              "#fb9f3a"
             ],
             [
              0.8888888888888888,
              "#fdca26"
             ],
             [
              1,
              "#f0f921"
             ]
            ],
            "type": "histogram2d"
           }
          ],
          "histogram2dcontour": [
           {
            "colorbar": {
             "outlinewidth": 0,
             "ticks": ""
            },
            "colorscale": [
             [
              0,
              "#0d0887"
             ],
             [
              0.1111111111111111,
              "#46039f"
             ],
             [
              0.2222222222222222,
              "#7201a8"
             ],
             [
              0.3333333333333333,
              "#9c179e"
             ],
             [
              0.4444444444444444,
              "#bd3786"
             ],
             [
              0.5555555555555556,
              "#d8576b"
             ],
             [
              0.6666666666666666,
              "#ed7953"
             ],
             [
              0.7777777777777778,
              "#fb9f3a"
             ],
             [
              0.8888888888888888,
              "#fdca26"
             ],
             [
              1,
              "#f0f921"
             ]
            ],
            "type": "histogram2dcontour"
           }
          ],
          "mesh3d": [
           {
            "colorbar": {
             "outlinewidth": 0,
             "ticks": ""
            },
            "type": "mesh3d"
           }
          ],
          "parcoords": [
           {
            "line": {
             "colorbar": {
              "outlinewidth": 0,
              "ticks": ""
             }
            },
            "type": "parcoords"
           }
          ],
          "pie": [
           {
            "automargin": true,
            "type": "pie"
           }
          ],
          "scatter": [
           {
            "fillpattern": {
             "fillmode": "overlay",
             "size": 10,
             "solidity": 0.2
            },
            "type": "scatter"
           }
          ],
          "scatter3d": [
           {
            "line": {
             "colorbar": {
              "outlinewidth": 0,
              "ticks": ""
             }
            },
            "marker": {
             "colorbar": {
              "outlinewidth": 0,
              "ticks": ""
             }
            },
            "type": "scatter3d"
           }
          ],
          "scattercarpet": [
           {
            "marker": {
             "colorbar": {
              "outlinewidth": 0,
              "ticks": ""
             }
            },
            "type": "scattercarpet"
           }
          ],
          "scattergeo": [
           {
            "marker": {
             "colorbar": {
              "outlinewidth": 0,
              "ticks": ""
             }
            },
            "type": "scattergeo"
           }
          ],
          "scattergl": [
           {
            "marker": {
             "colorbar": {
              "outlinewidth": 0,
              "ticks": ""
             }
            },
            "type": "scattergl"
           }
          ],
          "scattermapbox": [
           {
            "marker": {
             "colorbar": {
              "outlinewidth": 0,
              "ticks": ""
             }
            },
            "type": "scattermapbox"
           }
          ],
          "scatterpolar": [
           {
            "marker": {
             "colorbar": {
              "outlinewidth": 0,
              "ticks": ""
             }
            },
            "type": "scatterpolar"
           }
          ],
          "scatterpolargl": [
           {
            "marker": {
             "colorbar": {
              "outlinewidth": 0,
              "ticks": ""
             }
            },
            "type": "scatterpolargl"
           }
          ],
          "scatterternary": [
           {
            "marker": {
             "colorbar": {
              "outlinewidth": 0,
              "ticks": ""
             }
            },
            "type": "scatterternary"
           }
          ],
          "surface": [
           {
            "colorbar": {
             "outlinewidth": 0,
             "ticks": ""
            },
            "colorscale": [
             [
              0,
              "#0d0887"
             ],
             [
              0.1111111111111111,
              "#46039f"
             ],
             [
              0.2222222222222222,
              "#7201a8"
             ],
             [
              0.3333333333333333,
              "#9c179e"
             ],
             [
              0.4444444444444444,
              "#bd3786"
             ],
             [
              0.5555555555555556,
              "#d8576b"
             ],
             [
              0.6666666666666666,
              "#ed7953"
             ],
             [
              0.7777777777777778,
              "#fb9f3a"
             ],
             [
              0.8888888888888888,
              "#fdca26"
             ],
             [
              1,
              "#f0f921"
             ]
            ],
            "type": "surface"
           }
          ],
          "table": [
           {
            "cells": {
             "fill": {
              "color": "#EBF0F8"
             },
             "line": {
              "color": "white"
             }
            },
            "header": {
             "fill": {
              "color": "#C8D4E3"
             },
             "line": {
              "color": "white"
             }
            },
            "type": "table"
           }
          ]
         },
         "layout": {
          "annotationdefaults": {
           "arrowcolor": "#2a3f5f",
           "arrowhead": 0,
           "arrowwidth": 1
          },
          "autotypenumbers": "strict",
          "coloraxis": {
           "colorbar": {
            "outlinewidth": 0,
            "ticks": ""
           }
          },
          "colorscale": {
           "diverging": [
            [
             0,
             "#8e0152"
            ],
            [
             0.1,
             "#c51b7d"
            ],
            [
             0.2,
             "#de77ae"
            ],
            [
             0.3,
             "#f1b6da"
            ],
            [
             0.4,
             "#fde0ef"
            ],
            [
             0.5,
             "#f7f7f7"
            ],
            [
             0.6,
             "#e6f5d0"
            ],
            [
             0.7,
             "#b8e186"
            ],
            [
             0.8,
             "#7fbc41"
            ],
            [
             0.9,
             "#4d9221"
            ],
            [
             1,
             "#276419"
            ]
           ],
           "sequential": [
            [
             0,
             "#0d0887"
            ],
            [
             0.1111111111111111,
             "#46039f"
            ],
            [
             0.2222222222222222,
             "#7201a8"
            ],
            [
             0.3333333333333333,
             "#9c179e"
            ],
            [
             0.4444444444444444,
             "#bd3786"
            ],
            [
             0.5555555555555556,
             "#d8576b"
            ],
            [
             0.6666666666666666,
             "#ed7953"
            ],
            [
             0.7777777777777778,
             "#fb9f3a"
            ],
            [
             0.8888888888888888,
             "#fdca26"
            ],
            [
             1,
             "#f0f921"
            ]
           ],
           "sequentialminus": [
            [
             0,
             "#0d0887"
            ],
            [
             0.1111111111111111,
             "#46039f"
            ],
            [
             0.2222222222222222,
             "#7201a8"
            ],
            [
             0.3333333333333333,
             "#9c179e"
            ],
            [
             0.4444444444444444,
             "#bd3786"
            ],
            [
             0.5555555555555556,
             "#d8576b"
            ],
            [
             0.6666666666666666,
             "#ed7953"
            ],
            [
             0.7777777777777778,
             "#fb9f3a"
            ],
            [
             0.8888888888888888,
             "#fdca26"
            ],
            [
             1,
             "#f0f921"
            ]
           ]
          },
          "colorway": [
           "#636efa",
           "#EF553B",
           "#00cc96",
           "#ab63fa",
           "#FFA15A",
           "#19d3f3",
           "#FF6692",
           "#B6E880",
           "#FF97FF",
           "#FECB52"
          ],
          "font": {
           "color": "#2a3f5f"
          },
          "geo": {
           "bgcolor": "white",
           "lakecolor": "white",
           "landcolor": "#E5ECF6",
           "showlakes": true,
           "showland": true,
           "subunitcolor": "white"
          },
          "hoverlabel": {
           "align": "left"
          },
          "hovermode": "closest",
          "mapbox": {
           "style": "light"
          },
          "paper_bgcolor": "white",
          "plot_bgcolor": "#E5ECF6",
          "polar": {
           "angularaxis": {
            "gridcolor": "white",
            "linecolor": "white",
            "ticks": ""
           },
           "bgcolor": "#E5ECF6",
           "radialaxis": {
            "gridcolor": "white",
            "linecolor": "white",
            "ticks": ""
           }
          },
          "scene": {
           "xaxis": {
            "backgroundcolor": "#E5ECF6",
            "gridcolor": "white",
            "gridwidth": 2,
            "linecolor": "white",
            "showbackground": true,
            "ticks": "",
            "zerolinecolor": "white"
           },
           "yaxis": {
            "backgroundcolor": "#E5ECF6",
            "gridcolor": "white",
            "gridwidth": 2,
            "linecolor": "white",
            "showbackground": true,
            "ticks": "",
            "zerolinecolor": "white"
           },
           "zaxis": {
            "backgroundcolor": "#E5ECF6",
            "gridcolor": "white",
            "gridwidth": 2,
            "linecolor": "white",
            "showbackground": true,
            "ticks": "",
            "zerolinecolor": "white"
           }
          },
          "shapedefaults": {
           "line": {
            "color": "#2a3f5f"
           }
          },
          "ternary": {
           "aaxis": {
            "gridcolor": "white",
            "linecolor": "white",
            "ticks": ""
           },
           "baxis": {
            "gridcolor": "white",
            "linecolor": "white",
            "ticks": ""
           },
           "bgcolor": "#E5ECF6",
           "caxis": {
            "gridcolor": "white",
            "linecolor": "white",
            "ticks": ""
           }
          },
          "title": {
           "x": 0.05
          },
          "xaxis": {
           "automargin": true,
           "gridcolor": "white",
           "linecolor": "white",
           "ticks": "",
           "title": {
            "standoff": 15
           },
           "zerolinecolor": "white",
           "zerolinewidth": 2
          },
          "yaxis": {
           "automargin": true,
           "gridcolor": "white",
           "linecolor": "white",
           "ticks": "",
           "title": {
            "standoff": 15
           },
           "zerolinecolor": "white",
           "zerolinewidth": 2
          }
         }
        },
        "title": {
         "text": "Top 10 Leading Causes of Death"
        },
        "xaxis": {
         "anchor": "y",
         "domain": [
          0,
          1
         ],
         "title": {
          "text": "Leading_Cause_Of_Death"
         }
        },
        "yaxis": {
         "anchor": "x",
         "domain": [
          0,
          1
         ],
         "title": {
          "text": "Total_Deaths"
         }
        }
       }
      }
     },
     "metadata": {},
     "output_type": "display_data"
    }
   ],
   "source": [
    "# Group the data by Leading_Cause_Of_Death and calculate the sum of Death_Count for each group\n",
    "top_causes = df.groupBy('Leading_Cause_Of_Death').agg(sum('Death_Count').alias('Total_Deaths'))\n",
    "\n",
    "# Sort the data by Total_Deaths in descending order and select the top 10 causes\n",
    "top_causes = top_causes.orderBy(desc('Total_Deaths')).limit(10)\n",
    "\n",
    "# Create a bar graph\n",
    "fig = px.bar(top_causes, x='Leading_Cause_Of_Death', y='Total_Deaths', title='Top 10 Leading Causes of Death')\n",
    "\n",
    "# Show the graph\n",
    "fig.show()"
   ]
  },
  {
   "cell_type": "code",
   "execution_count": 76,
   "metadata": {},
   "outputs": [
    {
     "data": {
      "application/vnd.plotly.v1+json": {
       "config": {
        "plotlyServerURL": "https://plot.ly"
       },
       "data": [
        {
         "hovertemplate": "Min Age=%{x}<br>Total Deaths=%{y}<extra></extra>",
         "legendgroup": "",
         "marker": {
          "color": "#636efa",
          "symbol": "circle"
         },
         "mode": "markers",
         "name": "",
         "orientation": "v",
         "showlegend": false,
         "type": "scatter",
         "x": [
          85,
          80,
          75,
          70,
          65,
          60,
          55,
          50,
          45,
          40,
          35,
          30,
          25,
          20,
          15,
          1,
          10,
          5
         ],
         "xaxis": "x",
         "y": [
          1973167,
          882352,
          729590,
          581414,
          454124,
          356086,
          266173,
          184062,
          119806,
          77657,
          53789,
          40782,
          34440,
          30466,
          19553,
          6423,
          5706,
          4238
         ],
         "yaxis": "y"
        },
        {
         "hovertemplate": "<b>OLS trendline</b><br>Total Deaths = 14485.4 * Min Age + -293112<br>R<sup>2</sup>=0.611727<br><br>Min Age=%{x}<br>Total Deaths=%{y} <b>(trend)</b><extra></extra>",
         "legendgroup": "",
         "marker": {
          "color": "#636efa",
          "symbol": "circle"
         },
         "mode": "lines",
         "name": "",
         "showlegend": false,
         "type": "scatter",
         "x": [
          1,
          5,
          10,
          15,
          20,
          25,
          30,
          35,
          40,
          45,
          50,
          55,
          60,
          65,
          70,
          75,
          80,
          85
         ],
         "xaxis": "x",
         "y": [
          -278626.7597361809,
          -220684.99676692282,
          -148257.79305535028,
          -75830.58934377773,
          -3403.385632205165,
          69023.8180793674,
          141451.02179093994,
          213878.2255025125,
          286305.42921408504,
          358732.6329256576,
          431159.8366372302,
          503587.04034880275,
          576014.2440603753,
          648441.4477719478,
          720868.6514835204,
          793295.855195093,
          865723.0589066655,
          938150.2626182381
         ],
         "yaxis": "y"
        }
       ],
       "layout": {
        "legend": {
         "tracegroupgap": 0
        },
        "margin": {
         "t": 60
        },
        "template": {
         "data": {
          "bar": [
           {
            "error_x": {
             "color": "#2a3f5f"
            },
            "error_y": {
             "color": "#2a3f5f"
            },
            "marker": {
             "line": {
              "color": "#E5ECF6",
              "width": 0.5
             },
             "pattern": {
              "fillmode": "overlay",
              "size": 10,
              "solidity": 0.2
             }
            },
            "type": "bar"
           }
          ],
          "barpolar": [
           {
            "marker": {
             "line": {
              "color": "#E5ECF6",
              "width": 0.5
             },
             "pattern": {
              "fillmode": "overlay",
              "size": 10,
              "solidity": 0.2
             }
            },
            "type": "barpolar"
           }
          ],
          "carpet": [
           {
            "aaxis": {
             "endlinecolor": "#2a3f5f",
             "gridcolor": "white",
             "linecolor": "white",
             "minorgridcolor": "white",
             "startlinecolor": "#2a3f5f"
            },
            "baxis": {
             "endlinecolor": "#2a3f5f",
             "gridcolor": "white",
             "linecolor": "white",
             "minorgridcolor": "white",
             "startlinecolor": "#2a3f5f"
            },
            "type": "carpet"
           }
          ],
          "choropleth": [
           {
            "colorbar": {
             "outlinewidth": 0,
             "ticks": ""
            },
            "type": "choropleth"
           }
          ],
          "contour": [
           {
            "colorbar": {
             "outlinewidth": 0,
             "ticks": ""
            },
            "colorscale": [
             [
              0,
              "#0d0887"
             ],
             [
              0.1111111111111111,
              "#46039f"
             ],
             [
              0.2222222222222222,
              "#7201a8"
             ],
             [
              0.3333333333333333,
              "#9c179e"
             ],
             [
              0.4444444444444444,
              "#bd3786"
             ],
             [
              0.5555555555555556,
              "#d8576b"
             ],
             [
              0.6666666666666666,
              "#ed7953"
             ],
             [
              0.7777777777777778,
              "#fb9f3a"
             ],
             [
              0.8888888888888888,
              "#fdca26"
             ],
             [
              1,
              "#f0f921"
             ]
            ],
            "type": "contour"
           }
          ],
          "contourcarpet": [
           {
            "colorbar": {
             "outlinewidth": 0,
             "ticks": ""
            },
            "type": "contourcarpet"
           }
          ],
          "heatmap": [
           {
            "colorbar": {
             "outlinewidth": 0,
             "ticks": ""
            },
            "colorscale": [
             [
              0,
              "#0d0887"
             ],
             [
              0.1111111111111111,
              "#46039f"
             ],
             [
              0.2222222222222222,
              "#7201a8"
             ],
             [
              0.3333333333333333,
              "#9c179e"
             ],
             [
              0.4444444444444444,
              "#bd3786"
             ],
             [
              0.5555555555555556,
              "#d8576b"
             ],
             [
              0.6666666666666666,
              "#ed7953"
             ],
             [
              0.7777777777777778,
              "#fb9f3a"
             ],
             [
              0.8888888888888888,
              "#fdca26"
             ],
             [
              1,
              "#f0f921"
             ]
            ],
            "type": "heatmap"
           }
          ],
          "heatmapgl": [
           {
            "colorbar": {
             "outlinewidth": 0,
             "ticks": ""
            },
            "colorscale": [
             [
              0,
              "#0d0887"
             ],
             [
              0.1111111111111111,
              "#46039f"
             ],
             [
              0.2222222222222222,
              "#7201a8"
             ],
             [
              0.3333333333333333,
              "#9c179e"
             ],
             [
              0.4444444444444444,
              "#bd3786"
             ],
             [
              0.5555555555555556,
              "#d8576b"
             ],
             [
              0.6666666666666666,
              "#ed7953"
             ],
             [
              0.7777777777777778,
              "#fb9f3a"
             ],
             [
              0.8888888888888888,
              "#fdca26"
             ],
             [
              1,
              "#f0f921"
             ]
            ],
            "type": "heatmapgl"
           }
          ],
          "histogram": [
           {
            "marker": {
             "pattern": {
              "fillmode": "overlay",
              "size": 10,
              "solidity": 0.2
             }
            },
            "type": "histogram"
           }
          ],
          "histogram2d": [
           {
            "colorbar": {
             "outlinewidth": 0,
             "ticks": ""
            },
            "colorscale": [
             [
              0,
              "#0d0887"
             ],
             [
              0.1111111111111111,
              "#46039f"
             ],
             [
              0.2222222222222222,
              "#7201a8"
             ],
             [
              0.3333333333333333,
              "#9c179e"
             ],
             [
              0.4444444444444444,
              "#bd3786"
             ],
             [
              0.5555555555555556,
              "#d8576b"
             ],
             [
              0.6666666666666666,
              "#ed7953"
             ],
             [
              0.7777777777777778,
              "#fb9f3a"
             ],
             [
              0.8888888888888888,
              "#fdca26"
             ],
             [
              1,
              "#f0f921"
             ]
            ],
            "type": "histogram2d"
           }
          ],
          "histogram2dcontour": [
           {
            "colorbar": {
             "outlinewidth": 0,
             "ticks": ""
            },
            "colorscale": [
             [
              0,
              "#0d0887"
             ],
             [
              0.1111111111111111,
              "#46039f"
             ],
             [
              0.2222222222222222,
              "#7201a8"
             ],
             [
              0.3333333333333333,
              "#9c179e"
             ],
             [
              0.4444444444444444,
              "#bd3786"
             ],
             [
              0.5555555555555556,
              "#d8576b"
             ],
             [
              0.6666666666666666,
              "#ed7953"
             ],
             [
              0.7777777777777778,
              "#fb9f3a"
             ],
             [
              0.8888888888888888,
              "#fdca26"
             ],
             [
              1,
              "#f0f921"
             ]
            ],
            "type": "histogram2dcontour"
           }
          ],
          "mesh3d": [
           {
            "colorbar": {
             "outlinewidth": 0,
             "ticks": ""
            },
            "type": "mesh3d"
           }
          ],
          "parcoords": [
           {
            "line": {
             "colorbar": {
              "outlinewidth": 0,
              "ticks": ""
             }
            },
            "type": "parcoords"
           }
          ],
          "pie": [
           {
            "automargin": true,
            "type": "pie"
           }
          ],
          "scatter": [
           {
            "fillpattern": {
             "fillmode": "overlay",
             "size": 10,
             "solidity": 0.2
            },
            "type": "scatter"
           }
          ],
          "scatter3d": [
           {
            "line": {
             "colorbar": {
              "outlinewidth": 0,
              "ticks": ""
             }
            },
            "marker": {
             "colorbar": {
              "outlinewidth": 0,
              "ticks": ""
             }
            },
            "type": "scatter3d"
           }
          ],
          "scattercarpet": [
           {
            "marker": {
             "colorbar": {
              "outlinewidth": 0,
              "ticks": ""
             }
            },
            "type": "scattercarpet"
           }
          ],
          "scattergeo": [
           {
            "marker": {
             "colorbar": {
              "outlinewidth": 0,
              "ticks": ""
             }
            },
            "type": "scattergeo"
           }
          ],
          "scattergl": [
           {
            "marker": {
             "colorbar": {
              "outlinewidth": 0,
              "ticks": ""
             }
            },
            "type": "scattergl"
           }
          ],
          "scattermapbox": [
           {
            "marker": {
             "colorbar": {
              "outlinewidth": 0,
              "ticks": ""
             }
            },
            "type": "scattermapbox"
           }
          ],
          "scatterpolar": [
           {
            "marker": {
             "colorbar": {
              "outlinewidth": 0,
              "ticks": ""
             }
            },
            "type": "scatterpolar"
           }
          ],
          "scatterpolargl": [
           {
            "marker": {
             "colorbar": {
              "outlinewidth": 0,
              "ticks": ""
             }
            },
            "type": "scatterpolargl"
           }
          ],
          "scatterternary": [
           {
            "marker": {
             "colorbar": {
              "outlinewidth": 0,
              "ticks": ""
             }
            },
            "type": "scatterternary"
           }
          ],
          "surface": [
           {
            "colorbar": {
             "outlinewidth": 0,
             "ticks": ""
            },
            "colorscale": [
             [
              0,
              "#0d0887"
             ],
             [
              0.1111111111111111,
              "#46039f"
             ],
             [
              0.2222222222222222,
              "#7201a8"
             ],
             [
              0.3333333333333333,
              "#9c179e"
             ],
             [
              0.4444444444444444,
              "#bd3786"
             ],
             [
              0.5555555555555556,
              "#d8576b"
             ],
             [
              0.6666666666666666,
              "#ed7953"
             ],
             [
              0.7777777777777778,
              "#fb9f3a"
             ],
             [
              0.8888888888888888,
              "#fdca26"
             ],
             [
              1,
              "#f0f921"
             ]
            ],
            "type": "surface"
           }
          ],
          "table": [
           {
            "cells": {
             "fill": {
              "color": "#EBF0F8"
             },
             "line": {
              "color": "white"
             }
            },
            "header": {
             "fill": {
              "color": "#C8D4E3"
             },
             "line": {
              "color": "white"
             }
            },
            "type": "table"
           }
          ]
         },
         "layout": {
          "annotationdefaults": {
           "arrowcolor": "#2a3f5f",
           "arrowhead": 0,
           "arrowwidth": 1
          },
          "autotypenumbers": "strict",
          "coloraxis": {
           "colorbar": {
            "outlinewidth": 0,
            "ticks": ""
           }
          },
          "colorscale": {
           "diverging": [
            [
             0,
             "#8e0152"
            ],
            [
             0.1,
             "#c51b7d"
            ],
            [
             0.2,
             "#de77ae"
            ],
            [
             0.3,
             "#f1b6da"
            ],
            [
             0.4,
             "#fde0ef"
            ],
            [
             0.5,
             "#f7f7f7"
            ],
            [
             0.6,
             "#e6f5d0"
            ],
            [
             0.7,
             "#b8e186"
            ],
            [
             0.8,
             "#7fbc41"
            ],
            [
             0.9,
             "#4d9221"
            ],
            [
             1,
             "#276419"
            ]
           ],
           "sequential": [
            [
             0,
             "#0d0887"
            ],
            [
             0.1111111111111111,
             "#46039f"
            ],
            [
             0.2222222222222222,
             "#7201a8"
            ],
            [
             0.3333333333333333,
             "#9c179e"
            ],
            [
             0.4444444444444444,
             "#bd3786"
            ],
            [
             0.5555555555555556,
             "#d8576b"
            ],
            [
             0.6666666666666666,
             "#ed7953"
            ],
            [
             0.7777777777777778,
             "#fb9f3a"
            ],
            [
             0.8888888888888888,
             "#fdca26"
            ],
            [
             1,
             "#f0f921"
            ]
           ],
           "sequentialminus": [
            [
             0,
             "#0d0887"
            ],
            [
             0.1111111111111111,
             "#46039f"
            ],
            [
             0.2222222222222222,
             "#7201a8"
            ],
            [
             0.3333333333333333,
             "#9c179e"
            ],
            [
             0.4444444444444444,
             "#bd3786"
            ],
            [
             0.5555555555555556,
             "#d8576b"
            ],
            [
             0.6666666666666666,
             "#ed7953"
            ],
            [
             0.7777777777777778,
             "#fb9f3a"
            ],
            [
             0.8888888888888888,
             "#fdca26"
            ],
            [
             1,
             "#f0f921"
            ]
           ]
          },
          "colorway": [
           "#636efa",
           "#EF553B",
           "#00cc96",
           "#ab63fa",
           "#FFA15A",
           "#19d3f3",
           "#FF6692",
           "#B6E880",
           "#FF97FF",
           "#FECB52"
          ],
          "font": {
           "color": "#2a3f5f"
          },
          "geo": {
           "bgcolor": "white",
           "lakecolor": "white",
           "landcolor": "#E5ECF6",
           "showlakes": true,
           "showland": true,
           "subunitcolor": "white"
          },
          "hoverlabel": {
           "align": "left"
          },
          "hovermode": "closest",
          "mapbox": {
           "style": "light"
          },
          "paper_bgcolor": "white",
          "plot_bgcolor": "#E5ECF6",
          "polar": {
           "angularaxis": {
            "gridcolor": "white",
            "linecolor": "white",
            "ticks": ""
           },
           "bgcolor": "#E5ECF6",
           "radialaxis": {
            "gridcolor": "white",
            "linecolor": "white",
            "ticks": ""
           }
          },
          "scene": {
           "xaxis": {
            "backgroundcolor": "#E5ECF6",
            "gridcolor": "white",
            "gridwidth": 2,
            "linecolor": "white",
            "showbackground": true,
            "ticks": "",
            "zerolinecolor": "white"
           },
           "yaxis": {
            "backgroundcolor": "#E5ECF6",
            "gridcolor": "white",
            "gridwidth": 2,
            "linecolor": "white",
            "showbackground": true,
            "ticks": "",
            "zerolinecolor": "white"
           },
           "zaxis": {
            "backgroundcolor": "#E5ECF6",
            "gridcolor": "white",
            "gridwidth": 2,
            "linecolor": "white",
            "showbackground": true,
            "ticks": "",
            "zerolinecolor": "white"
           }
          },
          "shapedefaults": {
           "line": {
            "color": "#2a3f5f"
           }
          },
          "ternary": {
           "aaxis": {
            "gridcolor": "white",
            "linecolor": "white",
            "ticks": ""
           },
           "baxis": {
            "gridcolor": "white",
            "linecolor": "white",
            "ticks": ""
           },
           "bgcolor": "#E5ECF6",
           "caxis": {
            "gridcolor": "white",
            "linecolor": "white",
            "ticks": ""
           }
          },
          "title": {
           "x": 0.05
          },
          "xaxis": {
           "automargin": true,
           "gridcolor": "white",
           "linecolor": "white",
           "ticks": "",
           "title": {
            "standoff": 15
           },
           "zerolinecolor": "white",
           "zerolinewidth": 2
          },
          "yaxis": {
           "automargin": true,
           "gridcolor": "white",
           "linecolor": "white",
           "ticks": "",
           "title": {
            "standoff": 15
           },
           "zerolinecolor": "white",
           "zerolinewidth": 2
          }
         }
        },
        "title": {
         "text": "Correlation between Age and Total Deaths"
        },
        "xaxis": {
         "anchor": "y",
         "domain": [
          0,
          1
         ],
         "title": {
          "text": "Min Age"
         }
        },
        "yaxis": {
         "anchor": "x",
         "domain": [
          0,
          1
         ],
         "title": {
          "text": "Total Deaths"
         }
        }
       }
      }
     },
     "metadata": {},
     "output_type": "display_data"
    }
   ],
   "source": [
    "# Create a scatter plot\n",
    "fig = px.scatter(deaths_by_age, x='Min Age', y='Total Deaths', trendline='ols')\n",
    "\n",
    "# Add labels and title\n",
    "fig.update_layout(\n",
    "    title=\"Correlation between Age and Total Deaths\",\n",
    "    xaxis_title=\"Min Age\",\n",
    "    yaxis_title=\"Total Deaths\"\n",
    ")\n",
    "\n",
    "# Show the plot\n",
    "fig.show()"
   ]
  },
  {
   "cell_type": "code",
   "execution_count": 77,
   "metadata": {},
   "outputs": [
    {
     "data": {
      "application/vnd.plotly.v1+json": {
       "config": {
        "plotlyServerURL": "https://plot.ly"
       },
       "data": [
        {
         "hovertemplate": "Year=%{x}<br>Total Deaths=%{y}<extra></extra>",
         "legendgroup": "",
         "marker": {
          "color": "#636efa",
          "symbol": "circle"
         },
         "mode": "markers",
         "name": "",
         "orientation": "v",
         "showlegend": false,
         "type": "scatter",
         "x": [
          2000,
          2001,
          2002,
          2003,
          2004,
          2005,
          2006,
          2007,
          2008,
          2009,
          2010,
          2011,
          2012,
          2013,
          2014,
          2015,
          2016,
          2017,
          2018,
          2019,
          2020,
          2021,
          2022
         ],
         "xaxis": "x",
         "y": [
          216318,
          217796,
          221838,
          224400,
          224805,
          228266,
          226295,
          233331,
          236701,
          236544,
          238173,
          241662,
          244778,
          250454,
          257027,
          262596,
          265472,
          276573,
          283912,
          283644,
          306761,
          310052,
          332430
         ],
         "yaxis": "y"
        },
        {
         "hovertemplate": "<b>OLS trendline</b><br>Total Deaths = 4496.04 * Year + -8.7885e+06<br>R<sup>2</sup>=0.889121<br><br>Year=%{x}<br>Total Deaths=%{y} <b>(trend)</b><extra></extra>",
         "legendgroup": "",
         "marker": {
          "color": "#636efa",
          "symbol": "circle"
         },
         "mode": "lines",
         "name": "",
         "showlegend": false,
         "type": "scatter",
         "x": [
          2000,
          2001,
          2002,
          2003,
          2004,
          2005,
          2006,
          2007,
          2008,
          2009,
          2010,
          2011,
          2012,
          2013,
          2014,
          2015,
          2016,
          2017,
          2018,
          2019,
          2020,
          2021,
          2022
         ],
         "xaxis": "x",
         "y": [
          203579.58695651655,
          208075.6245059238,
          212571.66205533105,
          217067.6996047383,
          221563.73715414555,
          226059.77470355277,
          230555.81225296002,
          235051.84980236727,
          239547.88735177452,
          244043.92490118177,
          248539.96245058902,
          253035.99999999627,
          257532.0375494035,
          262028.07509881075,
          266524.112648218,
          271020.1501976253,
          275516.1877470325,
          280012.2252964397,
          284508.262845847,
          289004.3003952542,
          293500.3379446615,
          297996.3754940687,
          302492.413043476
         ],
         "yaxis": "y"
        }
       ],
       "layout": {
        "legend": {
         "tracegroupgap": 0
        },
        "margin": {
         "t": 60
        },
        "template": {
         "data": {
          "bar": [
           {
            "error_x": {
             "color": "#2a3f5f"
            },
            "error_y": {
             "color": "#2a3f5f"
            },
            "marker": {
             "line": {
              "color": "#E5ECF6",
              "width": 0.5
             },
             "pattern": {
              "fillmode": "overlay",
              "size": 10,
              "solidity": 0.2
             }
            },
            "type": "bar"
           }
          ],
          "barpolar": [
           {
            "marker": {
             "line": {
              "color": "#E5ECF6",
              "width": 0.5
             },
             "pattern": {
              "fillmode": "overlay",
              "size": 10,
              "solidity": 0.2
             }
            },
            "type": "barpolar"
           }
          ],
          "carpet": [
           {
            "aaxis": {
             "endlinecolor": "#2a3f5f",
             "gridcolor": "white",
             "linecolor": "white",
             "minorgridcolor": "white",
             "startlinecolor": "#2a3f5f"
            },
            "baxis": {
             "endlinecolor": "#2a3f5f",
             "gridcolor": "white",
             "linecolor": "white",
             "minorgridcolor": "white",
             "startlinecolor": "#2a3f5f"
            },
            "type": "carpet"
           }
          ],
          "choropleth": [
           {
            "colorbar": {
             "outlinewidth": 0,
             "ticks": ""
            },
            "type": "choropleth"
           }
          ],
          "contour": [
           {
            "colorbar": {
             "outlinewidth": 0,
             "ticks": ""
            },
            "colorscale": [
             [
              0,
              "#0d0887"
             ],
             [
              0.1111111111111111,
              "#46039f"
             ],
             [
              0.2222222222222222,
              "#7201a8"
             ],
             [
              0.3333333333333333,
              "#9c179e"
             ],
             [
              0.4444444444444444,
              "#bd3786"
             ],
             [
              0.5555555555555556,
              "#d8576b"
             ],
             [
              0.6666666666666666,
              "#ed7953"
             ],
             [
              0.7777777777777778,
              "#fb9f3a"
             ],
             [
              0.8888888888888888,
              "#fdca26"
             ],
             [
              1,
              "#f0f921"
             ]
            ],
            "type": "contour"
           }
          ],
          "contourcarpet": [
           {
            "colorbar": {
             "outlinewidth": 0,
             "ticks": ""
            },
            "type": "contourcarpet"
           }
          ],
          "heatmap": [
           {
            "colorbar": {
             "outlinewidth": 0,
             "ticks": ""
            },
            "colorscale": [
             [
              0,
              "#0d0887"
             ],
             [
              0.1111111111111111,
              "#46039f"
             ],
             [
              0.2222222222222222,
              "#7201a8"
             ],
             [
              0.3333333333333333,
              "#9c179e"
             ],
             [
              0.4444444444444444,
              "#bd3786"
             ],
             [
              0.5555555555555556,
              "#d8576b"
             ],
             [
              0.6666666666666666,
              "#ed7953"
             ],
             [
              0.7777777777777778,
              "#fb9f3a"
             ],
             [
              0.8888888888888888,
              "#fdca26"
             ],
             [
              1,
              "#f0f921"
             ]
            ],
            "type": "heatmap"
           }
          ],
          "heatmapgl": [
           {
            "colorbar": {
             "outlinewidth": 0,
             "ticks": ""
            },
            "colorscale": [
             [
              0,
              "#0d0887"
             ],
             [
              0.1111111111111111,
              "#46039f"
             ],
             [
              0.2222222222222222,
              "#7201a8"
             ],
             [
              0.3333333333333333,
              "#9c179e"
             ],
             [
              0.4444444444444444,
              "#bd3786"
             ],
             [
              0.5555555555555556,
              "#d8576b"
             ],
             [
              0.6666666666666666,
              "#ed7953"
             ],
             [
              0.7777777777777778,
              "#fb9f3a"
             ],
             [
              0.8888888888888888,
              "#fdca26"
             ],
             [
              1,
              "#f0f921"
             ]
            ],
            "type": "heatmapgl"
           }
          ],
          "histogram": [
           {
            "marker": {
             "pattern": {
              "fillmode": "overlay",
              "size": 10,
              "solidity": 0.2
             }
            },
            "type": "histogram"
           }
          ],
          "histogram2d": [
           {
            "colorbar": {
             "outlinewidth": 0,
             "ticks": ""
            },
            "colorscale": [
             [
              0,
              "#0d0887"
             ],
             [
              0.1111111111111111,
              "#46039f"
             ],
             [
              0.2222222222222222,
              "#7201a8"
             ],
             [
              0.3333333333333333,
              "#9c179e"
             ],
             [
              0.4444444444444444,
              "#bd3786"
             ],
             [
              0.5555555555555556,
              "#d8576b"
             ],
             [
              0.6666666666666666,
              "#ed7953"
             ],
             [
              0.7777777777777778,
              "#fb9f3a"
             ],
             [
              0.8888888888888888,
              "#fdca26"
             ],
             [
              1,
              "#f0f921"
             ]
            ],
            "type": "histogram2d"
           }
          ],
          "histogram2dcontour": [
           {
            "colorbar": {
             "outlinewidth": 0,
             "ticks": ""
            },
            "colorscale": [
             [
              0,
              "#0d0887"
             ],
             [
              0.1111111111111111,
              "#46039f"
             ],
             [
              0.2222222222222222,
              "#7201a8"
             ],
             [
              0.3333333333333333,
              "#9c179e"
             ],
             [
              0.4444444444444444,
              "#bd3786"
             ],
             [
              0.5555555555555556,
              "#d8576b"
             ],
             [
              0.6666666666666666,
              "#ed7953"
             ],
             [
              0.7777777777777778,
              "#fb9f3a"
             ],
             [
              0.8888888888888888,
              "#fdca26"
             ],
             [
              1,
              "#f0f921"
             ]
            ],
            "type": "histogram2dcontour"
           }
          ],
          "mesh3d": [
           {
            "colorbar": {
             "outlinewidth": 0,
             "ticks": ""
            },
            "type": "mesh3d"
           }
          ],
          "parcoords": [
           {
            "line": {
             "colorbar": {
              "outlinewidth": 0,
              "ticks": ""
             }
            },
            "type": "parcoords"
           }
          ],
          "pie": [
           {
            "automargin": true,
            "type": "pie"
           }
          ],
          "scatter": [
           {
            "fillpattern": {
             "fillmode": "overlay",
             "size": 10,
             "solidity": 0.2
            },
            "type": "scatter"
           }
          ],
          "scatter3d": [
           {
            "line": {
             "colorbar": {
              "outlinewidth": 0,
              "ticks": ""
             }
            },
            "marker": {
             "colorbar": {
              "outlinewidth": 0,
              "ticks": ""
             }
            },
            "type": "scatter3d"
           }
          ],
          "scattercarpet": [
           {
            "marker": {
             "colorbar": {
              "outlinewidth": 0,
              "ticks": ""
             }
            },
            "type": "scattercarpet"
           }
          ],
          "scattergeo": [
           {
            "marker": {
             "colorbar": {
              "outlinewidth": 0,
              "ticks": ""
             }
            },
            "type": "scattergeo"
           }
          ],
          "scattergl": [
           {
            "marker": {
             "colorbar": {
              "outlinewidth": 0,
              "ticks": ""
             }
            },
            "type": "scattergl"
           }
          ],
          "scattermapbox": [
           {
            "marker": {
             "colorbar": {
              "outlinewidth": 0,
              "ticks": ""
             }
            },
            "type": "scattermapbox"
           }
          ],
          "scatterpolar": [
           {
            "marker": {
             "colorbar": {
              "outlinewidth": 0,
              "ticks": ""
             }
            },
            "type": "scatterpolar"
           }
          ],
          "scatterpolargl": [
           {
            "marker": {
             "colorbar": {
              "outlinewidth": 0,
              "ticks": ""
             }
            },
            "type": "scatterpolargl"
           }
          ],
          "scatterternary": [
           {
            "marker": {
             "colorbar": {
              "outlinewidth": 0,
              "ticks": ""
             }
            },
            "type": "scatterternary"
           }
          ],
          "surface": [
           {
            "colorbar": {
             "outlinewidth": 0,
             "ticks": ""
            },
            "colorscale": [
             [
              0,
              "#0d0887"
             ],
             [
              0.1111111111111111,
              "#46039f"
             ],
             [
              0.2222222222222222,
              "#7201a8"
             ],
             [
              0.3333333333333333,
              "#9c179e"
             ],
             [
              0.4444444444444444,
              "#bd3786"
             ],
             [
              0.5555555555555556,
              "#d8576b"
             ],
             [
              0.6666666666666666,
              "#ed7953"
             ],
             [
              0.7777777777777778,
              "#fb9f3a"
             ],
             [
              0.8888888888888888,
              "#fdca26"
             ],
             [
              1,
              "#f0f921"
             ]
            ],
            "type": "surface"
           }
          ],
          "table": [
           {
            "cells": {
             "fill": {
              "color": "#EBF0F8"
             },
             "line": {
              "color": "white"
             }
            },
            "header": {
             "fill": {
              "color": "#C8D4E3"
             },
             "line": {
              "color": "white"
             }
            },
            "type": "table"
           }
          ]
         },
         "layout": {
          "annotationdefaults": {
           "arrowcolor": "#2a3f5f",
           "arrowhead": 0,
           "arrowwidth": 1
          },
          "autotypenumbers": "strict",
          "coloraxis": {
           "colorbar": {
            "outlinewidth": 0,
            "ticks": ""
           }
          },
          "colorscale": {
           "diverging": [
            [
             0,
             "#8e0152"
            ],
            [
             0.1,
             "#c51b7d"
            ],
            [
             0.2,
             "#de77ae"
            ],
            [
             0.3,
             "#f1b6da"
            ],
            [
             0.4,
             "#fde0ef"
            ],
            [
             0.5,
             "#f7f7f7"
            ],
            [
             0.6,
             "#e6f5d0"
            ],
            [
             0.7,
             "#b8e186"
            ],
            [
             0.8,
             "#7fbc41"
            ],
            [
             0.9,
             "#4d9221"
            ],
            [
             1,
             "#276419"
            ]
           ],
           "sequential": [
            [
             0,
             "#0d0887"
            ],
            [
             0.1111111111111111,
             "#46039f"
            ],
            [
             0.2222222222222222,
             "#7201a8"
            ],
            [
             0.3333333333333333,
             "#9c179e"
            ],
            [
             0.4444444444444444,
             "#bd3786"
            ],
            [
             0.5555555555555556,
             "#d8576b"
            ],
            [
             0.6666666666666666,
             "#ed7953"
            ],
            [
             0.7777777777777778,
             "#fb9f3a"
            ],
            [
             0.8888888888888888,
             "#fdca26"
            ],
            [
             1,
             "#f0f921"
            ]
           ],
           "sequentialminus": [
            [
             0,
             "#0d0887"
            ],
            [
             0.1111111111111111,
             "#46039f"
            ],
            [
             0.2222222222222222,
             "#7201a8"
            ],
            [
             0.3333333333333333,
             "#9c179e"
            ],
            [
             0.4444444444444444,
             "#bd3786"
            ],
            [
             0.5555555555555556,
             "#d8576b"
            ],
            [
             0.6666666666666666,
             "#ed7953"
            ],
            [
             0.7777777777777778,
             "#fb9f3a"
            ],
            [
             0.8888888888888888,
             "#fdca26"
            ],
            [
             1,
             "#f0f921"
            ]
           ]
          },
          "colorway": [
           "#636efa",
           "#EF553B",
           "#00cc96",
           "#ab63fa",
           "#FFA15A",
           "#19d3f3",
           "#FF6692",
           "#B6E880",
           "#FF97FF",
           "#FECB52"
          ],
          "font": {
           "color": "#2a3f5f"
          },
          "geo": {
           "bgcolor": "white",
           "lakecolor": "white",
           "landcolor": "#E5ECF6",
           "showlakes": true,
           "showland": true,
           "subunitcolor": "white"
          },
          "hoverlabel": {
           "align": "left"
          },
          "hovermode": "closest",
          "mapbox": {
           "style": "light"
          },
          "paper_bgcolor": "white",
          "plot_bgcolor": "#E5ECF6",
          "polar": {
           "angularaxis": {
            "gridcolor": "white",
            "linecolor": "white",
            "ticks": ""
           },
           "bgcolor": "#E5ECF6",
           "radialaxis": {
            "gridcolor": "white",
            "linecolor": "white",
            "ticks": ""
           }
          },
          "scene": {
           "xaxis": {
            "backgroundcolor": "#E5ECF6",
            "gridcolor": "white",
            "gridwidth": 2,
            "linecolor": "white",
            "showbackground": true,
            "ticks": "",
            "zerolinecolor": "white"
           },
           "yaxis": {
            "backgroundcolor": "#E5ECF6",
            "gridcolor": "white",
            "gridwidth": 2,
            "linecolor": "white",
            "showbackground": true,
            "ticks": "",
            "zerolinecolor": "white"
           },
           "zaxis": {
            "backgroundcolor": "#E5ECF6",
            "gridcolor": "white",
            "gridwidth": 2,
            "linecolor": "white",
            "showbackground": true,
            "ticks": "",
            "zerolinecolor": "white"
           }
          },
          "shapedefaults": {
           "line": {
            "color": "#2a3f5f"
           }
          },
          "ternary": {
           "aaxis": {
            "gridcolor": "white",
            "linecolor": "white",
            "ticks": ""
           },
           "baxis": {
            "gridcolor": "white",
            "linecolor": "white",
            "ticks": ""
           },
           "bgcolor": "#E5ECF6",
           "caxis": {
            "gridcolor": "white",
            "linecolor": "white",
            "ticks": ""
           }
          },
          "title": {
           "x": 0.05
          },
          "xaxis": {
           "automargin": true,
           "gridcolor": "white",
           "linecolor": "white",
           "ticks": "",
           "title": {
            "standoff": 15
           },
           "zerolinecolor": "white",
           "zerolinewidth": 2
          },
          "yaxis": {
           "automargin": true,
           "gridcolor": "white",
           "linecolor": "white",
           "ticks": "",
           "title": {
            "standoff": 15
           },
           "zerolinecolor": "white",
           "zerolinewidth": 2
          }
         }
        },
        "title": {
         "text": "Correlation between Year and Total Deaths"
        },
        "xaxis": {
         "anchor": "y",
         "domain": [
          0,
          1
         ],
         "title": {
          "text": "Year"
         }
        },
        "yaxis": {
         "anchor": "x",
         "domain": [
          0,
          1
         ],
         "title": {
          "text": "Total Deaths"
         }
        }
       }
      }
     },
     "metadata": {},
     "output_type": "display_data"
    }
   ],
   "source": [
    "# Create a scatter plot\n",
    "fig = px.scatter(deaths_by_year, x='Year', y='Total Deaths', trendline='ols')\n",
    "\n",
    "# Add labels and title\n",
    "fig.update_layout(\n",
    "    title=\"Correlation between Year and Total Deaths\",\n",
    "    xaxis_title=\"Year\",\n",
    "    yaxis_title=\"Total Deaths\"\n",
    ")\n",
    "\n",
    "# Show the plot\n",
    "fig.show()"
   ]
  },
  {
   "cell_type": "code",
   "execution_count": 123,
   "metadata": {},
   "outputs": [
    {
     "data": {
      "application/vnd.plotly.v1+json": {
       "config": {
        "plotlyServerURL": "https://plot.ly"
       },
       "data": [
        {
         "hovertemplate": "Leading_Cause_Of_Death=Intentional self-harm (suicide) [X60-X84, Y87.0]<br>Year=%{x}<br>Total Deaths=%{y}<extra></extra>",
         "legendgroup": "Intentional self-harm (suicide) [X60-X84, Y87.0]",
         "line": {
          "color": "#636efa",
          "dash": "solid"
         },
         "marker": {
          "symbol": "circle"
         },
         "mode": "lines",
         "name": "Intentional self-harm (suicide) [X60-X84, Y87.0]",
         "orientation": "v",
         "showlegend": true,
         "type": "scatter",
         "x": [
          2000,
          2001,
          2002,
          2003,
          2004,
          2005,
          2006,
          2007,
          2008,
          2009,
          2010,
          2011,
          2012,
          2013,
          2014,
          2015,
          2016,
          2017,
          2018,
          2019,
          2020,
          2021,
          2022
         ],
         "xaxis": "x",
         "y": [
          3606,
          3692,
          3650,
          3765,
          3613,
          3743,
          3512,
          3611,
          3705,
          3890,
          3951,
          3896,
          3926,
          4054,
          4254,
          4405,
          3978,
          4462,
          4576,
          4581,
          4152,
          3769,
          3593
         ],
         "yaxis": "y"
        },
        {
         "hovertemplate": "Leading_Cause_Of_Death=Malignant neoplasms [C00-C97]<br>Year=%{x}<br>Total Deaths=%{y}<extra></extra>",
         "legendgroup": "Malignant neoplasms [C00-C97]",
         "line": {
          "color": "#EF553B",
          "dash": "solid"
         },
         "marker": {
          "symbol": "circle"
         },
         "mode": "lines",
         "name": "Malignant neoplasms [C00-C97]",
         "orientation": "v",
         "showlegend": true,
         "type": "scatter",
         "x": [
          2000,
          2001,
          2002,
          2003,
          2004,
          2005,
          2006,
          2007,
          2008,
          2009,
          2010,
          2011,
          2012,
          2013,
          2014,
          2015,
          2016,
          2017,
          2018,
          2019,
          2020,
          2021,
          2022
         ],
         "xaxis": "x",
         "y": [
          62661,
          63767,
          65097,
          65983,
          66939,
          67338,
          67797,
          69584,
          70550,
          71115,
          71874,
          72728,
          74346,
          75104,
          77051,
          77047,
          79080,
          80017,
          79721,
          80367,
          81234,
          82819,
          82404
         ],
         "yaxis": "y"
        },
        {
         "hovertemplate": "Leading_Cause_Of_Death=Nephritis, nephrotic syndrome and nephrosis [N00-N07, N17-N19, N25-N27]<br>Year=%{x}<br>Total Deaths=%{y}<extra></extra>",
         "legendgroup": "Nephritis, nephrotic syndrome and nephrosis [N00-N07, N17-N19, N25-N27]",
         "line": {
          "color": "#00cc96",
          "dash": "solid"
         },
         "marker": {
          "symbol": "circle"
         },
         "mode": "lines",
         "name": "Nephritis, nephrotic syndrome and nephrosis [N00-N07, N17-N19, N25-N27]",
         "orientation": "v",
         "showlegend": true,
         "type": "scatter",
         "x": [
          2000,
          2001,
          2002,
          2003,
          2004,
          2005,
          2006,
          2007,
          2008,
          2009,
          2010,
          2011,
          2012,
          2013,
          2014,
          2015,
          2016,
          2017,
          2018,
          2019,
          2020,
          2021,
          2022
         ],
         "xaxis": "x",
         "y": [
          3133,
          3218,
          3433,
          3498,
          3537,
          3636,
          3684,
          3798,
          3841,
          3609,
          3865,
          3294,
          3327,
          2978,
          3097,
          3129,
          3054,
          3275,
          3612,
          3769,
          4065,
          3978,
          4233
         ],
         "yaxis": "y"
        },
        {
         "hovertemplate": "Leading_Cause_Of_Death=Influenza and pneumonia [J09-J18]<br>Year=%{x}<br>Total Deaths=%{y}<extra></extra>",
         "legendgroup": "Influenza and pneumonia [J09-J18]",
         "line": {
          "color": "#ab63fa",
          "dash": "solid"
         },
         "marker": {
          "symbol": "circle"
         },
         "mode": "lines",
         "name": "Influenza and pneumonia [J09-J18]",
         "orientation": "v",
         "showlegend": true,
         "type": "scatter",
         "x": [
          2000,
          2001,
          2002,
          2003,
          2004,
          2005,
          2006,
          2007,
          2008,
          2009,
          2010,
          2011,
          2012,
          2013,
          2014,
          2015,
          2016,
          2017,
          2018,
          2019,
          2020,
          2021,
          2022
         ],
         "xaxis": "x",
         "y": [
          4953,
          4760,
          4711,
          4945,
          5717,
          5836,
          5139,
          5438,
          5380,
          5812,
          5099,
          5779,
          5683,
          6544,
          6587,
          7622,
          6223,
          7434,
          8578,
          6933,
          6034,
          4114,
          5978
         ],
         "yaxis": "y"
        },
        {
         "hovertemplate": "Leading_Cause_Of_Death=Diseases of heart [I00-I09, I11, I13, I20-I51]<br>Year=%{x}<br>Total Deaths=%{y}<extra></extra>",
         "legendgroup": "Diseases of heart [I00-I09, I11, I13, I20-I51]",
         "line": {
          "color": "#FFA15A",
          "dash": "solid"
         },
         "marker": {
          "symbol": "circle"
         },
         "mode": "lines",
         "name": "Diseases of heart [I00-I09, I11, I13, I20-I51]",
         "orientation": "v",
         "showlegend": true,
         "type": "scatter",
         "x": [
          2000,
          2001,
          2002,
          2003,
          2004,
          2005,
          2006,
          2007,
          2008,
          2009,
          2010,
          2011,
          2012,
          2013,
          2014,
          2015,
          2016,
          2017,
          2018,
          2019,
          2020,
          2021,
          2022
         ],
         "xaxis": "x",
         "y": [
          55051,
          53696,
          53337,
          52954,
          51980,
          51564,
          49875,
          50482,
          50699,
          49248,
          48744,
          47892,
          48670,
          49880,
          50999,
          51519,
          51384,
          53483,
          54184,
          53356,
          54411,
          55264,
          57349
         ],
         "yaxis": "y"
        },
        {
         "hovertemplate": "Leading_Cause_Of_Death=Accidents (unintentional injuries) [V01-X59, Y85-Y86]<br>Year=%{x}<br>Total Deaths=%{y}<extra></extra>",
         "legendgroup": "Accidents (unintentional injuries) [V01-X59, Y85-Y86]",
         "line": {
          "color": "#19d3f3",
          "dash": "solid"
         },
         "marker": {
          "symbol": "circle"
         },
         "mode": "lines",
         "name": "Accidents (unintentional injuries) [V01-X59, Y85-Y86]",
         "orientation": "v",
         "showlegend": true,
         "type": "scatter",
         "x": [
          2000,
          2001,
          2002,
          2003,
          2004,
          2005,
          2006,
          2007,
          2008,
          2009,
          2010,
          2011,
          2012,
          2013,
          2014,
          2015,
          2016,
          2017,
          2018,
          2019,
          2020,
          2021,
          2022
         ],
         "xaxis": "x",
         "y": [
          8552,
          8494,
          9015,
          9021,
          8965,
          9476,
          9606,
          9918,
          10202,
          10220,
          10838,
          10927,
          11249,
          11420,
          11690,
          11798,
          12499,
          14997,
          15825,
          15485,
          16793,
          19247,
          18349
         ],
         "yaxis": "y"
        },
        {
         "hovertemplate": "Leading_Cause_Of_Death=Chronic lower respiratory diseases [J40-J47]<br>Year=%{x}<br>Total Deaths=%{y}<extra></extra>",
         "legendgroup": "Chronic lower respiratory diseases [J40-J47]",
         "line": {
          "color": "#FF6692",
          "dash": "solid"
         },
         "marker": {
          "symbol": "circle"
         },
         "mode": "lines",
         "name": "Chronic lower respiratory diseases [J40-J47]",
         "orientation": "v",
         "showlegend": true,
         "type": "scatter",
         "x": [
          2000,
          2001,
          2002,
          2003,
          2004,
          2005,
          2006,
          2007,
          2008,
          2009,
          2010,
          2011,
          2012,
          2013,
          2014,
          2015,
          2016,
          2017,
          2018,
          2019,
          2020,
          2021,
          2022
         ],
         "xaxis": "x",
         "y": [
          9809,
          9772,
          9875,
          10161,
          10041,
          10514,
          9785,
          10659,
          10922,
          10858,
          10756,
          11243,
          11130,
          11975,
          11876,
          12573,
          12293,
          12890,
          13070,
          12902,
          11843,
          11018,
          12462
         ],
         "yaxis": "y"
        },
        {
         "hovertemplate": "Leading_Cause_Of_Death=Cerebrovascular diseases [I60-I69]<br>Year=%{x}<br>Total Deaths=%{y}<extra></extra>",
         "legendgroup": "Cerebrovascular diseases [I60-I69]",
         "line": {
          "color": "#B6E880",
          "dash": "solid"
         },
         "marker": {
          "symbol": "circle"
         },
         "mode": "lines",
         "name": "Cerebrovascular diseases [I60-I69]",
         "orientation": "v",
         "showlegend": true,
         "type": "scatter",
         "x": [
          2000,
          2001,
          2002,
          2003,
          2004,
          2005,
          2006,
          2007,
          2008,
          2009,
          2010,
          2011,
          2012,
          2013,
          2014,
          2015,
          2016,
          2017,
          2018,
          2019,
          2020,
          2021,
          2022
         ],
         "xaxis": "x",
         "y": [
          15572,
          15448,
          15444,
          15280,
          14623,
          14051,
          13799,
          13977,
          13858,
          14102,
          13701,
          13326,
          13171,
          13399,
          13570,
          13794,
          13550,
          13931,
          13545,
          13715,
          13759,
          13489,
          13915
         ],
         "yaxis": "y"
        },
        {
         "hovertemplate": "Leading_Cause_Of_Death=Diabetes mellitus [E10-E14]<br>Year=%{x}<br>Total Deaths=%{y}<extra></extra>",
         "legendgroup": "Diabetes mellitus [E10-E14]",
         "line": {
          "color": "#FF97FF",
          "dash": "solid"
         },
         "marker": {
          "symbol": "circle"
         },
         "mode": "lines",
         "name": "Diabetes mellitus [E10-E14]",
         "orientation": "v",
         "showlegend": true,
         "type": "scatter",
         "x": [
          2000,
          2001,
          2002,
          2003,
          2004,
          2005,
          2006,
          2007,
          2008,
          2009,
          2010,
          2011,
          2012,
          2013,
          2014,
          2015,
          2016,
          2017,
          2018,
          2019,
          2020,
          2021,
          2022
         ],
         "xaxis": "x",
         "y": [
          6714,
          7097,
          7868,
          7970,
          7823,
          7881,
          7261,
          7394,
          7520,
          6923,
          6942,
          7255,
          6992,
          7044,
          7071,
          7172,
          6838,
          6938,
          6864,
          6987,
          7654,
          7472,
          7557
         ],
         "yaxis": "y"
        },
        {
         "hovertemplate": "Leading_Cause_Of_Death=Alzheimer's disease [G30]<br>Year=%{x}<br>Total Deaths=%{y}<extra></extra>",
         "legendgroup": "Alzheimer's disease [G30]",
         "line": {
          "color": "#FECB52",
          "dash": "solid"
         },
         "marker": {
          "symbol": "circle"
         },
         "mode": "lines",
         "name": "Alzheimer's disease [G30]",
         "orientation": "v",
         "showlegend": true,
         "type": "scatter",
         "x": [
          2000,
          2001,
          2002,
          2003,
          2004,
          2005,
          2006,
          2007,
          2008,
          2009,
          2010,
          2011,
          2012,
          2013,
          2014,
          2015,
          2016,
          2017,
          2018,
          2019,
          2020,
          2021,
          2022
         ],
         "xaxis": "x",
         "y": [
          5007,
          5477,
          5515,
          5504,
          5536,
          5762,
          5675,
          5903,
          6573,
          6281,
          6452,
          6377,
          6293,
          6345,
          6410,
          6587,
          6521,
          6683,
          6439,
          6181,
          5788,
          5471,
          5413
         ],
         "yaxis": "y"
        }
       ],
       "layout": {
        "legend": {
         "orientation": "h",
         "title": {
          "text": "Leading_Cause_Of_Death"
         },
         "tracegroupgap": 0,
         "x": 0.5,
         "xanchor": "center",
         "y": -0.5
        },
        "template": {
         "data": {
          "bar": [
           {
            "error_x": {
             "color": "#2a3f5f"
            },
            "error_y": {
             "color": "#2a3f5f"
            },
            "marker": {
             "line": {
              "color": "#E5ECF6",
              "width": 0.5
             },
             "pattern": {
              "fillmode": "overlay",
              "size": 10,
              "solidity": 0.2
             }
            },
            "type": "bar"
           }
          ],
          "barpolar": [
           {
            "marker": {
             "line": {
              "color": "#E5ECF6",
              "width": 0.5
             },
             "pattern": {
              "fillmode": "overlay",
              "size": 10,
              "solidity": 0.2
             }
            },
            "type": "barpolar"
           }
          ],
          "carpet": [
           {
            "aaxis": {
             "endlinecolor": "#2a3f5f",
             "gridcolor": "white",
             "linecolor": "white",
             "minorgridcolor": "white",
             "startlinecolor": "#2a3f5f"
            },
            "baxis": {
             "endlinecolor": "#2a3f5f",
             "gridcolor": "white",
             "linecolor": "white",
             "minorgridcolor": "white",
             "startlinecolor": "#2a3f5f"
            },
            "type": "carpet"
           }
          ],
          "choropleth": [
           {
            "colorbar": {
             "outlinewidth": 0,
             "ticks": ""
            },
            "type": "choropleth"
           }
          ],
          "contour": [
           {
            "colorbar": {
             "outlinewidth": 0,
             "ticks": ""
            },
            "colorscale": [
             [
              0,
              "#0d0887"
             ],
             [
              0.1111111111111111,
              "#46039f"
             ],
             [
              0.2222222222222222,
              "#7201a8"
             ],
             [
              0.3333333333333333,
              "#9c179e"
             ],
             [
              0.4444444444444444,
              "#bd3786"
             ],
             [
              0.5555555555555556,
              "#d8576b"
             ],
             [
              0.6666666666666666,
              "#ed7953"
             ],
             [
              0.7777777777777778,
              "#fb9f3a"
             ],
             [
              0.8888888888888888,
              "#fdca26"
             ],
             [
              1,
              "#f0f921"
             ]
            ],
            "type": "contour"
           }
          ],
          "contourcarpet": [
           {
            "colorbar": {
             "outlinewidth": 0,
             "ticks": ""
            },
            "type": "contourcarpet"
           }
          ],
          "heatmap": [
           {
            "colorbar": {
             "outlinewidth": 0,
             "ticks": ""
            },
            "colorscale": [
             [
              0,
              "#0d0887"
             ],
             [
              0.1111111111111111,
              "#46039f"
             ],
             [
              0.2222222222222222,
              "#7201a8"
             ],
             [
              0.3333333333333333,
              "#9c179e"
             ],
             [
              0.4444444444444444,
              "#bd3786"
             ],
             [
              0.5555555555555556,
              "#d8576b"
             ],
             [
              0.6666666666666666,
              "#ed7953"
             ],
             [
              0.7777777777777778,
              "#fb9f3a"
             ],
             [
              0.8888888888888888,
              "#fdca26"
             ],
             [
              1,
              "#f0f921"
             ]
            ],
            "type": "heatmap"
           }
          ],
          "heatmapgl": [
           {
            "colorbar": {
             "outlinewidth": 0,
             "ticks": ""
            },
            "colorscale": [
             [
              0,
              "#0d0887"
             ],
             [
              0.1111111111111111,
              "#46039f"
             ],
             [
              0.2222222222222222,
              "#7201a8"
             ],
             [
              0.3333333333333333,
              "#9c179e"
             ],
             [
              0.4444444444444444,
              "#bd3786"
             ],
             [
              0.5555555555555556,
              "#d8576b"
             ],
             [
              0.6666666666666666,
              "#ed7953"
             ],
             [
              0.7777777777777778,
              "#fb9f3a"
             ],
             [
              0.8888888888888888,
              "#fdca26"
             ],
             [
              1,
              "#f0f921"
             ]
            ],
            "type": "heatmapgl"
           }
          ],
          "histogram": [
           {
            "marker": {
             "pattern": {
              "fillmode": "overlay",
              "size": 10,
              "solidity": 0.2
             }
            },
            "type": "histogram"
           }
          ],
          "histogram2d": [
           {
            "colorbar": {
             "outlinewidth": 0,
             "ticks": ""
            },
            "colorscale": [
             [
              0,
              "#0d0887"
             ],
             [
              0.1111111111111111,
              "#46039f"
             ],
             [
              0.2222222222222222,
              "#7201a8"
             ],
             [
              0.3333333333333333,
              "#9c179e"
             ],
             [
              0.4444444444444444,
              "#bd3786"
             ],
             [
              0.5555555555555556,
              "#d8576b"
             ],
             [
              0.6666666666666666,
              "#ed7953"
             ],
             [
              0.7777777777777778,
              "#fb9f3a"
             ],
             [
              0.8888888888888888,
              "#fdca26"
             ],
             [
              1,
              "#f0f921"
             ]
            ],
            "type": "histogram2d"
           }
          ],
          "histogram2dcontour": [
           {
            "colorbar": {
             "outlinewidth": 0,
             "ticks": ""
            },
            "colorscale": [
             [
              0,
              "#0d0887"
             ],
             [
              0.1111111111111111,
              "#46039f"
             ],
             [
              0.2222222222222222,
              "#7201a8"
             ],
             [
              0.3333333333333333,
              "#9c179e"
             ],
             [
              0.4444444444444444,
              "#bd3786"
             ],
             [
              0.5555555555555556,
              "#d8576b"
             ],
             [
              0.6666666666666666,
              "#ed7953"
             ],
             [
              0.7777777777777778,
              "#fb9f3a"
             ],
             [
              0.8888888888888888,
              "#fdca26"
             ],
             [
              1,
              "#f0f921"
             ]
            ],
            "type": "histogram2dcontour"
           }
          ],
          "mesh3d": [
           {
            "colorbar": {
             "outlinewidth": 0,
             "ticks": ""
            },
            "type": "mesh3d"
           }
          ],
          "parcoords": [
           {
            "line": {
             "colorbar": {
              "outlinewidth": 0,
              "ticks": ""
             }
            },
            "type": "parcoords"
           }
          ],
          "pie": [
           {
            "automargin": true,
            "type": "pie"
           }
          ],
          "scatter": [
           {
            "fillpattern": {
             "fillmode": "overlay",
             "size": 10,
             "solidity": 0.2
            },
            "type": "scatter"
           }
          ],
          "scatter3d": [
           {
            "line": {
             "colorbar": {
              "outlinewidth": 0,
              "ticks": ""
             }
            },
            "marker": {
             "colorbar": {
              "outlinewidth": 0,
              "ticks": ""
             }
            },
            "type": "scatter3d"
           }
          ],
          "scattercarpet": [
           {
            "marker": {
             "colorbar": {
              "outlinewidth": 0,
              "ticks": ""
             }
            },
            "type": "scattercarpet"
           }
          ],
          "scattergeo": [
           {
            "marker": {
             "colorbar": {
              "outlinewidth": 0,
              "ticks": ""
             }
            },
            "type": "scattergeo"
           }
          ],
          "scattergl": [
           {
            "marker": {
             "colorbar": {
              "outlinewidth": 0,
              "ticks": ""
             }
            },
            "type": "scattergl"
           }
          ],
          "scattermapbox": [
           {
            "marker": {
             "colorbar": {
              "outlinewidth": 0,
              "ticks": ""
             }
            },
            "type": "scattermapbox"
           }
          ],
          "scatterpolar": [
           {
            "marker": {
             "colorbar": {
              "outlinewidth": 0,
              "ticks": ""
             }
            },
            "type": "scatterpolar"
           }
          ],
          "scatterpolargl": [
           {
            "marker": {
             "colorbar": {
              "outlinewidth": 0,
              "ticks": ""
             }
            },
            "type": "scatterpolargl"
           }
          ],
          "scatterternary": [
           {
            "marker": {
             "colorbar": {
              "outlinewidth": 0,
              "ticks": ""
             }
            },
            "type": "scatterternary"
           }
          ],
          "surface": [
           {
            "colorbar": {
             "outlinewidth": 0,
             "ticks": ""
            },
            "colorscale": [
             [
              0,
              "#0d0887"
             ],
             [
              0.1111111111111111,
              "#46039f"
             ],
             [
              0.2222222222222222,
              "#7201a8"
             ],
             [
              0.3333333333333333,
              "#9c179e"
             ],
             [
              0.4444444444444444,
              "#bd3786"
             ],
             [
              0.5555555555555556,
              "#d8576b"
             ],
             [
              0.6666666666666666,
              "#ed7953"
             ],
             [
              0.7777777777777778,
              "#fb9f3a"
             ],
             [
              0.8888888888888888,
              "#fdca26"
             ],
             [
              1,
              "#f0f921"
             ]
            ],
            "type": "surface"
           }
          ],
          "table": [
           {
            "cells": {
             "fill": {
              "color": "#EBF0F8"
             },
             "line": {
              "color": "white"
             }
            },
            "header": {
             "fill": {
              "color": "#C8D4E3"
             },
             "line": {
              "color": "white"
             }
            },
            "type": "table"
           }
          ]
         },
         "layout": {
          "annotationdefaults": {
           "arrowcolor": "#2a3f5f",
           "arrowhead": 0,
           "arrowwidth": 1
          },
          "autotypenumbers": "strict",
          "coloraxis": {
           "colorbar": {
            "outlinewidth": 0,
            "ticks": ""
           }
          },
          "colorscale": {
           "diverging": [
            [
             0,
             "#8e0152"
            ],
            [
             0.1,
             "#c51b7d"
            ],
            [
             0.2,
             "#de77ae"
            ],
            [
             0.3,
             "#f1b6da"
            ],
            [
             0.4,
             "#fde0ef"
            ],
            [
             0.5,
             "#f7f7f7"
            ],
            [
             0.6,
             "#e6f5d0"
            ],
            [
             0.7,
             "#b8e186"
            ],
            [
             0.8,
             "#7fbc41"
            ],
            [
             0.9,
             "#4d9221"
            ],
            [
             1,
             "#276419"
            ]
           ],
           "sequential": [
            [
             0,
             "#0d0887"
            ],
            [
             0.1111111111111111,
             "#46039f"
            ],
            [
             0.2222222222222222,
             "#7201a8"
            ],
            [
             0.3333333333333333,
             "#9c179e"
            ],
            [
             0.4444444444444444,
             "#bd3786"
            ],
            [
             0.5555555555555556,
             "#d8576b"
            ],
            [
             0.6666666666666666,
             "#ed7953"
            ],
            [
             0.7777777777777778,
             "#fb9f3a"
            ],
            [
             0.8888888888888888,
             "#fdca26"
            ],
            [
             1,
             "#f0f921"
            ]
           ],
           "sequentialminus": [
            [
             0,
             "#0d0887"
            ],
            [
             0.1111111111111111,
             "#46039f"
            ],
            [
             0.2222222222222222,
             "#7201a8"
            ],
            [
             0.3333333333333333,
             "#9c179e"
            ],
            [
             0.4444444444444444,
             "#bd3786"
            ],
            [
             0.5555555555555556,
             "#d8576b"
            ],
            [
             0.6666666666666666,
             "#ed7953"
            ],
            [
             0.7777777777777778,
             "#fb9f3a"
            ],
            [
             0.8888888888888888,
             "#fdca26"
            ],
            [
             1,
             "#f0f921"
            ]
           ]
          },
          "colorway": [
           "#636efa",
           "#EF553B",
           "#00cc96",
           "#ab63fa",
           "#FFA15A",
           "#19d3f3",
           "#FF6692",
           "#B6E880",
           "#FF97FF",
           "#FECB52"
          ],
          "font": {
           "color": "#2a3f5f"
          },
          "geo": {
           "bgcolor": "white",
           "lakecolor": "white",
           "landcolor": "#E5ECF6",
           "showlakes": true,
           "showland": true,
           "subunitcolor": "white"
          },
          "hoverlabel": {
           "align": "left"
          },
          "hovermode": "closest",
          "mapbox": {
           "style": "light"
          },
          "paper_bgcolor": "white",
          "plot_bgcolor": "#E5ECF6",
          "polar": {
           "angularaxis": {
            "gridcolor": "white",
            "linecolor": "white",
            "ticks": ""
           },
           "bgcolor": "#E5ECF6",
           "radialaxis": {
            "gridcolor": "white",
            "linecolor": "white",
            "ticks": ""
           }
          },
          "scene": {
           "xaxis": {
            "backgroundcolor": "#E5ECF6",
            "gridcolor": "white",
            "gridwidth": 2,
            "linecolor": "white",
            "showbackground": true,
            "ticks": "",
            "zerolinecolor": "white"
           },
           "yaxis": {
            "backgroundcolor": "#E5ECF6",
            "gridcolor": "white",
            "gridwidth": 2,
            "linecolor": "white",
            "showbackground": true,
            "ticks": "",
            "zerolinecolor": "white"
           },
           "zaxis": {
            "backgroundcolor": "#E5ECF6",
            "gridcolor": "white",
            "gridwidth": 2,
            "linecolor": "white",
            "showbackground": true,
            "ticks": "",
            "zerolinecolor": "white"
           }
          },
          "shapedefaults": {
           "line": {
            "color": "#2a3f5f"
           }
          },
          "ternary": {
           "aaxis": {
            "gridcolor": "white",
            "linecolor": "white",
            "ticks": ""
           },
           "baxis": {
            "gridcolor": "white",
            "linecolor": "white",
            "ticks": ""
           },
           "bgcolor": "#E5ECF6",
           "caxis": {
            "gridcolor": "white",
            "linecolor": "white",
            "ticks": ""
           }
          },
          "title": {
           "x": 0.05
          },
          "xaxis": {
           "automargin": true,
           "gridcolor": "white",
           "linecolor": "white",
           "ticks": "",
           "title": {
            "standoff": 15
           },
           "zerolinecolor": "white",
           "zerolinewidth": 2
          },
          "yaxis": {
           "automargin": true,
           "gridcolor": "white",
           "linecolor": "white",
           "ticks": "",
           "title": {
            "standoff": 15
           },
           "zerolinecolor": "white",
           "zerolinewidth": 2
          }
         }
        },
        "title": {
         "text": "Total Deaths by Leading Cause of Death"
        },
        "xaxis": {
         "anchor": "y",
         "domain": [
          0,
          1
         ],
         "title": {
          "text": "Year"
         }
        },
        "yaxis": {
         "anchor": "x",
         "domain": [
          0,
          1
         ],
         "title": {
          "text": "Total Deaths"
         }
        }
       }
      }
     },
     "metadata": {},
     "output_type": "display_data"
    }
   ],
   "source": [
    "# Calculate total deaths by leading cause of death and year\n",
    "deaths_by_cause_year = df.filter(df[\"Leading_Cause_Of_Death\"] != \"Other causes of death\").groupBy('Leading_Cause_Of_Death', 'Year').agg(sum('Death_Count').alias('Total Deaths'))\n",
    "\n",
    "# Calculate the top 10 leading causes of death\n",
    "top_10_causes = deaths_by_cause_year.groupBy('Leading_Cause_Of_Death').agg(sum('Total Deaths').alias('Total Deaths')).orderBy(desc('Total Deaths')).limit(10)\n",
    "\n",
    "# Remove the Total Deaths column\n",
    "top_10_causes = top_10_causes.drop('Total Deaths')\n",
    "\n",
    "# Join the top 10 leading causes with the deaths_by_cause_year table to get the yearly total deaths\n",
    "top_10_deaths_by_year = top_10_causes.join(deaths_by_cause_year, 'Leading_Cause_Of_Death', 'inner').orderBy('Year')\n",
    "\n",
    "new_pd = top_10_deaths_by_year.toPandas()\n",
    "\n",
    "# Create a line plot\n",
    "fig = px.line(new_pd, x='Year', y='Total Deaths', color='Leading_Cause_Of_Death', title='Total Deaths by Leading Cause of Death')\n",
    "\n",
    "# Position the legend horizontally at the top\n",
    "fig.update_layout(\n",
    "    legend_orientation=\"h\",\n",
    "    legend=dict(x=0.5, y=-0.5, xanchor='center')\n",
    ")\n",
    "\n",
    "# Show the plot\n",
    "fig.show()\n"
   ]
  },
  {
   "cell_type": "code",
   "execution_count": 124,
   "metadata": {},
   "outputs": [
    {
     "data": {
      "application/vnd.plotly.v1+json": {
       "config": {
        "plotlyServerURL": "https://plot.ly"
       },
       "data": [
        {
         "hovertemplate": "Leading_Cause_Of_Death=Intentional self-harm (suicide) [X60-X84, Y87.0]<br>Year=%{x}<br>Total Deaths=%{y}<extra></extra>",
         "legendgroup": "Intentional self-harm (suicide) [X60-X84, Y87.0]",
         "line": {
          "color": "#636efa",
          "dash": "solid"
         },
         "marker": {
          "symbol": "circle"
         },
         "mode": "lines",
         "name": "Intentional self-harm (suicide) [X60-X84, Y87.0]",
         "orientation": "v",
         "showlegend": true,
         "type": "scatter",
         "x": [
          2000,
          2001,
          2002,
          2003,
          2004,
          2005,
          2006,
          2007,
          2008,
          2009,
          2010,
          2011,
          2012,
          2013,
          2014,
          2015,
          2016,
          2017,
          2018,
          2019,
          2020,
          2021,
          2022
         ],
         "xaxis": "x",
         "y": [
          3606,
          3692,
          3650,
          3765,
          3613,
          3743,
          3512,
          3611,
          3705,
          3890,
          3951,
          3896,
          3926,
          4054,
          4254,
          4405,
          3978,
          4462,
          4576,
          4581,
          4152,
          3769,
          3593
         ],
         "yaxis": "y"
        },
        {
         "hovertemplate": "Leading_Cause_Of_Death=Nephritis, nephrotic syndrome and nephrosis [N00-N07, N17-N19, N25-N27]<br>Year=%{x}<br>Total Deaths=%{y}<extra></extra>",
         "legendgroup": "Nephritis, nephrotic syndrome and nephrosis [N00-N07, N17-N19, N25-N27]",
         "line": {
          "color": "#EF553B",
          "dash": "solid"
         },
         "marker": {
          "symbol": "circle"
         },
         "mode": "lines",
         "name": "Nephritis, nephrotic syndrome and nephrosis [N00-N07, N17-N19, N25-N27]",
         "orientation": "v",
         "showlegend": true,
         "type": "scatter",
         "x": [
          2000,
          2001,
          2002,
          2003,
          2004,
          2005,
          2006,
          2007,
          2008,
          2009,
          2010,
          2011,
          2012,
          2013,
          2014,
          2015,
          2016,
          2017,
          2018,
          2019,
          2020,
          2021,
          2022
         ],
         "xaxis": "x",
         "y": [
          3133,
          3218,
          3433,
          3498,
          3537,
          3636,
          3684,
          3798,
          3841,
          3609,
          3865,
          3294,
          3327,
          2978,
          3097,
          3129,
          3054,
          3275,
          3612,
          3769,
          4065,
          3978,
          4233
         ],
         "yaxis": "y"
        },
        {
         "hovertemplate": "Leading_Cause_Of_Death=Influenza and pneumonia [J09-J18]<br>Year=%{x}<br>Total Deaths=%{y}<extra></extra>",
         "legendgroup": "Influenza and pneumonia [J09-J18]",
         "line": {
          "color": "#00cc96",
          "dash": "solid"
         },
         "marker": {
          "symbol": "circle"
         },
         "mode": "lines",
         "name": "Influenza and pneumonia [J09-J18]",
         "orientation": "v",
         "showlegend": true,
         "type": "scatter",
         "x": [
          2000,
          2001,
          2002,
          2003,
          2004,
          2005,
          2006,
          2007,
          2008,
          2009,
          2010,
          2011,
          2012,
          2013,
          2014,
          2015,
          2016,
          2017,
          2018,
          2019,
          2020,
          2021,
          2022
         ],
         "xaxis": "x",
         "y": [
          4953,
          4760,
          4711,
          4945,
          5717,
          5836,
          5139,
          5438,
          5380,
          5812,
          5099,
          5779,
          5683,
          6544,
          6587,
          7622,
          6223,
          7434,
          8578,
          6933,
          6034,
          4114,
          5978
         ],
         "yaxis": "y"
        },
        {
         "hovertemplate": "Leading_Cause_Of_Death=Accidents (unintentional injuries) [V01-X59, Y85-Y86]<br>Year=%{x}<br>Total Deaths=%{y}<extra></extra>",
         "legendgroup": "Accidents (unintentional injuries) [V01-X59, Y85-Y86]",
         "line": {
          "color": "#ab63fa",
          "dash": "solid"
         },
         "marker": {
          "symbol": "circle"
         },
         "mode": "lines",
         "name": "Accidents (unintentional injuries) [V01-X59, Y85-Y86]",
         "orientation": "v",
         "showlegend": true,
         "type": "scatter",
         "x": [
          2000,
          2001,
          2002,
          2003,
          2004,
          2005,
          2006,
          2007,
          2008,
          2009,
          2010,
          2011,
          2012,
          2013,
          2014,
          2015,
          2016,
          2017,
          2018,
          2019,
          2020,
          2021,
          2022
         ],
         "xaxis": "x",
         "y": [
          8552,
          8494,
          9015,
          9021,
          8965,
          9476,
          9606,
          9918,
          10202,
          10220,
          10838,
          10927,
          11249,
          11420,
          11690,
          11798,
          12499,
          14997,
          15825,
          15485,
          16793,
          19247,
          18349
         ],
         "yaxis": "y"
        },
        {
         "hovertemplate": "Leading_Cause_Of_Death=Chronic lower respiratory diseases [J40-J47]<br>Year=%{x}<br>Total Deaths=%{y}<extra></extra>",
         "legendgroup": "Chronic lower respiratory diseases [J40-J47]",
         "line": {
          "color": "#FFA15A",
          "dash": "solid"
         },
         "marker": {
          "symbol": "circle"
         },
         "mode": "lines",
         "name": "Chronic lower respiratory diseases [J40-J47]",
         "orientation": "v",
         "showlegend": true,
         "type": "scatter",
         "x": [
          2000,
          2001,
          2002,
          2003,
          2004,
          2005,
          2006,
          2007,
          2008,
          2009,
          2010,
          2011,
          2012,
          2013,
          2014,
          2015,
          2016,
          2017,
          2018,
          2019,
          2020,
          2021,
          2022
         ],
         "xaxis": "x",
         "y": [
          9809,
          9772,
          9875,
          10161,
          10041,
          10514,
          9785,
          10659,
          10922,
          10858,
          10756,
          11243,
          11130,
          11975,
          11876,
          12573,
          12293,
          12890,
          13070,
          12902,
          11843,
          11018,
          12462
         ],
         "yaxis": "y"
        },
        {
         "hovertemplate": "Leading_Cause_Of_Death=Cerebrovascular diseases [I60-I69]<br>Year=%{x}<br>Total Deaths=%{y}<extra></extra>",
         "legendgroup": "Cerebrovascular diseases [I60-I69]",
         "line": {
          "color": "#19d3f3",
          "dash": "solid"
         },
         "marker": {
          "symbol": "circle"
         },
         "mode": "lines",
         "name": "Cerebrovascular diseases [I60-I69]",
         "orientation": "v",
         "showlegend": true,
         "type": "scatter",
         "x": [
          2000,
          2001,
          2002,
          2003,
          2004,
          2005,
          2006,
          2007,
          2008,
          2009,
          2010,
          2011,
          2012,
          2013,
          2014,
          2015,
          2016,
          2017,
          2018,
          2019,
          2020,
          2021,
          2022
         ],
         "xaxis": "x",
         "y": [
          15572,
          15448,
          15444,
          15280,
          14623,
          14051,
          13799,
          13977,
          13858,
          14102,
          13701,
          13326,
          13171,
          13399,
          13570,
          13794,
          13550,
          13931,
          13545,
          13715,
          13759,
          13489,
          13915
         ],
         "yaxis": "y"
        },
        {
         "hovertemplate": "Leading_Cause_Of_Death=Diabetes mellitus [E10-E14]<br>Year=%{x}<br>Total Deaths=%{y}<extra></extra>",
         "legendgroup": "Diabetes mellitus [E10-E14]",
         "line": {
          "color": "#FF6692",
          "dash": "solid"
         },
         "marker": {
          "symbol": "circle"
         },
         "mode": "lines",
         "name": "Diabetes mellitus [E10-E14]",
         "orientation": "v",
         "showlegend": true,
         "type": "scatter",
         "x": [
          2000,
          2001,
          2002,
          2003,
          2004,
          2005,
          2006,
          2007,
          2008,
          2009,
          2010,
          2011,
          2012,
          2013,
          2014,
          2015,
          2016,
          2017,
          2018,
          2019,
          2020,
          2021,
          2022
         ],
         "xaxis": "x",
         "y": [
          6714,
          7097,
          7868,
          7970,
          7823,
          7881,
          7261,
          7394,
          7520,
          6923,
          6942,
          7255,
          6992,
          7044,
          7071,
          7172,
          6838,
          6938,
          6864,
          6987,
          7654,
          7472,
          7557
         ],
         "yaxis": "y"
        },
        {
         "hovertemplate": "Leading_Cause_Of_Death=Alzheimer's disease [G30]<br>Year=%{x}<br>Total Deaths=%{y}<extra></extra>",
         "legendgroup": "Alzheimer's disease [G30]",
         "line": {
          "color": "#B6E880",
          "dash": "solid"
         },
         "marker": {
          "symbol": "circle"
         },
         "mode": "lines",
         "name": "Alzheimer's disease [G30]",
         "orientation": "v",
         "showlegend": true,
         "type": "scatter",
         "x": [
          2000,
          2001,
          2002,
          2003,
          2004,
          2005,
          2006,
          2007,
          2008,
          2009,
          2010,
          2011,
          2012,
          2013,
          2014,
          2015,
          2016,
          2017,
          2018,
          2019,
          2020,
          2021,
          2022
         ],
         "xaxis": "x",
         "y": [
          5007,
          5477,
          5515,
          5504,
          5536,
          5762,
          5675,
          5903,
          6573,
          6281,
          6452,
          6377,
          6293,
          6345,
          6410,
          6587,
          6521,
          6683,
          6439,
          6181,
          5788,
          5471,
          5413
         ],
         "yaxis": "y"
        }
       ],
       "layout": {
        "legend": {
         "orientation": "h",
         "title": {
          "text": "Leading_Cause_Of_Death"
         },
         "tracegroupgap": 0,
         "x": 0.5,
         "xanchor": "center",
         "y": -0.5
        },
        "template": {
         "data": {
          "bar": [
           {
            "error_x": {
             "color": "#2a3f5f"
            },
            "error_y": {
             "color": "#2a3f5f"
            },
            "marker": {
             "line": {
              "color": "#E5ECF6",
              "width": 0.5
             },
             "pattern": {
              "fillmode": "overlay",
              "size": 10,
              "solidity": 0.2
             }
            },
            "type": "bar"
           }
          ],
          "barpolar": [
           {
            "marker": {
             "line": {
              "color": "#E5ECF6",
              "width": 0.5
             },
             "pattern": {
              "fillmode": "overlay",
              "size": 10,
              "solidity": 0.2
             }
            },
            "type": "barpolar"
           }
          ],
          "carpet": [
           {
            "aaxis": {
             "endlinecolor": "#2a3f5f",
             "gridcolor": "white",
             "linecolor": "white",
             "minorgridcolor": "white",
             "startlinecolor": "#2a3f5f"
            },
            "baxis": {
             "endlinecolor": "#2a3f5f",
             "gridcolor": "white",
             "linecolor": "white",
             "minorgridcolor": "white",
             "startlinecolor": "#2a3f5f"
            },
            "type": "carpet"
           }
          ],
          "choropleth": [
           {
            "colorbar": {
             "outlinewidth": 0,
             "ticks": ""
            },
            "type": "choropleth"
           }
          ],
          "contour": [
           {
            "colorbar": {
             "outlinewidth": 0,
             "ticks": ""
            },
            "colorscale": [
             [
              0,
              "#0d0887"
             ],
             [
              0.1111111111111111,
              "#46039f"
             ],
             [
              0.2222222222222222,
              "#7201a8"
             ],
             [
              0.3333333333333333,
              "#9c179e"
             ],
             [
              0.4444444444444444,
              "#bd3786"
             ],
             [
              0.5555555555555556,
              "#d8576b"
             ],
             [
              0.6666666666666666,
              "#ed7953"
             ],
             [
              0.7777777777777778,
              "#fb9f3a"
             ],
             [
              0.8888888888888888,
              "#fdca26"
             ],
             [
              1,
              "#f0f921"
             ]
            ],
            "type": "contour"
           }
          ],
          "contourcarpet": [
           {
            "colorbar": {
             "outlinewidth": 0,
             "ticks": ""
            },
            "type": "contourcarpet"
           }
          ],
          "heatmap": [
           {
            "colorbar": {
             "outlinewidth": 0,
             "ticks": ""
            },
            "colorscale": [
             [
              0,
              "#0d0887"
             ],
             [
              0.1111111111111111,
              "#46039f"
             ],
             [
              0.2222222222222222,
              "#7201a8"
             ],
             [
              0.3333333333333333,
              "#9c179e"
             ],
             [
              0.4444444444444444,
              "#bd3786"
             ],
             [
              0.5555555555555556,
              "#d8576b"
             ],
             [
              0.6666666666666666,
              "#ed7953"
             ],
             [
              0.7777777777777778,
              "#fb9f3a"
             ],
             [
              0.8888888888888888,
              "#fdca26"
             ],
             [
              1,
              "#f0f921"
             ]
            ],
            "type": "heatmap"
           }
          ],
          "heatmapgl": [
           {
            "colorbar": {
             "outlinewidth": 0,
             "ticks": ""
            },
            "colorscale": [
             [
              0,
              "#0d0887"
             ],
             [
              0.1111111111111111,
              "#46039f"
             ],
             [
              0.2222222222222222,
              "#7201a8"
             ],
             [
              0.3333333333333333,
              "#9c179e"
             ],
             [
              0.4444444444444444,
              "#bd3786"
             ],
             [
              0.5555555555555556,
              "#d8576b"
             ],
             [
              0.6666666666666666,
              "#ed7953"
             ],
             [
              0.7777777777777778,
              "#fb9f3a"
             ],
             [
              0.8888888888888888,
              "#fdca26"
             ],
             [
              1,
              "#f0f921"
             ]
            ],
            "type": "heatmapgl"
           }
          ],
          "histogram": [
           {
            "marker": {
             "pattern": {
              "fillmode": "overlay",
              "size": 10,
              "solidity": 0.2
             }
            },
            "type": "histogram"
           }
          ],
          "histogram2d": [
           {
            "colorbar": {
             "outlinewidth": 0,
             "ticks": ""
            },
            "colorscale": [
             [
              0,
              "#0d0887"
             ],
             [
              0.1111111111111111,
              "#46039f"
             ],
             [
              0.2222222222222222,
              "#7201a8"
             ],
             [
              0.3333333333333333,
              "#9c179e"
             ],
             [
              0.4444444444444444,
              "#bd3786"
             ],
             [
              0.5555555555555556,
              "#d8576b"
             ],
             [
              0.6666666666666666,
              "#ed7953"
             ],
             [
              0.7777777777777778,
              "#fb9f3a"
             ],
             [
              0.8888888888888888,
              "#fdca26"
             ],
             [
              1,
              "#f0f921"
             ]
            ],
            "type": "histogram2d"
           }
          ],
          "histogram2dcontour": [
           {
            "colorbar": {
             "outlinewidth": 0,
             "ticks": ""
            },
            "colorscale": [
             [
              0,
              "#0d0887"
             ],
             [
              0.1111111111111111,
              "#46039f"
             ],
             [
              0.2222222222222222,
              "#7201a8"
             ],
             [
              0.3333333333333333,
              "#9c179e"
             ],
             [
              0.4444444444444444,
              "#bd3786"
             ],
             [
              0.5555555555555556,
              "#d8576b"
             ],
             [
              0.6666666666666666,
              "#ed7953"
             ],
             [
              0.7777777777777778,
              "#fb9f3a"
             ],
             [
              0.8888888888888888,
              "#fdca26"
             ],
             [
              1,
              "#f0f921"
             ]
            ],
            "type": "histogram2dcontour"
           }
          ],
          "mesh3d": [
           {
            "colorbar": {
             "outlinewidth": 0,
             "ticks": ""
            },
            "type": "mesh3d"
           }
          ],
          "parcoords": [
           {
            "line": {
             "colorbar": {
              "outlinewidth": 0,
              "ticks": ""
             }
            },
            "type": "parcoords"
           }
          ],
          "pie": [
           {
            "automargin": true,
            "type": "pie"
           }
          ],
          "scatter": [
           {
            "fillpattern": {
             "fillmode": "overlay",
             "size": 10,
             "solidity": 0.2
            },
            "type": "scatter"
           }
          ],
          "scatter3d": [
           {
            "line": {
             "colorbar": {
              "outlinewidth": 0,
              "ticks": ""
             }
            },
            "marker": {
             "colorbar": {
              "outlinewidth": 0,
              "ticks": ""
             }
            },
            "type": "scatter3d"
           }
          ],
          "scattercarpet": [
           {
            "marker": {
             "colorbar": {
              "outlinewidth": 0,
              "ticks": ""
             }
            },
            "type": "scattercarpet"
           }
          ],
          "scattergeo": [
           {
            "marker": {
             "colorbar": {
              "outlinewidth": 0,
              "ticks": ""
             }
            },
            "type": "scattergeo"
           }
          ],
          "scattergl": [
           {
            "marker": {
             "colorbar": {
              "outlinewidth": 0,
              "ticks": ""
             }
            },
            "type": "scattergl"
           }
          ],
          "scattermapbox": [
           {
            "marker": {
             "colorbar": {
              "outlinewidth": 0,
              "ticks": ""
             }
            },
            "type": "scattermapbox"
           }
          ],
          "scatterpolar": [
           {
            "marker": {
             "colorbar": {
              "outlinewidth": 0,
              "ticks": ""
             }
            },
            "type": "scatterpolar"
           }
          ],
          "scatterpolargl": [
           {
            "marker": {
             "colorbar": {
              "outlinewidth": 0,
              "ticks": ""
             }
            },
            "type": "scatterpolargl"
           }
          ],
          "scatterternary": [
           {
            "marker": {
             "colorbar": {
              "outlinewidth": 0,
              "ticks": ""
             }
            },
            "type": "scatterternary"
           }
          ],
          "surface": [
           {
            "colorbar": {
             "outlinewidth": 0,
             "ticks": ""
            },
            "colorscale": [
             [
              0,
              "#0d0887"
             ],
             [
              0.1111111111111111,
              "#46039f"
             ],
             [
              0.2222222222222222,
              "#7201a8"
             ],
             [
              0.3333333333333333,
              "#9c179e"
             ],
             [
              0.4444444444444444,
              "#bd3786"
             ],
             [
              0.5555555555555556,
              "#d8576b"
             ],
             [
              0.6666666666666666,
              "#ed7953"
             ],
             [
              0.7777777777777778,
              "#fb9f3a"
             ],
             [
              0.8888888888888888,
              "#fdca26"
             ],
             [
              1,
              "#f0f921"
             ]
            ],
            "type": "surface"
           }
          ],
          "table": [
           {
            "cells": {
             "fill": {
              "color": "#EBF0F8"
             },
             "line": {
              "color": "white"
             }
            },
            "header": {
             "fill": {
              "color": "#C8D4E3"
             },
             "line": {
              "color": "white"
             }
            },
            "type": "table"
           }
          ]
         },
         "layout": {
          "annotationdefaults": {
           "arrowcolor": "#2a3f5f",
           "arrowhead": 0,
           "arrowwidth": 1
          },
          "autotypenumbers": "strict",
          "coloraxis": {
           "colorbar": {
            "outlinewidth": 0,
            "ticks": ""
           }
          },
          "colorscale": {
           "diverging": [
            [
             0,
             "#8e0152"
            ],
            [
             0.1,
             "#c51b7d"
            ],
            [
             0.2,
             "#de77ae"
            ],
            [
             0.3,
             "#f1b6da"
            ],
            [
             0.4,
             "#fde0ef"
            ],
            [
             0.5,
             "#f7f7f7"
            ],
            [
             0.6,
             "#e6f5d0"
            ],
            [
             0.7,
             "#b8e186"
            ],
            [
             0.8,
             "#7fbc41"
            ],
            [
             0.9,
             "#4d9221"
            ],
            [
             1,
             "#276419"
            ]
           ],
           "sequential": [
            [
             0,
             "#0d0887"
            ],
            [
             0.1111111111111111,
             "#46039f"
            ],
            [
             0.2222222222222222,
             "#7201a8"
            ],
            [
             0.3333333333333333,
             "#9c179e"
            ],
            [
             0.4444444444444444,
             "#bd3786"
            ],
            [
             0.5555555555555556,
             "#d8576b"
            ],
            [
             0.6666666666666666,
             "#ed7953"
            ],
            [
             0.7777777777777778,
             "#fb9f3a"
            ],
            [
             0.8888888888888888,
             "#fdca26"
            ],
            [
             1,
             "#f0f921"
            ]
           ],
           "sequentialminus": [
            [
             0,
             "#0d0887"
            ],
            [
             0.1111111111111111,
             "#46039f"
            ],
            [
             0.2222222222222222,
             "#7201a8"
            ],
            [
             0.3333333333333333,
             "#9c179e"
            ],
            [
             0.4444444444444444,
             "#bd3786"
            ],
            [
             0.5555555555555556,
             "#d8576b"
            ],
            [
             0.6666666666666666,
             "#ed7953"
            ],
            [
             0.7777777777777778,
             "#fb9f3a"
            ],
            [
             0.8888888888888888,
             "#fdca26"
            ],
            [
             1,
             "#f0f921"
            ]
           ]
          },
          "colorway": [
           "#636efa",
           "#EF553B",
           "#00cc96",
           "#ab63fa",
           "#FFA15A",
           "#19d3f3",
           "#FF6692",
           "#B6E880",
           "#FF97FF",
           "#FECB52"
          ],
          "font": {
           "color": "#2a3f5f"
          },
          "geo": {
           "bgcolor": "white",
           "lakecolor": "white",
           "landcolor": "#E5ECF6",
           "showlakes": true,
           "showland": true,
           "subunitcolor": "white"
          },
          "hoverlabel": {
           "align": "left"
          },
          "hovermode": "closest",
          "mapbox": {
           "style": "light"
          },
          "paper_bgcolor": "white",
          "plot_bgcolor": "#E5ECF6",
          "polar": {
           "angularaxis": {
            "gridcolor": "white",
            "linecolor": "white",
            "ticks": ""
           },
           "bgcolor": "#E5ECF6",
           "radialaxis": {
            "gridcolor": "white",
            "linecolor": "white",
            "ticks": ""
           }
          },
          "scene": {
           "xaxis": {
            "backgroundcolor": "#E5ECF6",
            "gridcolor": "white",
            "gridwidth": 2,
            "linecolor": "white",
            "showbackground": true,
            "ticks": "",
            "zerolinecolor": "white"
           },
           "yaxis": {
            "backgroundcolor": "#E5ECF6",
            "gridcolor": "white",
            "gridwidth": 2,
            "linecolor": "white",
            "showbackground": true,
            "ticks": "",
            "zerolinecolor": "white"
           },
           "zaxis": {
            "backgroundcolor": "#E5ECF6",
            "gridcolor": "white",
            "gridwidth": 2,
            "linecolor": "white",
            "showbackground": true,
            "ticks": "",
            "zerolinecolor": "white"
           }
          },
          "shapedefaults": {
           "line": {
            "color": "#2a3f5f"
           }
          },
          "ternary": {
           "aaxis": {
            "gridcolor": "white",
            "linecolor": "white",
            "ticks": ""
           },
           "baxis": {
            "gridcolor": "white",
            "linecolor": "white",
            "ticks": ""
           },
           "bgcolor": "#E5ECF6",
           "caxis": {
            "gridcolor": "white",
            "linecolor": "white",
            "ticks": ""
           }
          },
          "title": {
           "x": 0.05
          },
          "xaxis": {
           "automargin": true,
           "gridcolor": "white",
           "linecolor": "white",
           "ticks": "",
           "title": {
            "standoff": 15
           },
           "zerolinecolor": "white",
           "zerolinewidth": 2
          },
          "yaxis": {
           "automargin": true,
           "gridcolor": "white",
           "linecolor": "white",
           "ticks": "",
           "title": {
            "standoff": 15
           },
           "zerolinecolor": "white",
           "zerolinewidth": 2
          }
         }
        },
        "title": {
         "text": "Total Deaths by Leading Cause of Death"
        },
        "xaxis": {
         "anchor": "y",
         "domain": [
          0,
          1
         ],
         "title": {
          "text": "Year"
         }
        },
        "yaxis": {
         "anchor": "x",
         "domain": [
          0,
          1
         ],
         "title": {
          "text": "Total Deaths"
         }
        }
       }
      }
     },
     "metadata": {},
     "output_type": "display_data"
    }
   ],
   "source": [
    "# Calculate total deaths by leading cause of death and year\n",
    "deaths_by_cause_year_z = df.filter(df[\"Leading_Cause_Of_Death\"] != \"Other causes of death\").groupBy('Leading_Cause_Of_Death', 'Year').agg(sum('Death_Count').alias('Total Deaths'))\n",
    "deaths_by_cause_year_z = deaths_by_cause_year_z.filter(df[\"Leading_Cause_Of_Death\"] != \"Malignant neoplasms [C00-C97]\")\n",
    "deaths_by_cause_year_z = deaths_by_cause_year_z.filter(df[\"Leading_Cause_Of_Death\"] != \"Diseases of heart [I00-I09, I11, I13, I20-I51]\")\n",
    "\n",
    "# Calculate the top 8 leading causes of death\n",
    "top_8_causes = deaths_by_cause_year_z.groupBy('Leading_Cause_Of_Death').agg(sum('Total Deaths').alias('Total Deaths')).orderBy(desc('Total Deaths')).limit(8)\n",
    "\n",
    "# Remove the Total Deaths column\n",
    "top_8_causes = top_8_causes.drop('Total Deaths')\n",
    "\n",
    "# Join the top 10 leading causes with the deaths_by_cause_year table to get the yearly total deaths\n",
    "top_8_deaths_by_year = top_8_causes.join(deaths_by_cause_year_z, 'Leading_Cause_Of_Death', 'inner').orderBy('Year')\n",
    "\n",
    "new_pd_z = top_8_deaths_by_year.toPandas()\n",
    "\n",
    "# Create a line plot\n",
    "fig = px.line(new_pd_z, x='Year', y='Total Deaths', color='Leading_Cause_Of_Death', title='Total Deaths by Leading Cause of Death')\n",
    "\n",
    "# Position the legend horizontally at the top\n",
    "fig.update_layout(\n",
    "    legend_orientation=\"h\",\n",
    "    legend=dict(x=0.5, y=-0.5, xanchor='center')\n",
    ")\n",
    "\n",
    "# Show the plot\n",
    "fig.show()\n"
   ]
  },
  {
   "cell_type": "code",
   "execution_count": 150,
   "metadata": {},
   "outputs": [
    {
     "data": {
      "application/vnd.plotly.v1+json": {
       "config": {
        "plotlyServerURL": "https://plot.ly"
       },
       "data": [
        {
         "hovertemplate": "Year=%{x}<br>Total Deaths=%{y}<extra></extra>",
         "legendgroup": "",
         "line": {
          "color": "#636efa",
          "dash": "solid"
         },
         "marker": {
          "symbol": "circle"
         },
         "mode": "lines",
         "name": "",
         "orientation": "v",
         "showlegend": false,
         "type": "scatter",
         "x": [
          2000,
          2001,
          2002,
          2003,
          2004,
          2005,
          2006,
          2007,
          2008,
          2009,
          2010,
          2011,
          2012,
          2013,
          2014,
          2015,
          2016,
          2017,
          2018,
          2019,
          2020,
          2021,
          2022
         ],
         "xaxis": "x",
         "y": [
          62661,
          63767,
          65097,
          65983,
          66939,
          67338,
          67797,
          69584,
          70550,
          71115,
          71874,
          72728,
          74346,
          75104,
          77051,
          77047,
          79080,
          80017,
          79721,
          80367,
          81234,
          82819,
          82404
         ],
         "yaxis": "y"
        }
       ],
       "layout": {
        "height": 500,
        "legend": {
         "tracegroupgap": 0
        },
        "template": {
         "data": {
          "bar": [
           {
            "error_x": {
             "color": "#2a3f5f"
            },
            "error_y": {
             "color": "#2a3f5f"
            },
            "marker": {
             "line": {
              "color": "#E5ECF6",
              "width": 0.5
             },
             "pattern": {
              "fillmode": "overlay",
              "size": 10,
              "solidity": 0.2
             }
            },
            "type": "bar"
           }
          ],
          "barpolar": [
           {
            "marker": {
             "line": {
              "color": "#E5ECF6",
              "width": 0.5
             },
             "pattern": {
              "fillmode": "overlay",
              "size": 10,
              "solidity": 0.2
             }
            },
            "type": "barpolar"
           }
          ],
          "carpet": [
           {
            "aaxis": {
             "endlinecolor": "#2a3f5f",
             "gridcolor": "white",
             "linecolor": "white",
             "minorgridcolor": "white",
             "startlinecolor": "#2a3f5f"
            },
            "baxis": {
             "endlinecolor": "#2a3f5f",
             "gridcolor": "white",
             "linecolor": "white",
             "minorgridcolor": "white",
             "startlinecolor": "#2a3f5f"
            },
            "type": "carpet"
           }
          ],
          "choropleth": [
           {
            "colorbar": {
             "outlinewidth": 0,
             "ticks": ""
            },
            "type": "choropleth"
           }
          ],
          "contour": [
           {
            "colorbar": {
             "outlinewidth": 0,
             "ticks": ""
            },
            "colorscale": [
             [
              0,
              "#0d0887"
             ],
             [
              0.1111111111111111,
              "#46039f"
             ],
             [
              0.2222222222222222,
              "#7201a8"
             ],
             [
              0.3333333333333333,
              "#9c179e"
             ],
             [
              0.4444444444444444,
              "#bd3786"
             ],
             [
              0.5555555555555556,
              "#d8576b"
             ],
             [
              0.6666666666666666,
              "#ed7953"
             ],
             [
              0.7777777777777778,
              "#fb9f3a"
             ],
             [
              0.8888888888888888,
              "#fdca26"
             ],
             [
              1,
              "#f0f921"
             ]
            ],
            "type": "contour"
           }
          ],
          "contourcarpet": [
           {
            "colorbar": {
             "outlinewidth": 0,
             "ticks": ""
            },
            "type": "contourcarpet"
           }
          ],
          "heatmap": [
           {
            "colorbar": {
             "outlinewidth": 0,
             "ticks": ""
            },
            "colorscale": [
             [
              0,
              "#0d0887"
             ],
             [
              0.1111111111111111,
              "#46039f"
             ],
             [
              0.2222222222222222,
              "#7201a8"
             ],
             [
              0.3333333333333333,
              "#9c179e"
             ],
             [
              0.4444444444444444,
              "#bd3786"
             ],
             [
              0.5555555555555556,
              "#d8576b"
             ],
             [
              0.6666666666666666,
              "#ed7953"
             ],
             [
              0.7777777777777778,
              "#fb9f3a"
             ],
             [
              0.8888888888888888,
              "#fdca26"
             ],
             [
              1,
              "#f0f921"
             ]
            ],
            "type": "heatmap"
           }
          ],
          "heatmapgl": [
           {
            "colorbar": {
             "outlinewidth": 0,
             "ticks": ""
            },
            "colorscale": [
             [
              0,
              "#0d0887"
             ],
             [
              0.1111111111111111,
              "#46039f"
             ],
             [
              0.2222222222222222,
              "#7201a8"
             ],
             [
              0.3333333333333333,
              "#9c179e"
             ],
             [
              0.4444444444444444,
              "#bd3786"
             ],
             [
              0.5555555555555556,
              "#d8576b"
             ],
             [
              0.6666666666666666,
              "#ed7953"
             ],
             [
              0.7777777777777778,
              "#fb9f3a"
             ],
             [
              0.8888888888888888,
              "#fdca26"
             ],
             [
              1,
              "#f0f921"
             ]
            ],
            "type": "heatmapgl"
           }
          ],
          "histogram": [
           {
            "marker": {
             "pattern": {
              "fillmode": "overlay",
              "size": 10,
              "solidity": 0.2
             }
            },
            "type": "histogram"
           }
          ],
          "histogram2d": [
           {
            "colorbar": {
             "outlinewidth": 0,
             "ticks": ""
            },
            "colorscale": [
             [
              0,
              "#0d0887"
             ],
             [
              0.1111111111111111,
              "#46039f"
             ],
             [
              0.2222222222222222,
              "#7201a8"
             ],
             [
              0.3333333333333333,
              "#9c179e"
             ],
             [
              0.4444444444444444,
              "#bd3786"
             ],
             [
              0.5555555555555556,
              "#d8576b"
             ],
             [
              0.6666666666666666,
              "#ed7953"
             ],
             [
              0.7777777777777778,
              "#fb9f3a"
             ],
             [
              0.8888888888888888,
              "#fdca26"
             ],
             [
              1,
              "#f0f921"
             ]
            ],
            "type": "histogram2d"
           }
          ],
          "histogram2dcontour": [
           {
            "colorbar": {
             "outlinewidth": 0,
             "ticks": ""
            },
            "colorscale": [
             [
              0,
              "#0d0887"
             ],
             [
              0.1111111111111111,
              "#46039f"
             ],
             [
              0.2222222222222222,
              "#7201a8"
             ],
             [
              0.3333333333333333,
              "#9c179e"
             ],
             [
              0.4444444444444444,
              "#bd3786"
             ],
             [
              0.5555555555555556,
              "#d8576b"
             ],
             [
              0.6666666666666666,
              "#ed7953"
             ],
             [
              0.7777777777777778,
              "#fb9f3a"
             ],
             [
              0.8888888888888888,
              "#fdca26"
             ],
             [
              1,
              "#f0f921"
             ]
            ],
            "type": "histogram2dcontour"
           }
          ],
          "mesh3d": [
           {
            "colorbar": {
             "outlinewidth": 0,
             "ticks": ""
            },
            "type": "mesh3d"
           }
          ],
          "parcoords": [
           {
            "line": {
             "colorbar": {
              "outlinewidth": 0,
              "ticks": ""
             }
            },
            "type": "parcoords"
           }
          ],
          "pie": [
           {
            "automargin": true,
            "type": "pie"
           }
          ],
          "scatter": [
           {
            "fillpattern": {
             "fillmode": "overlay",
             "size": 10,
             "solidity": 0.2
            },
            "type": "scatter"
           }
          ],
          "scatter3d": [
           {
            "line": {
             "colorbar": {
              "outlinewidth": 0,
              "ticks": ""
             }
            },
            "marker": {
             "colorbar": {
              "outlinewidth": 0,
              "ticks": ""
             }
            },
            "type": "scatter3d"
           }
          ],
          "scattercarpet": [
           {
            "marker": {
             "colorbar": {
              "outlinewidth": 0,
              "ticks": ""
             }
            },
            "type": "scattercarpet"
           }
          ],
          "scattergeo": [
           {
            "marker": {
             "colorbar": {
              "outlinewidth": 0,
              "ticks": ""
             }
            },
            "type": "scattergeo"
           }
          ],
          "scattergl": [
           {
            "marker": {
             "colorbar": {
              "outlinewidth": 0,
              "ticks": ""
             }
            },
            "type": "scattergl"
           }
          ],
          "scattermapbox": [
           {
            "marker": {
             "colorbar": {
              "outlinewidth": 0,
              "ticks": ""
             }
            },
            "type": "scattermapbox"
           }
          ],
          "scatterpolar": [
           {
            "marker": {
             "colorbar": {
              "outlinewidth": 0,
              "ticks": ""
             }
            },
            "type": "scatterpolar"
           }
          ],
          "scatterpolargl": [
           {
            "marker": {
             "colorbar": {
              "outlinewidth": 0,
              "ticks": ""
             }
            },
            "type": "scatterpolargl"
           }
          ],
          "scatterternary": [
           {
            "marker": {
             "colorbar": {
              "outlinewidth": 0,
              "ticks": ""
             }
            },
            "type": "scatterternary"
           }
          ],
          "surface": [
           {
            "colorbar": {
             "outlinewidth": 0,
             "ticks": ""
            },
            "colorscale": [
             [
              0,
              "#0d0887"
             ],
             [
              0.1111111111111111,
              "#46039f"
             ],
             [
              0.2222222222222222,
              "#7201a8"
             ],
             [
              0.3333333333333333,
              "#9c179e"
             ],
             [
              0.4444444444444444,
              "#bd3786"
             ],
             [
              0.5555555555555556,
              "#d8576b"
             ],
             [
              0.6666666666666666,
              "#ed7953"
             ],
             [
              0.7777777777777778,
              "#fb9f3a"
             ],
             [
              0.8888888888888888,
              "#fdca26"
             ],
             [
              1,
              "#f0f921"
             ]
            ],
            "type": "surface"
           }
          ],
          "table": [
           {
            "cells": {
             "fill": {
              "color": "#EBF0F8"
             },
             "line": {
              "color": "white"
             }
            },
            "header": {
             "fill": {
              "color": "#C8D4E3"
             },
             "line": {
              "color": "white"
             }
            },
            "type": "table"
           }
          ]
         },
         "layout": {
          "annotationdefaults": {
           "arrowcolor": "#2a3f5f",
           "arrowhead": 0,
           "arrowwidth": 1
          },
          "autotypenumbers": "strict",
          "coloraxis": {
           "colorbar": {
            "outlinewidth": 0,
            "ticks": ""
           }
          },
          "colorscale": {
           "diverging": [
            [
             0,
             "#8e0152"
            ],
            [
             0.1,
             "#c51b7d"
            ],
            [
             0.2,
             "#de77ae"
            ],
            [
             0.3,
             "#f1b6da"
            ],
            [
             0.4,
             "#fde0ef"
            ],
            [
             0.5,
             "#f7f7f7"
            ],
            [
             0.6,
             "#e6f5d0"
            ],
            [
             0.7,
             "#b8e186"
            ],
            [
             0.8,
             "#7fbc41"
            ],
            [
             0.9,
             "#4d9221"
            ],
            [
             1,
             "#276419"
            ]
           ],
           "sequential": [
            [
             0,
             "#0d0887"
            ],
            [
             0.1111111111111111,
             "#46039f"
            ],
            [
             0.2222222222222222,
             "#7201a8"
            ],
            [
             0.3333333333333333,
             "#9c179e"
            ],
            [
             0.4444444444444444,
             "#bd3786"
            ],
            [
             0.5555555555555556,
             "#d8576b"
            ],
            [
             0.6666666666666666,
             "#ed7953"
            ],
            [
             0.7777777777777778,
             "#fb9f3a"
            ],
            [
             0.8888888888888888,
             "#fdca26"
            ],
            [
             1,
             "#f0f921"
            ]
           ],
           "sequentialminus": [
            [
             0,
             "#0d0887"
            ],
            [
             0.1111111111111111,
             "#46039f"
            ],
            [
             0.2222222222222222,
             "#7201a8"
            ],
            [
             0.3333333333333333,
             "#9c179e"
            ],
            [
             0.4444444444444444,
             "#bd3786"
            ],
            [
             0.5555555555555556,
             "#d8576b"
            ],
            [
             0.6666666666666666,
             "#ed7953"
            ],
            [
             0.7777777777777778,
             "#fb9f3a"
            ],
            [
             0.8888888888888888,
             "#fdca26"
            ],
            [
             1,
             "#f0f921"
            ]
           ]
          },
          "colorway": [
           "#636efa",
           "#EF553B",
           "#00cc96",
           "#ab63fa",
           "#FFA15A",
           "#19d3f3",
           "#FF6692",
           "#B6E880",
           "#FF97FF",
           "#FECB52"
          ],
          "font": {
           "color": "#2a3f5f"
          },
          "geo": {
           "bgcolor": "white",
           "lakecolor": "white",
           "landcolor": "#E5ECF6",
           "showlakes": true,
           "showland": true,
           "subunitcolor": "white"
          },
          "hoverlabel": {
           "align": "left"
          },
          "hovermode": "closest",
          "mapbox": {
           "style": "light"
          },
          "paper_bgcolor": "white",
          "plot_bgcolor": "#E5ECF6",
          "polar": {
           "angularaxis": {
            "gridcolor": "white",
            "linecolor": "white",
            "ticks": ""
           },
           "bgcolor": "#E5ECF6",
           "radialaxis": {
            "gridcolor": "white",
            "linecolor": "white",
            "ticks": ""
           }
          },
          "scene": {
           "xaxis": {
            "backgroundcolor": "#E5ECF6",
            "gridcolor": "white",
            "gridwidth": 2,
            "linecolor": "white",
            "showbackground": true,
            "ticks": "",
            "zerolinecolor": "white"
           },
           "yaxis": {
            "backgroundcolor": "#E5ECF6",
            "gridcolor": "white",
            "gridwidth": 2,
            "linecolor": "white",
            "showbackground": true,
            "ticks": "",
            "zerolinecolor": "white"
           },
           "zaxis": {
            "backgroundcolor": "#E5ECF6",
            "gridcolor": "white",
            "gridwidth": 2,
            "linecolor": "white",
            "showbackground": true,
            "ticks": "",
            "zerolinecolor": "white"
           }
          },
          "shapedefaults": {
           "line": {
            "color": "#2a3f5f"
           }
          },
          "ternary": {
           "aaxis": {
            "gridcolor": "white",
            "linecolor": "white",
            "ticks": ""
           },
           "baxis": {
            "gridcolor": "white",
            "linecolor": "white",
            "ticks": ""
           },
           "bgcolor": "#E5ECF6",
           "caxis": {
            "gridcolor": "white",
            "linecolor": "white",
            "ticks": ""
           }
          },
          "title": {
           "x": 0.05
          },
          "xaxis": {
           "automargin": true,
           "gridcolor": "white",
           "linecolor": "white",
           "ticks": "",
           "title": {
            "standoff": 15
           },
           "zerolinecolor": "white",
           "zerolinewidth": 2
          },
          "yaxis": {
           "automargin": true,
           "gridcolor": "white",
           "linecolor": "white",
           "ticks": "",
           "title": {
            "standoff": 15
           },
           "zerolinecolor": "white",
           "zerolinewidth": 2
          }
         }
        },
        "title": {
         "text": "Total Deaths by Malignant neoplasms over the Years"
        },
        "width": 500,
        "xaxis": {
         "anchor": "y",
         "domain": [
          0,
          1
         ],
         "title": {
          "text": "Year"
         }
        },
        "yaxis": {
         "anchor": "x",
         "domain": [
          0,
          1
         ],
         "title": {
          "text": "Total Deaths"
         }
        }
       }
      }
     },
     "metadata": {},
     "output_type": "display_data"
    }
   ],
   "source": [
    "# Calculate total deaths by \"Malignant neoplasms [C00-C97]\" over the years\n",
    "deaths_by_cause_year = df.filter(df[\"Leading_Cause_Of_Death\"] == \"Malignant neoplasms [C00-C97]\").groupBy('Year').agg(sum('Death_Count').alias('Total Deaths')).orderBy('Year')\n",
    "\n",
    "# Create a line plot\n",
    "fig = px.line(deaths_by_cause_year, x='Year', y='Total Deaths', title='Total Deaths by Malignant neoplasms over the Years', width=500, height=500)\n",
    "\n",
    "# Show the plot\n",
    "fig.show()"
   ]
  },
  {
   "cell_type": "code",
   "execution_count": 151,
   "metadata": {},
   "outputs": [
    {
     "data": {
      "application/vnd.plotly.v1+json": {
       "config": {
        "plotlyServerURL": "https://plot.ly"
       },
       "data": [
        {
         "hovertemplate": "Year=%{x}<br>Total Deaths=%{y}<extra></extra>",
         "legendgroup": "",
         "line": {
          "color": "#636efa",
          "dash": "solid"
         },
         "marker": {
          "symbol": "circle"
         },
         "mode": "lines",
         "name": "",
         "orientation": "v",
         "showlegend": false,
         "type": "scatter",
         "x": [
          2000,
          2001,
          2002,
          2003,
          2004,
          2005,
          2006,
          2007,
          2008,
          2009,
          2010,
          2011,
          2012,
          2013,
          2014,
          2015,
          2016,
          2017,
          2018,
          2019,
          2020,
          2021,
          2022
         ],
         "xaxis": "x",
         "y": [
          8552,
          8494,
          9015,
          9021,
          8965,
          9476,
          9606,
          9918,
          10202,
          10220,
          10838,
          10927,
          11249,
          11420,
          11690,
          11798,
          12499,
          14997,
          15825,
          15485,
          16793,
          19247,
          18349
         ],
         "yaxis": "y"
        }
       ],
       "layout": {
        "height": 500,
        "legend": {
         "tracegroupgap": 0
        },
        "template": {
         "data": {
          "bar": [
           {
            "error_x": {
             "color": "#2a3f5f"
            },
            "error_y": {
             "color": "#2a3f5f"
            },
            "marker": {
             "line": {
              "color": "#E5ECF6",
              "width": 0.5
             },
             "pattern": {
              "fillmode": "overlay",
              "size": 10,
              "solidity": 0.2
             }
            },
            "type": "bar"
           }
          ],
          "barpolar": [
           {
            "marker": {
             "line": {
              "color": "#E5ECF6",
              "width": 0.5
             },
             "pattern": {
              "fillmode": "overlay",
              "size": 10,
              "solidity": 0.2
             }
            },
            "type": "barpolar"
           }
          ],
          "carpet": [
           {
            "aaxis": {
             "endlinecolor": "#2a3f5f",
             "gridcolor": "white",
             "linecolor": "white",
             "minorgridcolor": "white",
             "startlinecolor": "#2a3f5f"
            },
            "baxis": {
             "endlinecolor": "#2a3f5f",
             "gridcolor": "white",
             "linecolor": "white",
             "minorgridcolor": "white",
             "startlinecolor": "#2a3f5f"
            },
            "type": "carpet"
           }
          ],
          "choropleth": [
           {
            "colorbar": {
             "outlinewidth": 0,
             "ticks": ""
            },
            "type": "choropleth"
           }
          ],
          "contour": [
           {
            "colorbar": {
             "outlinewidth": 0,
             "ticks": ""
            },
            "colorscale": [
             [
              0,
              "#0d0887"
             ],
             [
              0.1111111111111111,
              "#46039f"
             ],
             [
              0.2222222222222222,
              "#7201a8"
             ],
             [
              0.3333333333333333,
              "#9c179e"
             ],
             [
              0.4444444444444444,
              "#bd3786"
             ],
             [
              0.5555555555555556,
              "#d8576b"
             ],
             [
              0.6666666666666666,
              "#ed7953"
             ],
             [
              0.7777777777777778,
              "#fb9f3a"
             ],
             [
              0.8888888888888888,
              "#fdca26"
             ],
             [
              1,
              "#f0f921"
             ]
            ],
            "type": "contour"
           }
          ],
          "contourcarpet": [
           {
            "colorbar": {
             "outlinewidth": 0,
             "ticks": ""
            },
            "type": "contourcarpet"
           }
          ],
          "heatmap": [
           {
            "colorbar": {
             "outlinewidth": 0,
             "ticks": ""
            },
            "colorscale": [
             [
              0,
              "#0d0887"
             ],
             [
              0.1111111111111111,
              "#46039f"
             ],
             [
              0.2222222222222222,
              "#7201a8"
             ],
             [
              0.3333333333333333,
              "#9c179e"
             ],
             [
              0.4444444444444444,
              "#bd3786"
             ],
             [
              0.5555555555555556,
              "#d8576b"
             ],
             [
              0.6666666666666666,
              "#ed7953"
             ],
             [
              0.7777777777777778,
              "#fb9f3a"
             ],
             [
              0.8888888888888888,
              "#fdca26"
             ],
             [
              1,
              "#f0f921"
             ]
            ],
            "type": "heatmap"
           }
          ],
          "heatmapgl": [
           {
            "colorbar": {
             "outlinewidth": 0,
             "ticks": ""
            },
            "colorscale": [
             [
              0,
              "#0d0887"
             ],
             [
              0.1111111111111111,
              "#46039f"
             ],
             [
              0.2222222222222222,
              "#7201a8"
             ],
             [
              0.3333333333333333,
              "#9c179e"
             ],
             [
              0.4444444444444444,
              "#bd3786"
             ],
             [
              0.5555555555555556,
              "#d8576b"
             ],
             [
              0.6666666666666666,
              "#ed7953"
             ],
             [
              0.7777777777777778,
              "#fb9f3a"
             ],
             [
              0.8888888888888888,
              "#fdca26"
             ],
             [
              1,
              "#f0f921"
             ]
            ],
            "type": "heatmapgl"
           }
          ],
          "histogram": [
           {
            "marker": {
             "pattern": {
              "fillmode": "overlay",
              "size": 10,
              "solidity": 0.2
             }
            },
            "type": "histogram"
           }
          ],
          "histogram2d": [
           {
            "colorbar": {
             "outlinewidth": 0,
             "ticks": ""
            },
            "colorscale": [
             [
              0,
              "#0d0887"
             ],
             [
              0.1111111111111111,
              "#46039f"
             ],
             [
              0.2222222222222222,
              "#7201a8"
             ],
             [
              0.3333333333333333,
              "#9c179e"
             ],
             [
              0.4444444444444444,
              "#bd3786"
             ],
             [
              0.5555555555555556,
              "#d8576b"
             ],
             [
              0.6666666666666666,
              "#ed7953"
             ],
             [
              0.7777777777777778,
              "#fb9f3a"
             ],
             [
              0.8888888888888888,
              "#fdca26"
             ],
             [
              1,
              "#f0f921"
             ]
            ],
            "type": "histogram2d"
           }
          ],
          "histogram2dcontour": [
           {
            "colorbar": {
             "outlinewidth": 0,
             "ticks": ""
            },
            "colorscale": [
             [
              0,
              "#0d0887"
             ],
             [
              0.1111111111111111,
              "#46039f"
             ],
             [
              0.2222222222222222,
              "#7201a8"
             ],
             [
              0.3333333333333333,
              "#9c179e"
             ],
             [
              0.4444444444444444,
              "#bd3786"
             ],
             [
              0.5555555555555556,
              "#d8576b"
             ],
             [
              0.6666666666666666,
              "#ed7953"
             ],
             [
              0.7777777777777778,
              "#fb9f3a"
             ],
             [
              0.8888888888888888,
              "#fdca26"
             ],
             [
              1,
              "#f0f921"
             ]
            ],
            "type": "histogram2dcontour"
           }
          ],
          "mesh3d": [
           {
            "colorbar": {
             "outlinewidth": 0,
             "ticks": ""
            },
            "type": "mesh3d"
           }
          ],
          "parcoords": [
           {
            "line": {
             "colorbar": {
              "outlinewidth": 0,
              "ticks": ""
             }
            },
            "type": "parcoords"
           }
          ],
          "pie": [
           {
            "automargin": true,
            "type": "pie"
           }
          ],
          "scatter": [
           {
            "fillpattern": {
             "fillmode": "overlay",
             "size": 10,
             "solidity": 0.2
            },
            "type": "scatter"
           }
          ],
          "scatter3d": [
           {
            "line": {
             "colorbar": {
              "outlinewidth": 0,
              "ticks": ""
             }
            },
            "marker": {
             "colorbar": {
              "outlinewidth": 0,
              "ticks": ""
             }
            },
            "type": "scatter3d"
           }
          ],
          "scattercarpet": [
           {
            "marker": {
             "colorbar": {
              "outlinewidth": 0,
              "ticks": ""
             }
            },
            "type": "scattercarpet"
           }
          ],
          "scattergeo": [
           {
            "marker": {
             "colorbar": {
              "outlinewidth": 0,
              "ticks": ""
             }
            },
            "type": "scattergeo"
           }
          ],
          "scattergl": [
           {
            "marker": {
             "colorbar": {
              "outlinewidth": 0,
              "ticks": ""
             }
            },
            "type": "scattergl"
           }
          ],
          "scattermapbox": [
           {
            "marker": {
             "colorbar": {
              "outlinewidth": 0,
              "ticks": ""
             }
            },
            "type": "scattermapbox"
           }
          ],
          "scatterpolar": [
           {
            "marker": {
             "colorbar": {
              "outlinewidth": 0,
              "ticks": ""
             }
            },
            "type": "scatterpolar"
           }
          ],
          "scatterpolargl": [
           {
            "marker": {
             "colorbar": {
              "outlinewidth": 0,
              "ticks": ""
             }
            },
            "type": "scatterpolargl"
           }
          ],
          "scatterternary": [
           {
            "marker": {
             "colorbar": {
              "outlinewidth": 0,
              "ticks": ""
             }
            },
            "type": "scatterternary"
           }
          ],
          "surface": [
           {
            "colorbar": {
             "outlinewidth": 0,
             "ticks": ""
            },
            "colorscale": [
             [
              0,
              "#0d0887"
             ],
             [
              0.1111111111111111,
              "#46039f"
             ],
             [
              0.2222222222222222,
              "#7201a8"
             ],
             [
              0.3333333333333333,
              "#9c179e"
             ],
             [
              0.4444444444444444,
              "#bd3786"
             ],
             [
              0.5555555555555556,
              "#d8576b"
             ],
             [
              0.6666666666666666,
              "#ed7953"
             ],
             [
              0.7777777777777778,
              "#fb9f3a"
             ],
             [
              0.8888888888888888,
              "#fdca26"
             ],
             [
              1,
              "#f0f921"
             ]
            ],
            "type": "surface"
           }
          ],
          "table": [
           {
            "cells": {
             "fill": {
              "color": "#EBF0F8"
             },
             "line": {
              "color": "white"
             }
            },
            "header": {
             "fill": {
              "color": "#C8D4E3"
             },
             "line": {
              "color": "white"
             }
            },
            "type": "table"
           }
          ]
         },
         "layout": {
          "annotationdefaults": {
           "arrowcolor": "#2a3f5f",
           "arrowhead": 0,
           "arrowwidth": 1
          },
          "autotypenumbers": "strict",
          "coloraxis": {
           "colorbar": {
            "outlinewidth": 0,
            "ticks": ""
           }
          },
          "colorscale": {
           "diverging": [
            [
             0,
             "#8e0152"
            ],
            [
             0.1,
             "#c51b7d"
            ],
            [
             0.2,
             "#de77ae"
            ],
            [
             0.3,
             "#f1b6da"
            ],
            [
             0.4,
             "#fde0ef"
            ],
            [
             0.5,
             "#f7f7f7"
            ],
            [
             0.6,
             "#e6f5d0"
            ],
            [
             0.7,
             "#b8e186"
            ],
            [
             0.8,
             "#7fbc41"
            ],
            [
             0.9,
             "#4d9221"
            ],
            [
             1,
             "#276419"
            ]
           ],
           "sequential": [
            [
             0,
             "#0d0887"
            ],
            [
             0.1111111111111111,
             "#46039f"
            ],
            [
             0.2222222222222222,
             "#7201a8"
            ],
            [
             0.3333333333333333,
             "#9c179e"
            ],
            [
             0.4444444444444444,
             "#bd3786"
            ],
            [
             0.5555555555555556,
             "#d8576b"
            ],
            [
             0.6666666666666666,
             "#ed7953"
            ],
            [
             0.7777777777777778,
             "#fb9f3a"
            ],
            [
             0.8888888888888888,
             "#fdca26"
            ],
            [
             1,
             "#f0f921"
            ]
           ],
           "sequentialminus": [
            [
             0,
             "#0d0887"
            ],
            [
             0.1111111111111111,
             "#46039f"
            ],
            [
             0.2222222222222222,
             "#7201a8"
            ],
            [
             0.3333333333333333,
             "#9c179e"
            ],
            [
             0.4444444444444444,
             "#bd3786"
            ],
            [
             0.5555555555555556,
             "#d8576b"
            ],
            [
             0.6666666666666666,
             "#ed7953"
            ],
            [
             0.7777777777777778,
             "#fb9f3a"
            ],
            [
             0.8888888888888888,
             "#fdca26"
            ],
            [
             1,
             "#f0f921"
            ]
           ]
          },
          "colorway": [
           "#636efa",
           "#EF553B",
           "#00cc96",
           "#ab63fa",
           "#FFA15A",
           "#19d3f3",
           "#FF6692",
           "#B6E880",
           "#FF97FF",
           "#FECB52"
          ],
          "font": {
           "color": "#2a3f5f"
          },
          "geo": {
           "bgcolor": "white",
           "lakecolor": "white",
           "landcolor": "#E5ECF6",
           "showlakes": true,
           "showland": true,
           "subunitcolor": "white"
          },
          "hoverlabel": {
           "align": "left"
          },
          "hovermode": "closest",
          "mapbox": {
           "style": "light"
          },
          "paper_bgcolor": "white",
          "plot_bgcolor": "#E5ECF6",
          "polar": {
           "angularaxis": {
            "gridcolor": "white",
            "linecolor": "white",
            "ticks": ""
           },
           "bgcolor": "#E5ECF6",
           "radialaxis": {
            "gridcolor": "white",
            "linecolor": "white",
            "ticks": ""
           }
          },
          "scene": {
           "xaxis": {
            "backgroundcolor": "#E5ECF6",
            "gridcolor": "white",
            "gridwidth": 2,
            "linecolor": "white",
            "showbackground": true,
            "ticks": "",
            "zerolinecolor": "white"
           },
           "yaxis": {
            "backgroundcolor": "#E5ECF6",
            "gridcolor": "white",
            "gridwidth": 2,
            "linecolor": "white",
            "showbackground": true,
            "ticks": "",
            "zerolinecolor": "white"
           },
           "zaxis": {
            "backgroundcolor": "#E5ECF6",
            "gridcolor": "white",
            "gridwidth": 2,
            "linecolor": "white",
            "showbackground": true,
            "ticks": "",
            "zerolinecolor": "white"
           }
          },
          "shapedefaults": {
           "line": {
            "color": "#2a3f5f"
           }
          },
          "ternary": {
           "aaxis": {
            "gridcolor": "white",
            "linecolor": "white",
            "ticks": ""
           },
           "baxis": {
            "gridcolor": "white",
            "linecolor": "white",
            "ticks": ""
           },
           "bgcolor": "#E5ECF6",
           "caxis": {
            "gridcolor": "white",
            "linecolor": "white",
            "ticks": ""
           }
          },
          "title": {
           "x": 0.05
          },
          "xaxis": {
           "automargin": true,
           "gridcolor": "white",
           "linecolor": "white",
           "ticks": "",
           "title": {
            "standoff": 15
           },
           "zerolinecolor": "white",
           "zerolinewidth": 2
          },
          "yaxis": {
           "automargin": true,
           "gridcolor": "white",
           "linecolor": "white",
           "ticks": "",
           "title": {
            "standoff": 15
           },
           "zerolinecolor": "white",
           "zerolinewidth": 2
          }
         }
        },
        "title": {
         "text": "Total Deaths by Accidents over the Years"
        },
        "width": 500,
        "xaxis": {
         "anchor": "y",
         "domain": [
          0,
          1
         ],
         "title": {
          "text": "Year"
         }
        },
        "yaxis": {
         "anchor": "x",
         "domain": [
          0,
          1
         ],
         "title": {
          "text": "Total Deaths"
         }
        }
       }
      }
     },
     "metadata": {},
     "output_type": "display_data"
    }
   ],
   "source": [
    "# Calculate total deaths by \"Accidents (unintentional injuries) [V01-X59, Y85-Y86]\" over the years\n",
    "deaths_by_accidents = df.filter(df[\"Leading_Cause_Of_Death\"] == \"Accidents (unintentional injuries) [V01-X59, Y85-Y86]\").groupBy('Year').agg(sum('Death_Count').alias('Total Deaths')).orderBy('Year')\n",
    "\n",
    "# Create a line plot\n",
    "fig = px.line(deaths_by_accidents, x='Year', y='Total Deaths', title='Total Deaths by Accidents over the Years', width=500, height=500)\n",
    "\n",
    "# Show the plot\n",
    "fig.show()"
   ]
  },
  {
   "cell_type": "code",
   "execution_count": 152,
   "metadata": {},
   "outputs": [
    {
     "data": {
      "application/vnd.plotly.v1+json": {
       "config": {
        "plotlyServerURL": "https://plot.ly"
       },
       "data": [
        {
         "hovertemplate": "Year=%{x}<br>Total Deaths=%{y}<extra></extra>",
         "legendgroup": "",
         "line": {
          "color": "#636efa",
          "dash": "solid"
         },
         "marker": {
          "symbol": "circle"
         },
         "mode": "lines",
         "name": "",
         "orientation": "v",
         "showlegend": false,
         "type": "scatter",
         "x": [
          2017,
          2018,
          2019,
          2020,
          2021,
          2022
         ],
         "xaxis": "x",
         "y": [
          null,
          null,
          null,
          15890,
          14464,
          19711
         ],
         "yaxis": "y"
        }
       ],
       "layout": {
        "height": 500,
        "legend": {
         "tracegroupgap": 0
        },
        "template": {
         "data": {
          "bar": [
           {
            "error_x": {
             "color": "#2a3f5f"
            },
            "error_y": {
             "color": "#2a3f5f"
            },
            "marker": {
             "line": {
              "color": "#E5ECF6",
              "width": 0.5
             },
             "pattern": {
              "fillmode": "overlay",
              "size": 10,
              "solidity": 0.2
             }
            },
            "type": "bar"
           }
          ],
          "barpolar": [
           {
            "marker": {
             "line": {
              "color": "#E5ECF6",
              "width": 0.5
             },
             "pattern": {
              "fillmode": "overlay",
              "size": 10,
              "solidity": 0.2
             }
            },
            "type": "barpolar"
           }
          ],
          "carpet": [
           {
            "aaxis": {
             "endlinecolor": "#2a3f5f",
             "gridcolor": "white",
             "linecolor": "white",
             "minorgridcolor": "white",
             "startlinecolor": "#2a3f5f"
            },
            "baxis": {
             "endlinecolor": "#2a3f5f",
             "gridcolor": "white",
             "linecolor": "white",
             "minorgridcolor": "white",
             "startlinecolor": "#2a3f5f"
            },
            "type": "carpet"
           }
          ],
          "choropleth": [
           {
            "colorbar": {
             "outlinewidth": 0,
             "ticks": ""
            },
            "type": "choropleth"
           }
          ],
          "contour": [
           {
            "colorbar": {
             "outlinewidth": 0,
             "ticks": ""
            },
            "colorscale": [
             [
              0,
              "#0d0887"
             ],
             [
              0.1111111111111111,
              "#46039f"
             ],
             [
              0.2222222222222222,
              "#7201a8"
             ],
             [
              0.3333333333333333,
              "#9c179e"
             ],
             [
              0.4444444444444444,
              "#bd3786"
             ],
             [
              0.5555555555555556,
              "#d8576b"
             ],
             [
              0.6666666666666666,
              "#ed7953"
             ],
             [
              0.7777777777777778,
              "#fb9f3a"
             ],
             [
              0.8888888888888888,
              "#fdca26"
             ],
             [
              1,
              "#f0f921"
             ]
            ],
            "type": "contour"
           }
          ],
          "contourcarpet": [
           {
            "colorbar": {
             "outlinewidth": 0,
             "ticks": ""
            },
            "type": "contourcarpet"
           }
          ],
          "heatmap": [
           {
            "colorbar": {
             "outlinewidth": 0,
             "ticks": ""
            },
            "colorscale": [
             [
              0,
              "#0d0887"
             ],
             [
              0.1111111111111111,
              "#46039f"
             ],
             [
              0.2222222222222222,
              "#7201a8"
             ],
             [
              0.3333333333333333,
              "#9c179e"
             ],
             [
              0.4444444444444444,
              "#bd3786"
             ],
             [
              0.5555555555555556,
              "#d8576b"
             ],
             [
              0.6666666666666666,
              "#ed7953"
             ],
             [
              0.7777777777777778,
              "#fb9f3a"
             ],
             [
              0.8888888888888888,
              "#fdca26"
             ],
             [
              1,
              "#f0f921"
             ]
            ],
            "type": "heatmap"
           }
          ],
          "heatmapgl": [
           {
            "colorbar": {
             "outlinewidth": 0,
             "ticks": ""
            },
            "colorscale": [
             [
              0,
              "#0d0887"
             ],
             [
              0.1111111111111111,
              "#46039f"
             ],
             [
              0.2222222222222222,
              "#7201a8"
             ],
             [
              0.3333333333333333,
              "#9c179e"
             ],
             [
              0.4444444444444444,
              "#bd3786"
             ],
             [
              0.5555555555555556,
              "#d8576b"
             ],
             [
              0.6666666666666666,
              "#ed7953"
             ],
             [
              0.7777777777777778,
              "#fb9f3a"
             ],
             [
              0.8888888888888888,
              "#fdca26"
             ],
             [
              1,
              "#f0f921"
             ]
            ],
            "type": "heatmapgl"
           }
          ],
          "histogram": [
           {
            "marker": {
             "pattern": {
              "fillmode": "overlay",
              "size": 10,
              "solidity": 0.2
             }
            },
            "type": "histogram"
           }
          ],
          "histogram2d": [
           {
            "colorbar": {
             "outlinewidth": 0,
             "ticks": ""
            },
            "colorscale": [
             [
              0,
              "#0d0887"
             ],
             [
              0.1111111111111111,
              "#46039f"
             ],
             [
              0.2222222222222222,
              "#7201a8"
             ],
             [
              0.3333333333333333,
              "#9c179e"
             ],
             [
              0.4444444444444444,
              "#bd3786"
             ],
             [
              0.5555555555555556,
              "#d8576b"
             ],
             [
              0.6666666666666666,
              "#ed7953"
             ],
             [
              0.7777777777777778,
              "#fb9f3a"
             ],
             [
              0.8888888888888888,
              "#fdca26"
             ],
             [
              1,
              "#f0f921"
             ]
            ],
            "type": "histogram2d"
           }
          ],
          "histogram2dcontour": [
           {
            "colorbar": {
             "outlinewidth": 0,
             "ticks": ""
            },
            "colorscale": [
             [
              0,
              "#0d0887"
             ],
             [
              0.1111111111111111,
              "#46039f"
             ],
             [
              0.2222222222222222,
              "#7201a8"
             ],
             [
              0.3333333333333333,
              "#9c179e"
             ],
             [
              0.4444444444444444,
              "#bd3786"
             ],
             [
              0.5555555555555556,
              "#d8576b"
             ],
             [
              0.6666666666666666,
              "#ed7953"
             ],
             [
              0.7777777777777778,
              "#fb9f3a"
             ],
             [
              0.8888888888888888,
              "#fdca26"
             ],
             [
              1,
              "#f0f921"
             ]
            ],
            "type": "histogram2dcontour"
           }
          ],
          "mesh3d": [
           {
            "colorbar": {
             "outlinewidth": 0,
             "ticks": ""
            },
            "type": "mesh3d"
           }
          ],
          "parcoords": [
           {
            "line": {
             "colorbar": {
              "outlinewidth": 0,
              "ticks": ""
             }
            },
            "type": "parcoords"
           }
          ],
          "pie": [
           {
            "automargin": true,
            "type": "pie"
           }
          ],
          "scatter": [
           {
            "fillpattern": {
             "fillmode": "overlay",
             "size": 10,
             "solidity": 0.2
            },
            "type": "scatter"
           }
          ],
          "scatter3d": [
           {
            "line": {
             "colorbar": {
              "outlinewidth": 0,
              "ticks": ""
             }
            },
            "marker": {
             "colorbar": {
              "outlinewidth": 0,
              "ticks": ""
             }
            },
            "type": "scatter3d"
           }
          ],
          "scattercarpet": [
           {
            "marker": {
             "colorbar": {
              "outlinewidth": 0,
              "ticks": ""
             }
            },
            "type": "scattercarpet"
           }
          ],
          "scattergeo": [
           {
            "marker": {
             "colorbar": {
              "outlinewidth": 0,
              "ticks": ""
             }
            },
            "type": "scattergeo"
           }
          ],
          "scattergl": [
           {
            "marker": {
             "colorbar": {
              "outlinewidth": 0,
              "ticks": ""
             }
            },
            "type": "scattergl"
           }
          ],
          "scattermapbox": [
           {
            "marker": {
             "colorbar": {
              "outlinewidth": 0,
              "ticks": ""
             }
            },
            "type": "scattermapbox"
           }
          ],
          "scatterpolar": [
           {
            "marker": {
             "colorbar": {
              "outlinewidth": 0,
              "ticks": ""
             }
            },
            "type": "scatterpolar"
           }
          ],
          "scatterpolargl": [
           {
            "marker": {
             "colorbar": {
              "outlinewidth": 0,
              "ticks": ""
             }
            },
            "type": "scatterpolargl"
           }
          ],
          "scatterternary": [
           {
            "marker": {
             "colorbar": {
              "outlinewidth": 0,
              "ticks": ""
             }
            },
            "type": "scatterternary"
           }
          ],
          "surface": [
           {
            "colorbar": {
             "outlinewidth": 0,
             "ticks": ""
            },
            "colorscale": [
             [
              0,
              "#0d0887"
             ],
             [
              0.1111111111111111,
              "#46039f"
             ],
             [
              0.2222222222222222,
              "#7201a8"
             ],
             [
              0.3333333333333333,
              "#9c179e"
             ],
             [
              0.4444444444444444,
              "#bd3786"
             ],
             [
              0.5555555555555556,
              "#d8576b"
             ],
             [
              0.6666666666666666,
              "#ed7953"
             ],
             [
              0.7777777777777778,
              "#fb9f3a"
             ],
             [
              0.8888888888888888,
              "#fdca26"
             ],
             [
              1,
              "#f0f921"
             ]
            ],
            "type": "surface"
           }
          ],
          "table": [
           {
            "cells": {
             "fill": {
              "color": "#EBF0F8"
             },
             "line": {
              "color": "white"
             }
            },
            "header": {
             "fill": {
              "color": "#C8D4E3"
             },
             "line": {
              "color": "white"
             }
            },
            "type": "table"
           }
          ]
         },
         "layout": {
          "annotationdefaults": {
           "arrowcolor": "#2a3f5f",
           "arrowhead": 0,
           "arrowwidth": 1
          },
          "autotypenumbers": "strict",
          "coloraxis": {
           "colorbar": {
            "outlinewidth": 0,
            "ticks": ""
           }
          },
          "colorscale": {
           "diverging": [
            [
             0,
             "#8e0152"
            ],
            [
             0.1,
             "#c51b7d"
            ],
            [
             0.2,
             "#de77ae"
            ],
            [
             0.3,
             "#f1b6da"
            ],
            [
             0.4,
             "#fde0ef"
            ],
            [
             0.5,
             "#f7f7f7"
            ],
            [
             0.6,
             "#e6f5d0"
            ],
            [
             0.7,
             "#b8e186"
            ],
            [
             0.8,
             "#7fbc41"
            ],
            [
             0.9,
             "#4d9221"
            ],
            [
             1,
             "#276419"
            ]
           ],
           "sequential": [
            [
             0,
             "#0d0887"
            ],
            [
             0.1111111111111111,
             "#46039f"
            ],
            [
             0.2222222222222222,
             "#7201a8"
            ],
            [
             0.3333333333333333,
             "#9c179e"
            ],
            [
             0.4444444444444444,
             "#bd3786"
            ],
            [
             0.5555555555555556,
             "#d8576b"
            ],
            [
             0.6666666666666666,
             "#ed7953"
            ],
            [
             0.7777777777777778,
             "#fb9f3a"
            ],
            [
             0.8888888888888888,
             "#fdca26"
            ],
            [
             1,
             "#f0f921"
            ]
           ],
           "sequentialminus": [
            [
             0,
             "#0d0887"
            ],
            [
             0.1111111111111111,
             "#46039f"
            ],
            [
             0.2222222222222222,
             "#7201a8"
            ],
            [
             0.3333333333333333,
             "#9c179e"
            ],
            [
             0.4444444444444444,
             "#bd3786"
            ],
            [
             0.5555555555555556,
             "#d8576b"
            ],
            [
             0.6666666666666666,
             "#ed7953"
            ],
            [
             0.7777777777777778,
             "#fb9f3a"
            ],
            [
             0.8888888888888888,
             "#fdca26"
            ],
            [
             1,
             "#f0f921"
            ]
           ]
          },
          "colorway": [
           "#636efa",
           "#EF553B",
           "#00cc96",
           "#ab63fa",
           "#FFA15A",
           "#19d3f3",
           "#FF6692",
           "#B6E880",
           "#FF97FF",
           "#FECB52"
          ],
          "font": {
           "color": "#2a3f5f"
          },
          "geo": {
           "bgcolor": "white",
           "lakecolor": "white",
           "landcolor": "#E5ECF6",
           "showlakes": true,
           "showland": true,
           "subunitcolor": "white"
          },
          "hoverlabel": {
           "align": "left"
          },
          "hovermode": "closest",
          "mapbox": {
           "style": "light"
          },
          "paper_bgcolor": "white",
          "plot_bgcolor": "#E5ECF6",
          "polar": {
           "angularaxis": {
            "gridcolor": "white",
            "linecolor": "white",
            "ticks": ""
           },
           "bgcolor": "#E5ECF6",
           "radialaxis": {
            "gridcolor": "white",
            "linecolor": "white",
            "ticks": ""
           }
          },
          "scene": {
           "xaxis": {
            "backgroundcolor": "#E5ECF6",
            "gridcolor": "white",
            "gridwidth": 2,
            "linecolor": "white",
            "showbackground": true,
            "ticks": "",
            "zerolinecolor": "white"
           },
           "yaxis": {
            "backgroundcolor": "#E5ECF6",
            "gridcolor": "white",
            "gridwidth": 2,
            "linecolor": "white",
            "showbackground": true,
            "ticks": "",
            "zerolinecolor": "white"
           },
           "zaxis": {
            "backgroundcolor": "#E5ECF6",
            "gridcolor": "white",
            "gridwidth": 2,
            "linecolor": "white",
            "showbackground": true,
            "ticks": "",
            "zerolinecolor": "white"
           }
          },
          "shapedefaults": {
           "line": {
            "color": "#2a3f5f"
           }
          },
          "ternary": {
           "aaxis": {
            "gridcolor": "white",
            "linecolor": "white",
            "ticks": ""
           },
           "baxis": {
            "gridcolor": "white",
            "linecolor": "white",
            "ticks": ""
           },
           "bgcolor": "#E5ECF6",
           "caxis": {
            "gridcolor": "white",
            "linecolor": "white",
            "ticks": ""
           }
          },
          "title": {
           "x": 0.05
          },
          "xaxis": {
           "automargin": true,
           "gridcolor": "white",
           "linecolor": "white",
           "ticks": "",
           "title": {
            "standoff": 15
           },
           "zerolinecolor": "white",
           "zerolinewidth": 2
          },
          "yaxis": {
           "automargin": true,
           "gridcolor": "white",
           "linecolor": "white",
           "ticks": "",
           "title": {
            "standoff": 15
           },
           "zerolinecolor": "white",
           "zerolinewidth": 2
          }
         }
        },
        "title": {
         "text": "Total Deaths by COVID-19 over the Years"
        },
        "width": 500,
        "xaxis": {
         "anchor": "y",
         "domain": [
          0,
          1
         ],
         "title": {
          "text": "Year"
         }
        },
        "yaxis": {
         "anchor": "x",
         "domain": [
          0,
          1
         ],
         "title": {
          "text": "Total Deaths"
         }
        }
       }
      }
     },
     "metadata": {},
     "output_type": "display_data"
    }
   ],
   "source": [
    "# Calculate total deaths by \"COVID-19 [U07.1, U07.2, U10.9]\" over the years\n",
    "deaths_by_covid = df.filter(df[\"Leading_Cause_Of_Death\"] == \"COVID-19 [U07.1, U07.2, U10.9]\").groupBy('Year').agg(sum('Death_Count').alias('Total Deaths')).orderBy('Year')\n",
    "\n",
    "# Create a line plot\n",
    "fig = px.line(deaths_by_covid, x='Year', y='Total Deaths', title='Total Deaths by COVID-19 over the Years', width=500, height=500)\n",
    "\n",
    "# Show the plot\n",
    "fig.show()"
   ]
  },
  {
   "cell_type": "code",
   "execution_count": 145,
   "metadata": {},
   "outputs": [
    {
     "data": {
      "application/vnd.plotly.v1+json": {
       "config": {
        "plotlyServerURL": "https://plot.ly"
       },
       "data": [
        {
         "hovertemplate": "Leading_Cause_Of_Death=COVID-19 [U07.1, U07.2, U10.9]<br>Year=%{x}<br>Total Deaths=%{y}<extra></extra>",
         "legendgroup": "COVID-19 [U07.1, U07.2, U10.9]",
         "line": {
          "color": "#636efa",
          "dash": "solid"
         },
         "marker": {
          "symbol": "circle"
         },
         "mode": "lines",
         "name": "COVID-19 [U07.1, U07.2, U10.9]",
         "orientation": "v",
         "showlegend": true,
         "type": "scatter",
         "x": [
          2019,
          2020,
          2021,
          2022
         ],
         "xaxis": "x",
         "y": [
          null,
          15890,
          14464,
          19711
         ],
         "yaxis": "y"
        },
        {
         "hovertemplate": "Leading_Cause_Of_Death=Influenza and pneumonia [J09-J18]<br>Year=%{x}<br>Total Deaths=%{y}<extra></extra>",
         "legendgroup": "Influenza and pneumonia [J09-J18]",
         "line": {
          "color": "#EF553B",
          "dash": "solid"
         },
         "marker": {
          "symbol": "circle"
         },
         "mode": "lines",
         "name": "Influenza and pneumonia [J09-J18]",
         "orientation": "v",
         "showlegend": true,
         "type": "scatter",
         "x": [
          2019,
          2020,
          2021,
          2022
         ],
         "xaxis": "x",
         "y": [
          6933,
          6034,
          4114,
          5978
         ],
         "yaxis": "y"
        }
       ],
       "layout": {
        "legend": {
         "title": {
          "text": "Leading_Cause_Of_Death"
         },
         "tracegroupgap": 0
        },
        "template": {
         "data": {
          "bar": [
           {
            "error_x": {
             "color": "#2a3f5f"
            },
            "error_y": {
             "color": "#2a3f5f"
            },
            "marker": {
             "line": {
              "color": "#E5ECF6",
              "width": 0.5
             },
             "pattern": {
              "fillmode": "overlay",
              "size": 10,
              "solidity": 0.2
             }
            },
            "type": "bar"
           }
          ],
          "barpolar": [
           {
            "marker": {
             "line": {
              "color": "#E5ECF6",
              "width": 0.5
             },
             "pattern": {
              "fillmode": "overlay",
              "size": 10,
              "solidity": 0.2
             }
            },
            "type": "barpolar"
           }
          ],
          "carpet": [
           {
            "aaxis": {
             "endlinecolor": "#2a3f5f",
             "gridcolor": "white",
             "linecolor": "white",
             "minorgridcolor": "white",
             "startlinecolor": "#2a3f5f"
            },
            "baxis": {
             "endlinecolor": "#2a3f5f",
             "gridcolor": "white",
             "linecolor": "white",
             "minorgridcolor": "white",
             "startlinecolor": "#2a3f5f"
            },
            "type": "carpet"
           }
          ],
          "choropleth": [
           {
            "colorbar": {
             "outlinewidth": 0,
             "ticks": ""
            },
            "type": "choropleth"
           }
          ],
          "contour": [
           {
            "colorbar": {
             "outlinewidth": 0,
             "ticks": ""
            },
            "colorscale": [
             [
              0,
              "#0d0887"
             ],
             [
              0.1111111111111111,
              "#46039f"
             ],
             [
              0.2222222222222222,
              "#7201a8"
             ],
             [
              0.3333333333333333,
              "#9c179e"
             ],
             [
              0.4444444444444444,
              "#bd3786"
             ],
             [
              0.5555555555555556,
              "#d8576b"
             ],
             [
              0.6666666666666666,
              "#ed7953"
             ],
             [
              0.7777777777777778,
              "#fb9f3a"
             ],
             [
              0.8888888888888888,
              "#fdca26"
             ],
             [
              1,
              "#f0f921"
             ]
            ],
            "type": "contour"
           }
          ],
          "contourcarpet": [
           {
            "colorbar": {
             "outlinewidth": 0,
             "ticks": ""
            },
            "type": "contourcarpet"
           }
          ],
          "heatmap": [
           {
            "colorbar": {
             "outlinewidth": 0,
             "ticks": ""
            },
            "colorscale": [
             [
              0,
              "#0d0887"
             ],
             [
              0.1111111111111111,
              "#46039f"
             ],
             [
              0.2222222222222222,
              "#7201a8"
             ],
             [
              0.3333333333333333,
              "#9c179e"
             ],
             [
              0.4444444444444444,
              "#bd3786"
             ],
             [
              0.5555555555555556,
              "#d8576b"
             ],
             [
              0.6666666666666666,
              "#ed7953"
             ],
             [
              0.7777777777777778,
              "#fb9f3a"
             ],
             [
              0.8888888888888888,
              "#fdca26"
             ],
             [
              1,
              "#f0f921"
             ]
            ],
            "type": "heatmap"
           }
          ],
          "heatmapgl": [
           {
            "colorbar": {
             "outlinewidth": 0,
             "ticks": ""
            },
            "colorscale": [
             [
              0,
              "#0d0887"
             ],
             [
              0.1111111111111111,
              "#46039f"
             ],
             [
              0.2222222222222222,
              "#7201a8"
             ],
             [
              0.3333333333333333,
              "#9c179e"
             ],
             [
              0.4444444444444444,
              "#bd3786"
             ],
             [
              0.5555555555555556,
              "#d8576b"
             ],
             [
              0.6666666666666666,
              "#ed7953"
             ],
             [
              0.7777777777777778,
              "#fb9f3a"
             ],
             [
              0.8888888888888888,
              "#fdca26"
             ],
             [
              1,
              "#f0f921"
             ]
            ],
            "type": "heatmapgl"
           }
          ],
          "histogram": [
           {
            "marker": {
             "pattern": {
              "fillmode": "overlay",
              "size": 10,
              "solidity": 0.2
             }
            },
            "type": "histogram"
           }
          ],
          "histogram2d": [
           {
            "colorbar": {
             "outlinewidth": 0,
             "ticks": ""
            },
            "colorscale": [
             [
              0,
              "#0d0887"
             ],
             [
              0.1111111111111111,
              "#46039f"
             ],
             [
              0.2222222222222222,
              "#7201a8"
             ],
             [
              0.3333333333333333,
              "#9c179e"
             ],
             [
              0.4444444444444444,
              "#bd3786"
             ],
             [
              0.5555555555555556,
              "#d8576b"
             ],
             [
              0.6666666666666666,
              "#ed7953"
             ],
             [
              0.7777777777777778,
              "#fb9f3a"
             ],
             [
              0.8888888888888888,
              "#fdca26"
             ],
             [
              1,
              "#f0f921"
             ]
            ],
            "type": "histogram2d"
           }
          ],
          "histogram2dcontour": [
           {
            "colorbar": {
             "outlinewidth": 0,
             "ticks": ""
            },
            "colorscale": [
             [
              0,
              "#0d0887"
             ],
             [
              0.1111111111111111,
              "#46039f"
             ],
             [
              0.2222222222222222,
              "#7201a8"
             ],
             [
              0.3333333333333333,
              "#9c179e"
             ],
             [
              0.4444444444444444,
              "#bd3786"
             ],
             [
              0.5555555555555556,
              "#d8576b"
             ],
             [
              0.6666666666666666,
              "#ed7953"
             ],
             [
              0.7777777777777778,
              "#fb9f3a"
             ],
             [
              0.8888888888888888,
              "#fdca26"
             ],
             [
              1,
              "#f0f921"
             ]
            ],
            "type": "histogram2dcontour"
           }
          ],
          "mesh3d": [
           {
            "colorbar": {
             "outlinewidth": 0,
             "ticks": ""
            },
            "type": "mesh3d"
           }
          ],
          "parcoords": [
           {
            "line": {
             "colorbar": {
              "outlinewidth": 0,
              "ticks": ""
             }
            },
            "type": "parcoords"
           }
          ],
          "pie": [
           {
            "automargin": true,
            "type": "pie"
           }
          ],
          "scatter": [
           {
            "fillpattern": {
             "fillmode": "overlay",
             "size": 10,
             "solidity": 0.2
            },
            "type": "scatter"
           }
          ],
          "scatter3d": [
           {
            "line": {
             "colorbar": {
              "outlinewidth": 0,
              "ticks": ""
             }
            },
            "marker": {
             "colorbar": {
              "outlinewidth": 0,
              "ticks": ""
             }
            },
            "type": "scatter3d"
           }
          ],
          "scattercarpet": [
           {
            "marker": {
             "colorbar": {
              "outlinewidth": 0,
              "ticks": ""
             }
            },
            "type": "scattercarpet"
           }
          ],
          "scattergeo": [
           {
            "marker": {
             "colorbar": {
              "outlinewidth": 0,
              "ticks": ""
             }
            },
            "type": "scattergeo"
           }
          ],
          "scattergl": [
           {
            "marker": {
             "colorbar": {
              "outlinewidth": 0,
              "ticks": ""
             }
            },
            "type": "scattergl"
           }
          ],
          "scattermapbox": [
           {
            "marker": {
             "colorbar": {
              "outlinewidth": 0,
              "ticks": ""
             }
            },
            "type": "scattermapbox"
           }
          ],
          "scatterpolar": [
           {
            "marker": {
             "colorbar": {
              "outlinewidth": 0,
              "ticks": ""
             }
            },
            "type": "scatterpolar"
           }
          ],
          "scatterpolargl": [
           {
            "marker": {
             "colorbar": {
              "outlinewidth": 0,
              "ticks": ""
             }
            },
            "type": "scatterpolargl"
           }
          ],
          "scatterternary": [
           {
            "marker": {
             "colorbar": {
              "outlinewidth": 0,
              "ticks": ""
             }
            },
            "type": "scatterternary"
           }
          ],
          "surface": [
           {
            "colorbar": {
             "outlinewidth": 0,
             "ticks": ""
            },
            "colorscale": [
             [
              0,
              "#0d0887"
             ],
             [
              0.1111111111111111,
              "#46039f"
             ],
             [
              0.2222222222222222,
              "#7201a8"
             ],
             [
              0.3333333333333333,
              "#9c179e"
             ],
             [
              0.4444444444444444,
              "#bd3786"
             ],
             [
              0.5555555555555556,
              "#d8576b"
             ],
             [
              0.6666666666666666,
              "#ed7953"
             ],
             [
              0.7777777777777778,
              "#fb9f3a"
             ],
             [
              0.8888888888888888,
              "#fdca26"
             ],
             [
              1,
              "#f0f921"
             ]
            ],
            "type": "surface"
           }
          ],
          "table": [
           {
            "cells": {
             "fill": {
              "color": "#EBF0F8"
             },
             "line": {
              "color": "white"
             }
            },
            "header": {
             "fill": {
              "color": "#C8D4E3"
             },
             "line": {
              "color": "white"
             }
            },
            "type": "table"
           }
          ]
         },
         "layout": {
          "annotationdefaults": {
           "arrowcolor": "#2a3f5f",
           "arrowhead": 0,
           "arrowwidth": 1
          },
          "autotypenumbers": "strict",
          "coloraxis": {
           "colorbar": {
            "outlinewidth": 0,
            "ticks": ""
           }
          },
          "colorscale": {
           "diverging": [
            [
             0,
             "#8e0152"
            ],
            [
             0.1,
             "#c51b7d"
            ],
            [
             0.2,
             "#de77ae"
            ],
            [
             0.3,
             "#f1b6da"
            ],
            [
             0.4,
             "#fde0ef"
            ],
            [
             0.5,
             "#f7f7f7"
            ],
            [
             0.6,
             "#e6f5d0"
            ],
            [
             0.7,
             "#b8e186"
            ],
            [
             0.8,
             "#7fbc41"
            ],
            [
             0.9,
             "#4d9221"
            ],
            [
             1,
             "#276419"
            ]
           ],
           "sequential": [
            [
             0,
             "#0d0887"
            ],
            [
             0.1111111111111111,
             "#46039f"
            ],
            [
             0.2222222222222222,
             "#7201a8"
            ],
            [
             0.3333333333333333,
             "#9c179e"
            ],
            [
             0.4444444444444444,
             "#bd3786"
            ],
            [
             0.5555555555555556,
             "#d8576b"
            ],
            [
             0.6666666666666666,
             "#ed7953"
            ],
            [
             0.7777777777777778,
             "#fb9f3a"
            ],
            [
             0.8888888888888888,
             "#fdca26"
            ],
            [
             1,
             "#f0f921"
            ]
           ],
           "sequentialminus": [
            [
             0,
             "#0d0887"
            ],
            [
             0.1111111111111111,
             "#46039f"
            ],
            [
             0.2222222222222222,
             "#7201a8"
            ],
            [
             0.3333333333333333,
             "#9c179e"
            ],
            [
             0.4444444444444444,
             "#bd3786"
            ],
            [
             0.5555555555555556,
             "#d8576b"
            ],
            [
             0.6666666666666666,
             "#ed7953"
            ],
            [
             0.7777777777777778,
             "#fb9f3a"
            ],
            [
             0.8888888888888888,
             "#fdca26"
            ],
            [
             1,
             "#f0f921"
            ]
           ]
          },
          "colorway": [
           "#636efa",
           "#EF553B",
           "#00cc96",
           "#ab63fa",
           "#FFA15A",
           "#19d3f3",
           "#FF6692",
           "#B6E880",
           "#FF97FF",
           "#FECB52"
          ],
          "font": {
           "color": "#2a3f5f"
          },
          "geo": {
           "bgcolor": "white",
           "lakecolor": "white",
           "landcolor": "#E5ECF6",
           "showlakes": true,
           "showland": true,
           "subunitcolor": "white"
          },
          "hoverlabel": {
           "align": "left"
          },
          "hovermode": "closest",
          "mapbox": {
           "style": "light"
          },
          "paper_bgcolor": "white",
          "plot_bgcolor": "#E5ECF6",
          "polar": {
           "angularaxis": {
            "gridcolor": "white",
            "linecolor": "white",
            "ticks": ""
           },
           "bgcolor": "#E5ECF6",
           "radialaxis": {
            "gridcolor": "white",
            "linecolor": "white",
            "ticks": ""
           }
          },
          "scene": {
           "xaxis": {
            "backgroundcolor": "#E5ECF6",
            "gridcolor": "white",
            "gridwidth": 2,
            "linecolor": "white",
            "showbackground": true,
            "ticks": "",
            "zerolinecolor": "white"
           },
           "yaxis": {
            "backgroundcolor": "#E5ECF6",
            "gridcolor": "white",
            "gridwidth": 2,
            "linecolor": "white",
            "showbackground": true,
            "ticks": "",
            "zerolinecolor": "white"
           },
           "zaxis": {
            "backgroundcolor": "#E5ECF6",
            "gridcolor": "white",
            "gridwidth": 2,
            "linecolor": "white",
            "showbackground": true,
            "ticks": "",
            "zerolinecolor": "white"
           }
          },
          "shapedefaults": {
           "line": {
            "color": "#2a3f5f"
           }
          },
          "ternary": {
           "aaxis": {
            "gridcolor": "white",
            "linecolor": "white",
            "ticks": ""
           },
           "baxis": {
            "gridcolor": "white",
            "linecolor": "white",
            "ticks": ""
           },
           "bgcolor": "#E5ECF6",
           "caxis": {
            "gridcolor": "white",
            "linecolor": "white",
            "ticks": ""
           }
          },
          "title": {
           "x": 0.05
          },
          "xaxis": {
           "automargin": true,
           "gridcolor": "white",
           "linecolor": "white",
           "ticks": "",
           "title": {
            "standoff": 15
           },
           "zerolinecolor": "white",
           "zerolinewidth": 2
          },
          "yaxis": {
           "automargin": true,
           "gridcolor": "white",
           "linecolor": "white",
           "ticks": "",
           "title": {
            "standoff": 15
           },
           "zerolinecolor": "white",
           "zerolinewidth": 2
          }
         }
        },
        "title": {
         "text": "Total Deaths by Leading Cause of Death (2017-2022)"
        },
        "xaxis": {
         "anchor": "y",
         "domain": [
          0,
          1
         ],
         "title": {
          "text": "Year"
         }
        },
        "yaxis": {
         "anchor": "x",
         "domain": [
          0,
          1
         ],
         "title": {
          "text": "Total Deaths"
         }
        }
       }
      }
     },
     "metadata": {},
     "output_type": "display_data"
    }
   ],
   "source": [
    "# Only select years between 2017 and 2022\n",
    "selected_years = deaths_by_cause_year.filter((df['Year'] >= 2019) & (df['Year'] <= 2022)).orderBy('Year')\n",
    "\n",
    "# Only select COVID-19, Chronic lower respiratory diseases, and Influenza and pneumonia as the leading cause of death\n",
    "selected_causes = selected_years.filter((df['Leading_Cause_Of_Death'] == 'COVID-19 [U07.1, U07.2, U10.9]') | (df['Leading_Cause_Of_Death'] == 'Influenza and pneumonia [J09-J18]'))\n",
    "\n",
    "# Create a line plot\n",
    "fig = px.line(selected_causes.toPandas(), x='Year', y='Total Deaths', color='Leading_Cause_Of_Death', title='Total Deaths by Leading Cause of Death (2017-2022)')\n",
    "fig.show()"
   ]
  },
  {
   "cell_type": "markdown",
   "metadata": {},
   "source": [
    "-----------------------------------------------------------------------------------------\n",
    "#### <p style = \"text-align: center; font-weight: bold;\">Forecasting</p>\n",
    "-----------------------------------------------------------------------------------------"
   ]
  },
  {
   "cell_type": "code",
   "execution_count": 155,
   "metadata": {},
   "outputs": [
    {
     "name": "stderr",
     "output_type": "stream",
     "text": [
      "24/04/11 03:40:46 WARN Instrumentation: [41ca052a] regParam is zero, which might cause numerical instability and overfitting.\n"
     ]
    },
    {
     "data": {
      "image/png": "[encoded data removed]",
      "text/plain": [
       "<Figure size 1500x600 with 1 Axes>"
      ]
     },
     "metadata": {},
     "output_type": "display_data"
    }
   ],
   "source": [
    "from pyspark.ml.feature import VectorAssembler\n",
    "from pyspark.ml.regression import LinearRegression\n",
    "import matplotlib.pyplot as plt\n",
    "\n",
    "# Prepare the data by creating a feature vector and label column\n",
    "assembler = VectorAssembler(inputCols=[\"Year\"], outputCol=\"features\")\n",
    "data = assembler.transform(deaths_by_year)\n",
    "\n",
    "# Train a linear regression model\n",
    "lr = LinearRegression(featuresCol=\"features\", labelCol=\"Total Deaths\")\n",
    "lr_model = lr.fit(data)\n",
    "\n",
    "# Use the trained model to make predictions for the next 5 years\n",
    "future_years = [2023, 2024, 2025, 2026, 2027]\n",
    "future_data = assembler.transform(spark.createDataFrame([(year,) for year in future_years], [\"Year\"]))\n",
    "future_predictions = lr_model.transform(future_data)\n",
    "\n",
    "# Visualize the predicted death rates\n",
    "predictions_pd = data.select(\"Year\", \"Total Deaths\").toPandas()\n",
    "future_predictions_pd = future_predictions.select(\"Year\", \"prediction\").toPandas()\n",
    "\n",
    "plt.figure(figsize=(15, 6))\n",
    "plt.plot(predictions_pd['Year'], predictions_pd['Total Deaths'], label='Actual Total Deaths', marker='o')\n",
    "plt.plot(future_predictions_pd['Year'], future_predictions_pd['prediction'], label='Forecasted Total Deaths', marker='s')\n",
    "plt.title('Actual vs Forecasted Total Deaths')\n",
    "plt.xlabel('Year')\n",
    "plt.ylabel('Total Deaths')\n",
    "plt.legend()\n",
    "plt.grid(True)\n",
    "plt.show()\n"
   ]
  },
  {
   "cell_type": "code",
   "execution_count": 157,
   "metadata": {},
   "outputs": [],
   "source": [
    "# Stopping the spark session\n",
    "spark.stop()"
   ]
  },
  {
   "cell_type": "code",
   "execution_count": 158,
   "metadata": {},
   "outputs": [
    {
     "name": "stdout",
     "output_type": "stream",
     "text": [
      "WARNING: Stopping all Apache Hadoop daemons as bikinghimire in 10 seconds.\n",
      "WARNING: Use CTRL-C to abort.\n",
      "Stopping namenodes on [0.0.0.0]\n",
      "Stopping datanodes\n",
      "Stopping secondary namenodes [Bikins-MacBook-Pro.local]\n",
      "2024-04-11 03:51:53,323 WARN util.NativeCodeLoader: Unable to load native-hadoop library for your platform... using builtin-java classes where applicable\n",
      "Stopping nodemanagers\n",
      "Stopping resourcemanager\n"
     ]
    }
   ],
   "source": [
    "!stop-all.sh"
   ]
  }
 ],
 "metadata": {
  "kernelspec": {
   "display_name": "Python 3",
   "language": "python",
   "name": "python3"
  },
  "language_info": {
   "codemirror_mode": {
    "name": "ipython",
    "version": 3
   },
   "file_extension": ".py",
   "mimetype": "text/x-python",
   "name": "python",
   "nbconvert_exporter": "python",
   "pygments_lexer": "ipython3",
   "version": "3.12.2"
  }
 },
 "nbformat": 4,
 "nbformat_minor": 2
}
